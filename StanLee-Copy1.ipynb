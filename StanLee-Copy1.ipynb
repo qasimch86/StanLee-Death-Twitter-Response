{
 "cells": [
  {
   "cell_type": "code",
   "execution_count": 1,
   "metadata": {},
   "outputs": [],
   "source": [
    "#Group 3\n",
    "#Ali, Qasim\n",
    "#Hidalgo Trujillo, Roberto\n",
    "#Khayrullina, Tatiana\n",
    "#Lee, Jeongseon\n",
    "#Rozko Iwona\n"
   ]
  },
  {
   "cell_type": "code",
   "execution_count": 38,
   "metadata": {},
   "outputs": [],
   "source": [
    "import json\n",
    "import pandas as pd\n",
    "import matplotlib.pyplot as plt\n",
    "from nltk.tokenize import word_tokenize\n",
    "from nltk.corpus import stopwords\n",
    "\n",
    "tweets_data_path = 'stanlee.json'\n",
    "# tweets_data_path = 'stanlee.json'\n",
    "tweets_data = []\n",
    "tweets_file = open(tweets_data_path, \"r\")\n",
    "tweets= pd.DataFrame()\n",
    "#  json Python library to parse the data, and read the data into an array. \n",
    "for line in tweets_file:\n",
    "    try:\n",
    "        tweet = json.loads(line)\n",
    "        tweets_data.append(tweet)\n",
    "    except:\n",
    "        continue\n",
    "\n",
    "tweets['text'] = list(map(lambda tweet: tweet['text'], tweets_data))\n",
    "tweets['lang'] = list(map(lambda tweet: tweet['lang'], tweets_data))\n"
   ]
  },
  {
   "cell_type": "code",
   "execution_count": 39,
   "metadata": {},
   "outputs": [
    {
     "name": "stdout",
     "output_type": "stream",
     "text": [
      "13028\n"
     ]
    }
   ],
   "source": [
    "print (len(tweets_data))"
   ]
  },
  {
   "cell_type": "code",
   "execution_count": 40,
   "metadata": {},
   "outputs": [],
   "source": [
    "import re\n",
    "def word_in_text(word,tweet):\n",
    "    count=0\n",
    "    for tweet in tweets_data:\n",
    "        #tweet['text'].lower()\n",
    "        match = re.search(word, tweet['text'])\n",
    "        if match:\n",
    "            count = count+1   \n",
    "            #print(tweet['text'])\n",
    "    return count"
   ]
  },
  {
   "cell_type": "code",
   "execution_count": 41,
   "metadata": {},
   "outputs": [],
   "source": [
    "stanlee = word_in_text('stanlee', tweet)\n",
    "hashtagstanlee = word_in_text('#StanLee', tweet)\n",
    "Stan_Lee = word_in_text('Stan Lee', tweet)\n",
    "STANLEE = word_in_text('STANLEE', tweet)\n",
    "STAN_LEE = word_in_text('STAN LEE', tweet)\n",
    "hashtagSTANLEE = word_in_text('#STANLEE', tweet)\n"
   ]
  },
  {
   "cell_type": "code",
   "execution_count": 42,
   "metadata": {},
   "outputs": [
    {
     "data": {
      "image/png": "[encoded data removed]",
      "text/plain": [
       "<matplotlib.figure.Figure at 0x1a1cdb98d0>"
      ]
     },
     "metadata": {},
     "output_type": "display_data"
    }
   ],
   "source": [
    "prg_langs = ['stanlee', '#StanLee', 'Stan Lee', 'STANLEE', 'STAN LEE', '#STANLEE']\n",
    "tweets_by_prg_lang = [stanlee, hashtagstanlee, Stan_Lee, STANLEE, STAN_LEE, hashtagSTANLEE]\n",
    "\n",
    "x_pos = list(range(len(prg_langs)))\n",
    "width = 0.8\n",
    "fig, ax = plt.subplots()\n",
    "plt.bar(x_pos, tweets_by_prg_lang, width, alpha=1, color='r')\n",
    "\n",
    "# Setting axis labels and ticks\n",
    "ax.set_ylabel('Number of tweets', fontsize=15)\n",
    "ax.set_title('Searched Words', fontsize=10, fontweight='bold')\n",
    "ax.set_xticks([p + 0.4 * width for p in x_pos])\n",
    "ax.set_xticklabels(prg_langs)\n",
    "plt.grid()"
   ]
  },
  {
   "cell_type": "code",
   "execution_count": 43,
   "metadata": {},
   "outputs": [
    {
     "data": {
      "text/plain": [
       "<matplotlib.axes._subplots.AxesSubplot at 0x1a2a48dd68>"
      ]
     },
     "execution_count": 43,
     "metadata": {},
     "output_type": "execute_result"
    },
    {
     "data": {
      "image/png": "[encoded data removed]",
      "text/plain": [
       "<matplotlib.figure.Figure at 0x1a1f5e8048>"
      ]
     },
     "metadata": {},
     "output_type": "display_data"
    }
   ],
   "source": [
    "tweets_by_lang = tweets['lang'].value_counts()\n",
    "\n",
    "fig, ax = plt.subplots()\n",
    "ax.tick_params(axis='x', labelsize=15)\n",
    "ax.tick_params(axis='y', labelsize=10)\n",
    "ax.set_xlabel('Languages', fontsize=15)\n",
    "ax.set_ylabel('Number of tweets' , fontsize=15)\n",
    "ax.set_title('Top 5 languages', fontsize=15, fontweight='bold')\n",
    "tweets_by_lang[:5].plot(ax=ax, kind='bar', color='blue')"
   ]
  },
  {
   "cell_type": "code",
   "execution_count": 79,
   "metadata": {},
   "outputs": [
    {
     "ename": "ValueError",
     "evalue": "labels ['lang'] not contained in axis",
     "output_type": "error",
     "traceback": [
      "\u001b[0;31m---------------------------------------------------------------------------\u001b[0m",
      "\u001b[0;31mValueError\u001b[0m                                Traceback (most recent call last)",
      "\u001b[0;32m<ipython-input-79-cb189c004503>\u001b[0m in \u001b[0;36m<module>\u001b[0;34m()\u001b[0m\n\u001b[1;32m      1\u001b[0m \u001b[0;31m# get only english tweet for bag of word\u001b[0m\u001b[0;34m\u001b[0m\u001b[0;34m\u001b[0m\u001b[0m\n\u001b[1;32m      2\u001b[0m \u001b[0mdf_text_lang\u001b[0m \u001b[0;34m=\u001b[0m \u001b[0mpd\u001b[0m\u001b[0;34m.\u001b[0m\u001b[0mDataFrame\u001b[0m\u001b[0;34m(\u001b[0m\u001b[0;34m{\u001b[0m\u001b[0;34m'text'\u001b[0m\u001b[0;34m:\u001b[0m \u001b[0mtweets\u001b[0m\u001b[0;34m[\u001b[0m\u001b[0;34m'text'\u001b[0m\u001b[0;34m]\u001b[0m\u001b[0;34m,\u001b[0m \u001b[0;34m'lang'\u001b[0m\u001b[0;34m:\u001b[0m \u001b[0mtweets\u001b[0m\u001b[0;34m[\u001b[0m\u001b[0;34m'lang'\u001b[0m\u001b[0;34m]\u001b[0m  \u001b[0;34m}\u001b[0m\u001b[0;34m)\u001b[0m\u001b[0;34m\u001b[0m\u001b[0m\n\u001b[0;32m----> 3\u001b[0;31m \u001b[0monly_en_tweet\u001b[0m \u001b[0;34m=\u001b[0m \u001b[0mdf_text_lang\u001b[0m\u001b[0;34m[\u001b[0m\u001b[0mdf_text_lang\u001b[0m\u001b[0;34m[\u001b[0m\u001b[0;34m'lang'\u001b[0m\u001b[0;34m]\u001b[0m\u001b[0;34m.\u001b[0m\u001b[0mstr\u001b[0m\u001b[0;34m.\u001b[0m\u001b[0mcontains\u001b[0m\u001b[0;34m(\u001b[0m\u001b[0;34m\"en\"\u001b[0m\u001b[0;34m)\u001b[0m\u001b[0;34m]\u001b[0m\u001b[0;34m.\u001b[0m\u001b[0mdrop\u001b[0m\u001b[0;34m(\u001b[0m\u001b[0;34m[\u001b[0m\u001b[0;34m'lang'\u001b[0m\u001b[0;34m]\u001b[0m\u001b[0;34m)\u001b[0m\u001b[0;34m\u001b[0m\u001b[0m\n\u001b[0m\u001b[1;32m      4\u001b[0m \u001b[0men_string\u001b[0m \u001b[0;34m=\u001b[0m \u001b[0monly_en_tweet\u001b[0m\u001b[0;34m.\u001b[0m\u001b[0mto_string\u001b[0m\u001b[0;34m(\u001b[0m\u001b[0;34m)\u001b[0m\u001b[0;31m# coverts df to string for cleaning\u001b[0m\u001b[0;34m\u001b[0m\u001b[0m\n",
      "\u001b[0;32m/anaconda3/lib/python3.6/site-packages/pandas/core/generic.py\u001b[0m in \u001b[0;36mdrop\u001b[0;34m(self, labels, axis, index, columns, level, inplace, errors)\u001b[0m\n\u001b[1;32m   2528\u001b[0m         \u001b[0;32mfor\u001b[0m \u001b[0maxis\u001b[0m\u001b[0;34m,\u001b[0m \u001b[0mlabels\u001b[0m \u001b[0;32min\u001b[0m \u001b[0maxes\u001b[0m\u001b[0;34m.\u001b[0m\u001b[0mitems\u001b[0m\u001b[0;34m(\u001b[0m\u001b[0;34m)\u001b[0m\u001b[0;34m:\u001b[0m\u001b[0;34m\u001b[0m\u001b[0m\n\u001b[1;32m   2529\u001b[0m             \u001b[0;32mif\u001b[0m \u001b[0mlabels\u001b[0m \u001b[0;32mis\u001b[0m \u001b[0;32mnot\u001b[0m \u001b[0;32mNone\u001b[0m\u001b[0;34m:\u001b[0m\u001b[0;34m\u001b[0m\u001b[0m\n\u001b[0;32m-> 2530\u001b[0;31m                 \u001b[0mobj\u001b[0m \u001b[0;34m=\u001b[0m \u001b[0mobj\u001b[0m\u001b[0;34m.\u001b[0m\u001b[0m_drop_axis\u001b[0m\u001b[0;34m(\u001b[0m\u001b[0mlabels\u001b[0m\u001b[0;34m,\u001b[0m \u001b[0maxis\u001b[0m\u001b[0;34m,\u001b[0m \u001b[0mlevel\u001b[0m\u001b[0;34m=\u001b[0m\u001b[0mlevel\u001b[0m\u001b[0;34m,\u001b[0m \u001b[0merrors\u001b[0m\u001b[0;34m=\u001b[0m\u001b[0merrors\u001b[0m\u001b[0;34m)\u001b[0m\u001b[0;34m\u001b[0m\u001b[0m\n\u001b[0m\u001b[1;32m   2531\u001b[0m \u001b[0;34m\u001b[0m\u001b[0m\n\u001b[1;32m   2532\u001b[0m         \u001b[0;32mif\u001b[0m \u001b[0minplace\u001b[0m\u001b[0;34m:\u001b[0m\u001b[0;34m\u001b[0m\u001b[0m\n",
      "\u001b[0;32m/anaconda3/lib/python3.6/site-packages/pandas/core/generic.py\u001b[0m in \u001b[0;36m_drop_axis\u001b[0;34m(self, labels, axis, level, errors)\u001b[0m\n\u001b[1;32m   2560\u001b[0m                 \u001b[0mnew_axis\u001b[0m \u001b[0;34m=\u001b[0m \u001b[0maxis\u001b[0m\u001b[0;34m.\u001b[0m\u001b[0mdrop\u001b[0m\u001b[0;34m(\u001b[0m\u001b[0mlabels\u001b[0m\u001b[0;34m,\u001b[0m \u001b[0mlevel\u001b[0m\u001b[0;34m=\u001b[0m\u001b[0mlevel\u001b[0m\u001b[0;34m,\u001b[0m \u001b[0merrors\u001b[0m\u001b[0;34m=\u001b[0m\u001b[0merrors\u001b[0m\u001b[0;34m)\u001b[0m\u001b[0;34m\u001b[0m\u001b[0m\n\u001b[1;32m   2561\u001b[0m             \u001b[0;32melse\u001b[0m\u001b[0;34m:\u001b[0m\u001b[0;34m\u001b[0m\u001b[0m\n\u001b[0;32m-> 2562\u001b[0;31m                 \u001b[0mnew_axis\u001b[0m \u001b[0;34m=\u001b[0m \u001b[0maxis\u001b[0m\u001b[0;34m.\u001b[0m\u001b[0mdrop\u001b[0m\u001b[0;34m(\u001b[0m\u001b[0mlabels\u001b[0m\u001b[0;34m,\u001b[0m \u001b[0merrors\u001b[0m\u001b[0;34m=\u001b[0m\u001b[0merrors\u001b[0m\u001b[0;34m)\u001b[0m\u001b[0;34m\u001b[0m\u001b[0m\n\u001b[0m\u001b[1;32m   2563\u001b[0m             \u001b[0mdropped\u001b[0m \u001b[0;34m=\u001b[0m \u001b[0mself\u001b[0m\u001b[0;34m.\u001b[0m\u001b[0mreindex\u001b[0m\u001b[0;34m(\u001b[0m\u001b[0;34m**\u001b[0m\u001b[0;34m{\u001b[0m\u001b[0maxis_name\u001b[0m\u001b[0;34m:\u001b[0m \u001b[0mnew_axis\u001b[0m\u001b[0;34m}\u001b[0m\u001b[0;34m)\u001b[0m\u001b[0;34m\u001b[0m\u001b[0m\n\u001b[1;32m   2564\u001b[0m             \u001b[0;32mtry\u001b[0m\u001b[0;34m:\u001b[0m\u001b[0;34m\u001b[0m\u001b[0m\n",
      "\u001b[0;32m/anaconda3/lib/python3.6/site-packages/pandas/core/indexes/base.py\u001b[0m in \u001b[0;36mdrop\u001b[0;34m(self, labels, errors)\u001b[0m\n\u001b[1;32m   3742\u001b[0m             \u001b[0;32mif\u001b[0m \u001b[0merrors\u001b[0m \u001b[0;34m!=\u001b[0m \u001b[0;34m'ignore'\u001b[0m\u001b[0;34m:\u001b[0m\u001b[0;34m\u001b[0m\u001b[0m\n\u001b[1;32m   3743\u001b[0m                 raise ValueError('labels %s not contained in axis' %\n\u001b[0;32m-> 3744\u001b[0;31m                                  labels[mask])\n\u001b[0m\u001b[1;32m   3745\u001b[0m             \u001b[0mindexer\u001b[0m \u001b[0;34m=\u001b[0m \u001b[0mindexer\u001b[0m\u001b[0;34m[\u001b[0m\u001b[0;34m~\u001b[0m\u001b[0mmask\u001b[0m\u001b[0;34m]\u001b[0m\u001b[0;34m\u001b[0m\u001b[0m\n\u001b[1;32m   3746\u001b[0m         \u001b[0;32mreturn\u001b[0m \u001b[0mself\u001b[0m\u001b[0;34m.\u001b[0m\u001b[0mdelete\u001b[0m\u001b[0;34m(\u001b[0m\u001b[0mindexer\u001b[0m\u001b[0;34m)\u001b[0m\u001b[0;34m\u001b[0m\u001b[0m\n",
      "\u001b[0;31mValueError\u001b[0m: labels ['lang'] not contained in axis"
     ]
    }
   ],
   "source": [
    "# get only english tweet for bag of word\n",
    "df_text_lang = pd.DataFrame({'text': tweets['text'], 'lang': tweets['lang']  })\n",
    "only_en_tweet = df_text_lang[df_text_lang['lang'].str.contains(\"en\")]\n",
    "en_string = only_en_tweet.to_string()# coverts df to string for cleaning "
   ]
  },
  {
   "cell_type": "code",
   "execution_count": 64,
   "metadata": {},
   "outputs": [
    {
     "data": {
      "text/html": [
       "<div>\n",
       "<style scoped>\n",
       "    .dataframe tbody tr th:only-of-type {\n",
       "        vertical-align: middle;\n",
       "    }\n",
       "\n",
       "    .dataframe tbody tr th {\n",
       "        vertical-align: top;\n",
       "    }\n",
       "\n",
       "    .dataframe thead th {\n",
       "        text-align: right;\n",
       "    }\n",
       "</style>\n",
       "<table border=\"1\" class=\"dataframe\">\n",
       "  <thead>\n",
       "    <tr style=\"text-align: right;\">\n",
       "      <th></th>\n",
       "      <th>lang</th>\n",
       "      <th>text</th>\n",
       "    </tr>\n",
       "  </thead>\n",
       "  <tbody>\n",
       "    <tr>\n",
       "      <th>2</th>\n",
       "      <td>en</td>\n",
       "      <td>Enough said - Stan the man Lee https://t.co/zH...</td>\n",
       "    </tr>\n",
       "    <tr>\n",
       "      <th>3</th>\n",
       "      <td>en</td>\n",
       "      <td>\"RIP in Peace Stan Lee\" from @MiddleUrinalPod ...</td>\n",
       "    </tr>\n",
       "    <tr>\n",
       "      <th>4</th>\n",
       "      <td>en</td>\n",
       "      <td>RT @SoWizardPodcast: Check out episode 224 of ...</td>\n",
       "    </tr>\n",
       "    <tr>\n",
       "      <th>5</th>\n",
       "      <td>en</td>\n",
       "      <td>RT @comicsandpanels: Stan Lee and Steve Ditko ...</td>\n",
       "    </tr>\n",
       "    <tr>\n",
       "      <th>7</th>\n",
       "      <td>en</td>\n",
       "      <td>RT @STAY_mutuals: Gain STAY Mutuals!💕🌻\\n※ rt a...</td>\n",
       "    </tr>\n",
       "  </tbody>\n",
       "</table>\n",
       "</div>"
      ],
      "text/plain": [
       "  lang                                               text\n",
       "2   en  Enough said - Stan the man Lee https://t.co/zH...\n",
       "3   en  \"RIP in Peace Stan Lee\" from @MiddleUrinalPod ...\n",
       "4   en  RT @SoWizardPodcast: Check out episode 224 of ...\n",
       "5   en  RT @comicsandpanels: Stan Lee and Steve Ditko ...\n",
       "7   en  RT @STAY_mutuals: Gain STAY Mutuals!💕🌻\\n※ rt a..."
      ]
     },
     "execution_count": 64,
     "metadata": {},
     "output_type": "execute_result"
    }
   ],
   "source": [
    "only_en_tweet.head()"
   ]
  },
  {
   "cell_type": "code",
   "execution_count": null,
   "metadata": {},
   "outputs": [],
   "source": [
    "def clean_tweet(self, tweet): \n",
    "        ''' \n",
    "        Utility function to clean tweet text by removing links, special characters \n",
    "        using simple regex statements. \n",
    "        '''\n",
    "        return ' '.join(re.sub(\"(@[A-Za-z0-9]+)|([^0-9A-Za-z \\t]) \n",
    "                                    |(\\w+:\\/\\/\\S+)\", \" \", tweet).split()) \n",
    "  \n",
    "    def get_tweet_sentiment(self, tweet): \n",
    "        ''' \n",
    "        Utility function to classify sentiment of passed tweet \n",
    "        using textblob's sentiment method \n",
    "        '''\n",
    "        # create TextBlob object of passed tweet text \n",
    "        analysis = TextBlob(self.clean_tweet(tweet)) \n",
    "        # set sentiment \n",
    "        if analysis.sentiment.polarity > 0: \n",
    "            return 'positive'\n",
    "        elif analysis.sentiment.polarity == 0: \n",
    "            return 'neutral'\n",
    "        else: \n",
    "            return 'negative'\n",
    "  \n",
    "    def get_tweets(self, query, count = 10): "
   ]
  },
  {
   "cell_type": "code",
   "execution_count": 78,
   "metadata": {},
   "outputs": [
    {
     "ename": "SyntaxError",
     "evalue": "EOL while scanning string literal (<ipython-input-78-d3ad8556a6c0>, line 6)",
     "output_type": "error",
     "traceback": [
      "\u001b[0;36m  File \u001b[0;32m\"<ipython-input-78-d3ad8556a6c0>\"\u001b[0;36m, line \u001b[0;32m6\u001b[0m\n\u001b[0;31m    return ' '.join(re.sub(\"(@[A-Za-z0-9]+)|([^0-9A-Za-z \\t])\u001b[0m\n\u001b[0m                                                              ^\u001b[0m\n\u001b[0;31mSyntaxError\u001b[0m\u001b[0;31m:\u001b[0m EOL while scanning string literal\n"
     ]
    }
   ],
   "source": [
    "def clean_tweet(self, tweet): \n",
    "        ''' \n",
    "        Utility function to clean tweet text by removing links, special characters \n",
    "        using simple regex statements. \n",
    "        '''\n",
    "        return ' '.join(re.sub(\"(@[A-Za-z0-9]+)|([^0-9A-Za-z \\t]) \n",
    "                                    |(\\w+:\\/\\/\\S+)\", \" \", tweet).split()) "
   ]
  },
  {
   "cell_type": "code",
   "execution_count": 77,
   "metadata": {},
   "outputs": [
    {
     "ename": "NameError",
     "evalue": "name 'clean_tweet' is not defined",
     "output_type": "error",
     "traceback": [
      "\u001b[0;31m---------------------------------------------------------------------------\u001b[0m",
      "\u001b[0;31mNameError\u001b[0m                                 Traceback (most recent call last)",
      "\u001b[0;32m<ipython-input-77-61571a7fba3e>\u001b[0m in \u001b[0;36m<module>\u001b[0;34m()\u001b[0m\n\u001b[0;32m----> 1\u001b[0;31m \u001b[0mClean_Tweets\u001b[0m\u001b[0;34m=\u001b[0m\u001b[0mclean_tweet\u001b[0m\u001b[0;34m(\u001b[0m\u001b[0men_string\u001b[0m\u001b[0;34m)\u001b[0m\u001b[0;34m\u001b[0m\u001b[0m\n\u001b[0m",
      "\u001b[0;31mNameError\u001b[0m: name 'clean_tweet' is not defined"
     ]
    }
   ],
   "source": [
    "Clean_Tweets=clean_tweet(en_string)"
   ]
  },
  {
   "cell_type": "code",
   "execution_count": null,
   "metadata": {},
   "outputs": [],
   "source": []
  },
  {
   "cell_type": "code",
   "execution_count": null,
   "metadata": {},
   "outputs": [],
   "source": []
  },
  {
   "cell_type": "code",
   "execution_count": null,
   "metadata": {},
   "outputs": [],
   "source": []
  },
  {
   "cell_type": "code",
   "execution_count": 66,
   "metadata": {},
   "outputs": [
    {
     "data": {
      "text/plain": [
       "str"
      ]
     },
     "execution_count": 66,
     "metadata": {},
     "output_type": "execute_result"
    }
   ],
   "source": [
    "type(en_string)"
   ]
  },
  {
   "cell_type": "code",
   "execution_count": 67,
   "metadata": {},
   "outputs": [],
   "source": [
    "def clean_text(text_train):# applies pre- processing on the given text \n",
    " \n",
    "    text_train = text_train.lower()# converts everything to lower case and splits\n",
    "    text_train=re.sub(r'[\\d,@\\'?\\.$%_()&*#!;:]',\"\", text_train) # replaces punctuation and numbers but keeps spaces, needed for tokens \n",
    "    text_train=re.sub(\"[^a-zA-Z]\", \" \", text_train) # keep only words\n",
    "    text_train=word_tokenize(text_train) # tokenizes - breaks sentenses into words\n",
    "    stopWords = set(stopwords.words('english')) # removes words that lack meaning  \n",
    "    for word in text_train: # removes stopwords\n",
    "        if word in stopWords:\n",
    "            text_train.remove(word)\n",
    "    return text_train"
   ]
  },
  {
   "cell_type": "code",
   "execution_count": 68,
   "metadata": {},
   "outputs": [
    {
     "name": "stdout",
     "output_type": "stream",
     "text": [
      "['lang', 'text', 'en', 'enough', 'said', 'stan', 'man', 'lee', 'https', 'tco', 'zh', 'en', 'rip', 'peace', 'stan', 'lee', 'middleurinalpod', 'en', 'rt', 'sowizardpodcast', 'check', 'episode', 'en', 'rt', 'comicsandpanels', 'stan', 'lee', 'steve', 'ditko', 'en', 'rt', 'staymutuals', 'gain', 'stay', 'mutuals', 'n', 'rt', 'en', 'stanleeforever', 'remix', 'edm', 'stanlee', 'marvelco', 'en', 'stan', 'lee', 'inspired', 'us', 'celebrate', 'yea']\n"
     ]
    }
   ],
   "source": [
    "cleaned_tweets = clean_text(en_string)\n",
    "print(cleaned_tweets[:50])"
   ]
  },
  {
   "cell_type": "code",
   "execution_count": 72,
   "metadata": {},
   "outputs": [],
   "source": [
    "#create bag of word\n",
    "from sklearn.feature_extraction.text import CountVectorizer \n",
    "#vec = CountVectorizer(stop_words='english').fit(only_en_tweet['text']) # exclude common words\n",
    "#vec = CountVectorizer.fit(only_en_tweet['text']) \n",
    "vect=CountVectorizer()\n",
    "bag_of_words = vect.fit_transform(cleaned_tweets).toarray()\n",
    "#bag_of_words = vec.transform(cleaned).toarray()\n",
    "#sum_words = bag_of_words.sum(axis=0)\n",
    "#words_freq = [(word, sum_words[0, idx]) for word, idx in vec.vocabulary_.items()]\n",
    "#sorted(words_freq, key = lambda x: x[1], reverse=True) # sorted by the words_freq\n",
    "# https://medium.com/@cristhianboujon/how-to-list-the-most-common-words-from-text-corpus-using-scikit-learn-dad4d0cab41d"
   ]
  },
  {
   "cell_type": "code",
   "execution_count": 73,
   "metadata": {},
   "outputs": [
    {
     "data": {
      "text/plain": [
       "(81597, 4706)"
      ]
     },
     "execution_count": 73,
     "metadata": {},
     "output_type": "execute_result"
    }
   ],
   "source": [
    "bag_of_words.shape"
   ]
  },
  {
   "cell_type": "code",
   "execution_count": 74,
   "metadata": {},
   "outputs": [
    {
     "data": {
      "text/plain": [
       "array([[0, 0, 0, ..., 0, 0, 0],\n",
       "       [0, 0, 0, ..., 0, 0, 0],\n",
       "       [0, 0, 0, ..., 0, 0, 0],\n",
       "       ...,\n",
       "       [0, 0, 0, ..., 0, 0, 0],\n",
       "       [0, 0, 0, ..., 0, 0, 0],\n",
       "       [0, 0, 0, ..., 0, 0, 0]], dtype=int64)"
      ]
     },
     "execution_count": 74,
     "metadata": {},
     "output_type": "execute_result"
    }
   ],
   "source": [
    "bag_of_words"
   ]
  },
  {
   "cell_type": "code",
   "execution_count": 76,
   "metadata": {},
   "outputs": [
    {
     "data": {
      "text/html": [
       "<div>\n",
       "<style scoped>\n",
       "    .dataframe tbody tr th:only-of-type {\n",
       "        vertical-align: middle;\n",
       "    }\n",
       "\n",
       "    .dataframe tbody tr th {\n",
       "        vertical-align: top;\n",
       "    }\n",
       "\n",
       "    .dataframe thead th {\n",
       "        text-align: right;\n",
       "    }\n",
       "</style>\n",
       "<table border=\"1\" class=\"dataframe\">\n",
       "  <thead>\n",
       "    <tr style=\"text-align: right;\">\n",
       "      <th></th>\n",
       "      <th>aar</th>\n",
       "      <th>aaravvikrant</th>\n",
       "      <th>aaronderrico</th>\n",
       "      <th>aaronthewise</th>\n",
       "      <th>ab</th>\n",
       "      <th>abacusmike</th>\n",
       "      <th>abandoned</th>\n",
       "      <th>abeikulytle</th>\n",
       "      <th>ability</th>\n",
       "      <th>abitmoremarvel</th>\n",
       "      <th>...</th>\n",
       "      <th>zdnet</th>\n",
       "      <th>zeddary</th>\n",
       "      <th>zero</th>\n",
       "      <th>zh</th>\n",
       "      <th>zhqcdztos</th>\n",
       "      <th>zoofster</th>\n",
       "      <th>zoomao</th>\n",
       "      <th>zoomtv</th>\n",
       "      <th>zpxm</th>\n",
       "      <th>zwinglitejr</th>\n",
       "    </tr>\n",
       "  </thead>\n",
       "  <tbody>\n",
       "    <tr>\n",
       "      <th>0</th>\n",
       "      <td>0</td>\n",
       "      <td>0</td>\n",
       "      <td>0</td>\n",
       "      <td>0</td>\n",
       "      <td>0</td>\n",
       "      <td>0</td>\n",
       "      <td>0</td>\n",
       "      <td>0</td>\n",
       "      <td>0</td>\n",
       "      <td>0</td>\n",
       "      <td>...</td>\n",
       "      <td>0</td>\n",
       "      <td>0</td>\n",
       "      <td>0</td>\n",
       "      <td>0</td>\n",
       "      <td>0</td>\n",
       "      <td>0</td>\n",
       "      <td>0</td>\n",
       "      <td>0</td>\n",
       "      <td>0</td>\n",
       "      <td>0</td>\n",
       "    </tr>\n",
       "    <tr>\n",
       "      <th>1</th>\n",
       "      <td>0</td>\n",
       "      <td>0</td>\n",
       "      <td>0</td>\n",
       "      <td>0</td>\n",
       "      <td>0</td>\n",
       "      <td>0</td>\n",
       "      <td>0</td>\n",
       "      <td>0</td>\n",
       "      <td>0</td>\n",
       "      <td>0</td>\n",
       "      <td>...</td>\n",
       "      <td>0</td>\n",
       "      <td>0</td>\n",
       "      <td>0</td>\n",
       "      <td>0</td>\n",
       "      <td>0</td>\n",
       "      <td>0</td>\n",
       "      <td>0</td>\n",
       "      <td>0</td>\n",
       "      <td>0</td>\n",
       "      <td>0</td>\n",
       "    </tr>\n",
       "    <tr>\n",
       "      <th>2</th>\n",
       "      <td>0</td>\n",
       "      <td>0</td>\n",
       "      <td>0</td>\n",
       "      <td>0</td>\n",
       "      <td>0</td>\n",
       "      <td>0</td>\n",
       "      <td>0</td>\n",
       "      <td>0</td>\n",
       "      <td>0</td>\n",
       "      <td>0</td>\n",
       "      <td>...</td>\n",
       "      <td>0</td>\n",
       "      <td>0</td>\n",
       "      <td>0</td>\n",
       "      <td>0</td>\n",
       "      <td>0</td>\n",
       "      <td>0</td>\n",
       "      <td>0</td>\n",
       "      <td>0</td>\n",
       "      <td>0</td>\n",
       "      <td>0</td>\n",
       "    </tr>\n",
       "    <tr>\n",
       "      <th>3</th>\n",
       "      <td>0</td>\n",
       "      <td>0</td>\n",
       "      <td>0</td>\n",
       "      <td>0</td>\n",
       "      <td>0</td>\n",
       "      <td>0</td>\n",
       "      <td>0</td>\n",
       "      <td>0</td>\n",
       "      <td>0</td>\n",
       "      <td>0</td>\n",
       "      <td>...</td>\n",
       "      <td>0</td>\n",
       "      <td>0</td>\n",
       "      <td>0</td>\n",
       "      <td>0</td>\n",
       "      <td>0</td>\n",
       "      <td>0</td>\n",
       "      <td>0</td>\n",
       "      <td>0</td>\n",
       "      <td>0</td>\n",
       "      <td>0</td>\n",
       "    </tr>\n",
       "    <tr>\n",
       "      <th>4</th>\n",
       "      <td>0</td>\n",
       "      <td>0</td>\n",
       "      <td>0</td>\n",
       "      <td>0</td>\n",
       "      <td>0</td>\n",
       "      <td>0</td>\n",
       "      <td>0</td>\n",
       "      <td>0</td>\n",
       "      <td>0</td>\n",
       "      <td>0</td>\n",
       "      <td>...</td>\n",
       "      <td>0</td>\n",
       "      <td>0</td>\n",
       "      <td>0</td>\n",
       "      <td>0</td>\n",
       "      <td>0</td>\n",
       "      <td>0</td>\n",
       "      <td>0</td>\n",
       "      <td>0</td>\n",
       "      <td>0</td>\n",
       "      <td>0</td>\n",
       "    </tr>\n",
       "  </tbody>\n",
       "</table>\n",
       "<p>5 rows × 4706 columns</p>\n",
       "</div>"
      ],
      "text/plain": [
       "   aar  aaravvikrant  aaronderrico  aaronthewise  ab  abacusmike  abandoned  \\\n",
       "0    0             0             0             0   0           0          0   \n",
       "1    0             0             0             0   0           0          0   \n",
       "2    0             0             0             0   0           0          0   \n",
       "3    0             0             0             0   0           0          0   \n",
       "4    0             0             0             0   0           0          0   \n",
       "\n",
       "   abeikulytle  ability  abitmoremarvel     ...       zdnet  zeddary  zero  \\\n",
       "0            0        0               0     ...           0        0     0   \n",
       "1            0        0               0     ...           0        0     0   \n",
       "2            0        0               0     ...           0        0     0   \n",
       "3            0        0               0     ...           0        0     0   \n",
       "4            0        0               0     ...           0        0     0   \n",
       "\n",
       "   zh  zhqcdztos  zoofster  zoomao  zoomtv  zpxm  zwinglitejr  \n",
       "0   0          0         0       0       0     0            0  \n",
       "1   0          0         0       0       0     0            0  \n",
       "2   0          0         0       0       0     0            0  \n",
       "3   0          0         0       0       0     0            0  \n",
       "4   0          0         0       0       0     0            0  \n",
       "\n",
       "[5 rows x 4706 columns]"
      ]
     },
     "execution_count": 76,
     "metadata": {},
     "output_type": "execute_result"
    }
   ],
   "source": [
    "dfTest=pd.DataFrame(bag_of_words,columns=vect.get_feature_names())\n",
    "dfTest.head()"
   ]
  },
  {
   "cell_type": "code",
   "execution_count": null,
   "metadata": {},
   "outputs": [],
   "source": [
    "df=pd.DataFrame(words_freq,columns=(\"word\",\"count\"))\n",
    "df.head(10)"
   ]
  },
  {
   "cell_type": "code",
   "execution_count": 1,
   "metadata": {},
   "outputs": [
    {
     "ename": "NameError",
     "evalue": "name 'df' is not defined",
     "output_type": "error",
     "traceback": [
      "\u001b[0;31m---------------------------------------------------------------------------\u001b[0m",
      "\u001b[0;31mNameError\u001b[0m                                 Traceback (most recent call last)",
      "\u001b[0;32m<ipython-input-1-b4f4304d004c>\u001b[0m in \u001b[0;36m<module>\u001b[0;34m()\u001b[0m\n\u001b[0;32m----> 1\u001b[0;31m \u001b[0mdf\u001b[0m\u001b[0;34m=\u001b[0m\u001b[0mdf\u001b[0m\u001b[0;34m.\u001b[0m\u001b[0msort_values\u001b[0m\u001b[0;34m(\u001b[0m\u001b[0mby\u001b[0m\u001b[0;34m=\u001b[0m\u001b[0;34m\"count\"\u001b[0m\u001b[0;34m,\u001b[0m\u001b[0mascending\u001b[0m\u001b[0;34m=\u001b[0m\u001b[0;32mFalse\u001b[0m\u001b[0;34m)\u001b[0m\u001b[0;34m\u001b[0m\u001b[0m\n\u001b[0m\u001b[1;32m      2\u001b[0m \u001b[0mdf\u001b[0m\u001b[0;34m.\u001b[0m\u001b[0mhead\u001b[0m\u001b[0;34m(\u001b[0m\u001b[0;36m10\u001b[0m\u001b[0;34m)\u001b[0m\u001b[0;34m\u001b[0m\u001b[0m\n",
      "\u001b[0;31mNameError\u001b[0m: name 'df' is not defined"
     ]
    }
   ],
   "source": [
    "df=df.sort_values(by=\"count\",ascending=False)\n",
    "df.head(10)"
   ]
  },
  {
   "cell_type": "code",
   "execution_count": 6,
   "metadata": {},
   "outputs": [
    {
     "ename": "SyntaxError",
     "evalue": "invalid syntax (<ipython-input-6-0dc603039f91>, line 1)",
     "output_type": "error",
     "traceback": [
      "\u001b[0;36m  File \u001b[0;32m\"<ipython-input-6-0dc603039f91>\"\u001b[0;36m, line \u001b[0;32m1\u001b[0m\n\u001b[0;31m    bag_of_words=bag_of_words.transform.to array()\u001b[0m\n\u001b[0m                                               ^\u001b[0m\n\u001b[0;31mSyntaxError\u001b[0m\u001b[0;31m:\u001b[0m invalid syntax\n"
     ]
    }
   ],
   "source": [
    "bag_of_words=bag_of_words.transform.to array()"
   ]
  },
  {
   "cell_type": "markdown",
   "metadata": {},
   "source": [
    "# Character analysis "
   ]
  },
  {
   "cell_type": "code",
   "execution_count": 10,
   "metadata": {},
   "outputs": [],
   "source": [
    "# this is the same with above\n",
    "import json\n",
    "import matplotlib.pyplot as plt\n",
    "import re\n",
    "import pandas as pd \n",
    "import numpy as np \n",
    "import seaborn as sns\n",
    "import string\n",
    "import nltk\n",
    "import warnings \n",
    "%matplotlib inline\n",
    "\n",
    "tweets_data_path = 'stanlee.json'\n",
    "# tweets_data_path = 'stanlee.json'\n",
    "tweets_data = []\n",
    "tweets_file = open(tweets_data_path, \"r\")\n",
    "tweets= pd.DataFrame()\n",
    "\n",
    "#  json Python library to parse the data, and read the data into an array. \n",
    "for line in tweets_file:\n",
    "    try:\n",
    "        tweet = json.loads(line)\n",
    "        tweets_data.append(tweet)\n",
    "    except:\n",
    "        continue\n",
    "\n",
    "# if it has list, it display the value as it is. If not, it has object. \n",
    "tweets['text'] = list(map(lambda tweet: tweet['text'], tweets_data))\n",
    "tweets['lang'] = list(map(lambda tweet: tweet['lang'], tweets_data))\n",
    "tweets['country'] = list(map(lambda tweet: tweet['place']['country'] if tweet['place'] != None else None, tweets_data))\n",
    "tweets['country_code'] = list(map(lambda tweet: tweet['place']['country_code'] if tweet['place'] != None else None, tweets_data))\n"
   ]
  },
  {
   "cell_type": "code",
   "execution_count": 11,
   "metadata": {},
   "outputs": [],
   "source": [
    "# get only english tweet for bag of word\n",
    "df_text_lang = pd.DataFrame({'text': tweets['text'], 'lang': tweets['lang']  })\n",
    "only_en_tweet = df_text_lang[df_text_lang['text'].str.contains(\"en\")]"
   ]
  },
  {
   "cell_type": "code",
   "execution_count": 12,
   "metadata": {},
   "outputs": [],
   "source": [
    "def remove_pattern(input_txt, pattern):\n",
    "    r = re.findall(pattern, input_txt)\n",
    "    for i in r:\n",
    "        input_txt = re.sub(i, '', input_txt)\n",
    "    return input_txt    \n",
    "\n",
    "def word_in_text(word, text):\n",
    "    word = word.lower()\n",
    "    text = text.lower()\n",
    "    match = re.search(word, text)\n",
    "    if match:\n",
    "        return True\n",
    "    return False"
   ]
  },
  {
   "cell_type": "code",
   "execution_count": 13,
   "metadata": {},
   "outputs": [],
   "source": [
    "tweets['fantastic four'] = tweets['text'].apply(lambda tweet: word_in_text('fantastic four', tweet))\n",
    "tweets['daredevil'] = tweets['text'].apply(lambda tweet: word_in_text('daredevil', tweet))\n",
    "tweets['scarlet witch'] = tweets['text'].apply(lambda tweet: word_in_text('scarlet witch', tweet))\n",
    "tweets['inhumans'] = tweets['text'].apply(lambda tweet: word_in_text('inhumans', tweet))\n",
    "tweets['nick fury'] = tweets['text'].apply(lambda tweet: word_in_text('nick fury', tweet))\n",
    "tweets['black panther'] = tweets['text'].apply(lambda tweet: word_in_text('lack panther', tweet))\n",
    "tweets['hawkeye'] = tweets['text'].apply(lambda tweet: word_in_text('hawkeye', tweet))\n",
    "tweets['doctor strange'] = tweets['text'].apply(lambda tweet: word_in_text('doctor strange', tweet))\n",
    "tweets['ant-man'] = tweets['text'].apply(lambda tweet: word_in_text('ant-man', tweet))\n",
    "tweets['black widow'] = tweets['text'].apply(lambda tweet: word_in_text('black widow', tweet))\n",
    "tweets['hulk'] = tweets['text'].apply(lambda tweet: word_in_text('hulk', tweet))\n",
    "tweets['thor'] = tweets['text'].apply(lambda tweet: word_in_text('thor', tweet))\n",
    "tweets['iron man'] = tweets['text'].apply(lambda tweet: word_in_text('iron man', tweet))\n",
    "tweets['x-men'] = tweets['text'].apply(lambda tweet: word_in_text('x-men', tweet))\n",
    "tweets['spider-man'] = tweets['text'].apply(lambda tweet: word_in_text('spider-man', tweet))\n",
    "\n",
    "tweets['relevant'] = tweets['text'].apply(lambda tweet: word_in_text('fantastic four', tweet) or word_in_text('daredevil', tweet) \n",
    "                                          or word_in_text('scarlet witch', tweet) or word_in_text('inhumans', tweet)  or word_in_text('nick fury', tweet) \n",
    "                                          or word_in_text('black panther', tweet)  or word_in_text('hawkeye', tweet)  or word_in_text('doctor strange', tweet) \n",
    "                                          or word_in_text('ant-man', tweet)  or word_in_text('black widow', tweet) \n",
    "                                          or word_in_text('hulk', tweet)  or word_in_text('thor', tweet)  or word_in_text('iron man', tweet) \n",
    "                                          or word_in_text('x-men', tweet)  or word_in_text('spider-man', tweet) )\n"
   ]
  },
  {
   "cell_type": "code",
   "execution_count": 14,
   "metadata": {},
   "outputs": [
    {
     "data": {
      "text/plain": [
       "[<matplotlib.lines.Line2D at 0x12bd02ef0>,\n",
       " <matplotlib.lines.Line2D at 0x12be9de10>]"
      ]
     },
     "execution_count": 14,
     "metadata": {},
     "output_type": "execute_result"
    },
    {
     "data": {
      "image/png": "[encoded data removed]",
      "text/plain": [
       "<matplotlib.figure.Figure at 0x12c3812b0>"
      ]
     },
     "metadata": {},
     "output_type": "display_data"
    },
    {
     "data": {
      "image/png": "[encoded data removed]",
      "text/plain": [
       "<matplotlib.figure.Figure at 0x12a992438>"
      ]
     },
     "metadata": {},
     "output_type": "display_data"
    }
   ],
   "source": [
    "prg_langs = ['spider-man', 'x-men', 'hulk', 'ant-man','thor' ,'black widow','black panther','fantastic four', \n",
    "             'daredevil', 'scarlet witch','inhumans','doctor strange','iron man']\n",
    "\n",
    "tweets_by_prg_heros = [tweets[tweets['relevant'] == True]['spider-man'].value_counts()[True], \n",
    "                      tweets[tweets['relevant'] == True]['x-men'].value_counts()[True], \n",
    "                      tweets[tweets['relevant'] == True]['hulk'].value_counts()[True],\n",
    "                      tweets[tweets['relevant'] == True]['ant-man'].value_counts()[True],\n",
    "                      tweets[tweets['relevant'] == True]['thor'].value_counts()[True],\n",
    "                      tweets[tweets['relevant'] == True]['black widow'].value_counts()[True],\n",
    "                      tweets[tweets['relevant'] == True]['black panther'].value_counts()[True],\n",
    "                      tweets[tweets['relevant'] == True]['fantastic four'].value_counts()[True]  ,\n",
    "                      tweets[tweets['relevant'] == True]['daredevil'].value_counts()[True],\n",
    "                      tweets[tweets['relevant'] == True]['scarlet witch'].value_counts()[True],\n",
    "                      tweets[tweets['relevant'] == True]['inhumans'].value_counts()[True],\n",
    "                      tweets[tweets['relevant'] == True]['doctor strange'].value_counts()[True],\n",
    "                      tweets[tweets['relevant'] == True]['iron man'].value_counts()[True]\n",
    "                      ]\n",
    "x_pos = list(range(len(prg_langs)))\n",
    "width = 0.5 # this is bar width\n",
    "#figsize=(10, 5) set the width the each column\n",
    "fig, ax = plt.subplots( figsize=(20, 5))\n",
    "plt.bar(x_pos, tweets_by_prg_heros, width ,alpha=1,color='g')\n",
    "ax.set_ylabel('Number of tweets', fontsize=15)\n",
    "ax.set_title('Ranking: Famous Marvel Characters (Relevant data)', fontsize=10, fontweight='bold')\n",
    "ax.set_xticks([p - 0.3 + 0.6 * width for p in x_pos])\n",
    "ax.set_xticklabels(prg_langs)\n",
    "plt.wspace = 100\n",
    "# plt.figure(2, dpi=500, figsize=(50,50))\n",
    "plt.grid()\n",
    "\n",
    "\n",
    "fig, ax1 = plt.subplots(1, 3, figsize=(20, 5))\n",
    "ax1[0].bar(x_pos, tweets_by_prg_heros, width ,alpha=1,color='y')\n",
    "ax1[1].scatter(x_pos, tweets_by_prg_heros, width ,alpha=1,color='r')\n",
    "ax1[2].plot(x_pos, tweets_by_prg_heros, width ,alpha=1,color='purple')\n"
   ]
  },
  {
   "cell_type": "code",
   "execution_count": 15,
   "metadata": {},
   "outputs": [],
   "source": [
    "# get the only relevant data from the tweets\n",
    "df_tweet_characters_only = tweets.loc[tweets['relevant'] == True].copy()\n",
    "\n",
    "# removed not required columns\n",
    "df_tweet_characters_only = df_tweet_characters_only.drop(['text', 'relevant',  'ant-man','black widow','fantastic four', 'daredevil','scarlet witch','inhumans','nick fury','hawkeye','doctor strange','iron man'], axis=1)\n",
    "\n",
    "# # Fill all none value with the most value \n",
    "df_tweet_characters_only['lang'] = df_tweet_characters_only['lang'].fillna(df_tweet_characters_only['lang'].mode()[0]) #with mean value\n",
    "df_tweet_characters_only.country = df_tweet_characters_only.country.fillna(df_tweet_characters_only['country'].mode()[0]) #with mean value\n",
    "df_tweet_characters_only.country_code = df_tweet_characters_only.country_code.fillna(df_tweet_characters_only.country_code.mode()[0]) #with mean value\n",
    "# df_tweet_characters_only.head()\n",
    "df_characters_by_language = pd.DataFrame(df_tweet_characters_only.groupby(['lang']).sum())"
   ]
  },
  {
   "cell_type": "code",
   "execution_count": 16,
   "metadata": {},
   "outputs": [
    {
     "data": {
      "image/png": "[encoded data removed]",
      "text/plain": [
       "<matplotlib.figure.Figure at 0x1262a2d68>"
      ]
     },
     "metadata": {},
     "output_type": "display_data"
    }
   ],
   "source": [
    "import numpy as np\n",
    "import matplotlib.pyplot as plt\n",
    "\n",
    "N = 10 # this is number of value for each column\n",
    "ind = np.arange(0, N * 2, 2) # increase the space between the bars\n",
    "width = 0.3     # the width of the bars\n",
    "\n",
    "fig, ax = plt.subplots( figsize=(20, 10))\n",
    "\n",
    "kvals = list(df_characters_by_language['black panther'])\n",
    "rects1 = ax.bar(ind, kvals, width, color='black')\n",
    "yvals = list(df_characters_by_language['hulk'])\n",
    "rects2 = ax.bar(ind+width, yvals, width, color='green')\n",
    "zvals = list(df_characters_by_language['thor'])\n",
    "rects3 = ax.bar(ind+width*2, zvals, width, color='brown')\n",
    "Lvals = list(df_characters_by_language['x-men'])\n",
    "rects4 = ax.bar(ind+width*3, Lvals, width, color='y')\n",
    "mvals = list(df_characters_by_language['spider-man'])\n",
    "rects5 = ax.bar(ind+width*4, mvals, width, color='red')\n",
    "\n",
    "ax.set_ylabel('Number of tweets', fontsize=15)\n",
    "ax.set_xticks(ind+width*2) # this is x label location\n",
    "ax.set_xticklabels( ('en', 'es', 'fr', 'it', 'ja', 'pt', 'th','tl', 'tr', 'und') , fontsize=15, ha='center')\n",
    "ax.legend( (rects1[0], rects2[0], rects3[0],rects4[0], rects5[0]), ('black panther', 'hulk', 'thor', 'x-men', 'spider-man' ) \n",
    "         ,fontsize = '15',loc=1)  # loc =1,2,3,4 - each corner\n",
    "\n",
    "def autolabel(rects):\n",
    "    for rect in rects:\n",
    "        h = rect.get_height()\n",
    "        ax.text(rect.get_x()+rect.get_width()/2., 1.05*h, '%d'%int(h), ha='center', va='bottom', fontsize = '15')\n",
    "\n",
    "autolabel(rects1)\n",
    "autolabel(rects2)\n",
    "autolabel(rects3)\n",
    "autolabel(rects4)\n",
    "autolabel(rects5)\n",
    "\n",
    "plt.show()"
   ]
  },
  {
   "cell_type": "markdown",
   "metadata": {},
   "source": [
    "# Compare the characters from comic / marvel characters"
   ]
  },
  {
   "cell_type": "code",
   "execution_count": 17,
   "metadata": {},
   "outputs": [],
   "source": [
    "data = {'text': [] }\n",
    "\n",
    "tweets_data_path = 'comic_characters.txt'\n",
    "tweets_data = []\n",
    "tweets_file = open(tweets_data_path, \"r\")\n",
    "\n",
    "#  json Python library to parse the data, and read the data into an array. \n",
    "for line in tweets_file:\n",
    "    try:\n",
    "        tweet = json.loads(line)\n",
    "        data['text'].append(tweet['text'])\n",
    "        tweets_data.append(tweet)\n",
    "    except:\n",
    "        continue\n",
    "\n",
    "# tweets = pd.DataFrame()\n",
    "# this add the data dictionary to dataFrame. Can't use df = pd.DataFrame(data) becuase arrays must all be same length error \n",
    "tweets= pd.DataFrame({ key:pd.Series(value) for key, value in data.items() }) #add the data to panda frame\n"
   ]
  },
  {
   "cell_type": "code",
   "execution_count": 18,
   "metadata": {},
   "outputs": [],
   "source": [
    "tweets['lang'] = list(map(lambda tweet: tweet['lang'], tweets_data))\n",
    "tweets['fantastic four'] = tweets['text'].apply(lambda tweet: word_in_text('fantastic four', tweet))\n",
    "tweets['daredevil'] = tweets['text'].apply(lambda tweet: word_in_text('daredevil', tweet))\n",
    "tweets['scarlet witch'] = tweets['text'].apply(lambda tweet: word_in_text('scarlet witch', tweet))\n",
    "tweets['inhumans'] = tweets['text'].apply(lambda tweet: word_in_text('inhumans', tweet))\n",
    "tweets['nick fury'] = tweets['text'].apply(lambda tweet: word_in_text('nick fury', tweet))\n",
    "tweets['black panther'] = tweets['text'].apply(lambda tweet: word_in_text('lack panther', tweet))\n",
    "tweets['hawkeye'] = tweets['text'].apply(lambda tweet: word_in_text('hawkeye', tweet))\n",
    "tweets['doctor strange'] = tweets['text'].apply(lambda tweet: word_in_text('doctor strange', tweet))\n",
    "tweets['ant-man'] = tweets['text'].apply(lambda tweet: word_in_text('ant-man', tweet))\n",
    "tweets['black widow'] = tweets['text'].apply(lambda tweet: word_in_text('black widow', tweet))\n",
    "tweets['hulk'] = tweets['text'].apply(lambda tweet: word_in_text('hulk', tweet))\n",
    "tweets['thor'] = tweets['text'].apply(lambda tweet: word_in_text('thor', tweet))\n",
    "tweets['iron man'] = tweets['text'].apply(lambda tweet: word_in_text('iron man', tweet))\n",
    "tweets['x-men'] = tweets['text'].apply(lambda tweet: word_in_text('x-men', tweet))\n",
    "tweets['spider-man'] = tweets['text'].apply(lambda tweet: word_in_text('spider-man', tweet))"
   ]
  },
  {
   "cell_type": "code",
   "execution_count": 19,
   "metadata": {},
   "outputs": [],
   "source": [
    "prg_langs = ['spider-man', 'x-men', 'hulk', 'ant-man','thor' ,'black widow','black panther','fantastic four', 'daredevil','scarlet witch',\n",
    "            'inhumans','nick fury','hawkeye','doctor strange','iron man']\n",
    "\n",
    "tweets_by_prg_heros = [tweets['spider-man'].value_counts()[True], \n",
    "                      tweets['x-men'].value_counts()[True], \n",
    "                      tweets['hulk'].value_counts()[True],\n",
    "                      tweets['ant-man'].value_counts()[True],\n",
    "                      tweets['thor'].value_counts()[True],\n",
    "                      tweets['black widow'].value_counts()[True],\n",
    "                      tweets['black panther'].value_counts()[True],\n",
    "                      tweets['fantastic four'].value_counts()[True]  ,\n",
    "                      tweets['daredevil'].value_counts()[True],\n",
    "                      tweets['scarlet witch'].value_counts()[True],\n",
    "                      tweets['inhumans'].value_counts()[True],\n",
    "                      tweets['nick fury'].value_counts()[True],\n",
    "                      tweets['hawkeye'].value_counts()[True],\n",
    "                      tweets['doctor strange'].value_counts()[True],\n",
    "                      tweets['iron man'].value_counts()[True]\n",
    "                      ]"
   ]
  },
  {
   "cell_type": "code",
   "execution_count": 20,
   "metadata": {},
   "outputs": [
    {
     "data": {
      "image/png": "[encoded data removed]",
      "text/plain": [
       "<matplotlib.figure.Figure at 0x1a45fb9748>"
      ]
     },
     "metadata": {},
     "output_type": "display_data"
    }
   ],
   "source": [
    "x_pos = list(range(len(prg_langs)))\n",
    "width = 0.5\n",
    "# fig, ax = plt.subplots()\n",
    "fig, ax = plt.subplots( figsize=(20, 10))\n",
    "plt.bar(x_pos, tweets_by_prg_heros, width, alpha=1, color='maroon')\n",
    "\n",
    "# Setting axis labels and ticks\n",
    "ax.set_ylabel('Number of tweets', fontsize=15)\n",
    "ax.set_title('Marvel characters created by Stan Lee', fontsize=15, fontweight='bold')\n",
    "ax.set_xticks([p + 0.2 * width for p in x_pos])\n",
    "ax.set_xticklabels(prg_langs)\n",
    "plt.grid()"
   ]
  },
  {
   "cell_type": "code",
   "execution_count": 21,
   "metadata": {},
   "outputs": [],
   "source": [
    "# drop unneccessary field\n",
    "characters_lang = tweets.drop(['text'], axis=1)\n",
    "\n",
    "# Fill all none value with the most value \n",
    "characters_lang['lang'] = characters_lang['lang'].fillna(characters_lang['lang'].mode()[0]) #with common value\n",
    "\n",
    "#convert the true/false value to int\n",
    "characters_lang = characters_lang.applymap(lambda x: 1 if x == True else x)\n",
    "characters_lang = characters_lang.applymap(lambda x: 0 if x == False else x)\n",
    "\n",
    "# get sum for each characters by the language\n",
    "characters_lang = pd.DataFrame(characters_lang.groupby(['lang']).sum())\n",
    "\n",
    "# delete any rows have value=0 and least value columns\n",
    "characters_lang = characters_lang.loc[(characters_lang!=0).any(axis=1)]\n",
    "characterTop5Langauge = characters_lang.drop(['ar', 'da','de','et','eu','fr','it','lt','nl', 'ro', 'ru', 'sv','tr', 'und'])\n",
    "\n",
    "#Get the top 5 characters\n",
    "sums = characterTop5Langauge.select_dtypes(pd.np.number).sum().rename('total')"
   ]
  },
  {
   "cell_type": "code",
   "execution_count": 22,
   "metadata": {},
   "outputs": [
    {
     "data": {
      "image/png": "[encoded data removed]",
      "text/plain": [
       "<matplotlib.figure.Figure at 0x1a461d3e48>"
      ]
     },
     "metadata": {},
     "output_type": "display_data"
    }
   ],
   "source": [
    "N = 7\n",
    "ind = np.arange(0, N * 2, 2) # increase the space between the bars\n",
    "width = 0.3     # the width of the bars\n",
    "\n",
    "fig, ax = plt.subplots( figsize=(20, 10))\n",
    "\n",
    "kvals = list(characterTop5Langauge['hulk'])\n",
    "rects1 = ax.bar(ind, kvals, width, color='black')\n",
    "yvals = list(characterTop5Langauge['black panther'])\n",
    "rects2 = ax.bar(ind+width, yvals, width, color='green')\n",
    "zvals = list(characterTop5Langauge['daredevil'])\n",
    "rects3 = ax.bar(ind+width*2, zvals, width, color='brown')\n",
    "Lvals = list(characterTop5Langauge['thor'])\n",
    "rects4 = ax.bar(ind+width*3, Lvals, width, color='y')\n",
    "mvals = list(characterTop5Langauge['spider-man'])\n",
    "rects5 = ax.bar(ind+width*4, mvals, width, color='red')\n",
    "\n",
    "ax.set_ylabel('Number of tweets', fontsize=15)\n",
    "ax.set_xticks(ind+width*2) # this is x label location\n",
    "ax.set_xticklabels( ('en', 'es', 'in', 'ja', 'pt', 'pt', 'th','tl') , fontsize=15, ha='center')\n",
    "ax.legend( (rects1[0], rects2[0], rects3[0],rects4[0], rects5[0]), ( 'hulk', 'black panther','daredevil','thor', 'spider-man' ) \n",
    "         ,fontsize = '15',loc=1)  # loc =1,2,3,4 - each corner\n",
    "\n",
    "def autolabel(rects):\n",
    "    for rect in rects:\n",
    "        h = rect.get_height()\n",
    "        ax.text(rect.get_x()+rect.get_width()/2., 1.05*h, '%d'%int(h), ha='center', va='bottom', fontsize = '15')\n",
    "\n",
    "autolabel(rects1)\n",
    "autolabel(rects2)\n",
    "autolabel(rects3)\n",
    "autolabel(rects4)\n",
    "autolabel(rects5)\n",
    "\n",
    "plt.show()"
   ]
  },
  {
   "cell_type": "code",
   "execution_count": null,
   "metadata": {},
   "outputs": [],
   "source": []
  }
 ],
 "metadata": {
  "kernelspec": {
   "display_name": "Python 3",
   "language": "python",
   "name": "python3"
  },
  "language_info": {
   "codemirror_mode": {
    "name": "ipython",
    "version": 3
   },
   "file_extension": ".py",
   "mimetype": "text/x-python",
   "name": "python",
   "nbconvert_exporter": "python",
   "pygments_lexer": "ipython3",
   "version": "3.6.4"
  }
 },
 "nbformat": 4,
 "nbformat_minor": 2
}
