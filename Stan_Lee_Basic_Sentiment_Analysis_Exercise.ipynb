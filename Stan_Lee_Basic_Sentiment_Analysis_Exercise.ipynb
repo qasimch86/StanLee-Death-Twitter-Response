{
 "cells": [
  {
   "cell_type": "code",
   "execution_count": null,
   "metadata": {},
   "outputs": [],
   "source": [
    "# BDA_102 - Stan Lee's Sentiment Model - Group 3 - December 2018\n",
    "# Iwona Rozco, Jeongseon Lee, Tatiana Khayrullina, Qasim Ali, Roberto Hidalgo"
   ]
  },
  {
   "cell_type": "code",
   "execution_count": 28,
   "metadata": {},
   "outputs": [],
   "source": [
    "#First step was to gather information from tweetr, save it into a json file and transform it into a csv.\n",
    "# Modifications will be performed in three directions\n",
    "# Exclusion of irrelevant records: Only English, fresh no retweets that include references to the compund 'Stan Lee' were \n",
    "#           included \n",
    "# Exclusion of irrelevant characters: regex was used to clean the text to its very readable bone (off the uctuation).\n",
    "# Exclusion of irrelevant words: NTLK was used to exclude the more frequent but irrelevant words of the english language.\n",
    "# In addition to that the text was standardized to lower letters.\n",
    "\n",
    "#The file to import is 'C:/Users/hidalgo/Documents/BDA_102_FInal_Group_Project/Data_4_model_FromAliQuasim.csv'\n",
    "#Tweets & Class, tweets text is still dirty, needs to be cleaned but includes the identification of the cases as \n",
    "# negative(0), positive(1) or neutral(2)\n",
    "# In our case: \n",
    "# Negative sentiment (offensive, ironic, derogatory and generally negative comments about Stan Lee), labelled as 0\n",
    "# Affirmative sentiment (sad, nostalgic, celebratory, and generally positive comments about Stan Lee), labelled as 1\n",
    "# Neutral sentiment (fact based, Stan Lee can be a reference but no judgment is made as so justify a -/+ label), labelled as 2\n"
   ]
  },
  {
   "cell_type": "code",
   "execution_count": 29,
   "metadata": {},
   "outputs": [],
   "source": [
    "#Lets try to use Pandas to bring the information into computer memory and then turn it into a manageable format\n",
    "import pandas as pd\n",
    "stan_lee_raw_00 = pd.read_csv('C:/Users/hidalgo/Documents/BDA_102_FInal_Group_Project/Data_4_model_FromAliQuasim.csv', sep=',')"
   ]
  },
  {
   "cell_type": "code",
   "execution_count": 32,
   "metadata": {},
   "outputs": [
    {
     "name": "stdout",
     "output_type": "stream",
     "text": [
      "(1804, 4)\n",
      "Index(['order', 'Sentiments', 'text', 'lang'], dtype='object')\n"
     ]
    }
   ],
   "source": [
    "print(stan_lee_raw_00.shape)\n",
    "print(stan_lee_raw_00.columns)\n",
    "# The file has 4 variables but only 2 are relevant for the analysis: \n",
    "# Sentiments -labeled as 0,1,2 as negative, positive, neutral\n",
    "# text - the actual twitter content that needs further cleaning\n",
    "\n",
    "#all records are in englisg so the variable can be excluded , unnamed (0) is redundant."
   ]
  },
  {
   "cell_type": "code",
   "execution_count": 34,
   "metadata": {},
   "outputs": [
    {
     "name": "stdout",
     "output_type": "stream",
     "text": [
      "(1804, 2)\n",
      "Index(['Sentiments', 'text'], dtype='object')\n"
     ]
    }
   ],
   "source": [
    "stan_lee_raw_01 = stan_lee_raw_00.drop(['order','lang'],axis=1)\n",
    "print(stan_lee_raw_01.shape)\n",
    "print(stan_lee_raw_01.columns)\n",
    "#Things are in order now"
   ]
  },
  {
   "cell_type": "code",
   "execution_count": 35,
   "metadata": {},
   "outputs": [
    {
     "name": "stdout",
     "output_type": "stream",
     "text": [
      "      Sentiments                                               text\n",
      "0              1  Enough said - Stan the man Lee https//tco/zHTL...\n",
      "1              2  RIP in Peace Stan Lee from MiddleUrinalPod sou...\n",
      "2              1  StanLeeForever Remix EDM StanLee marvelcomics ...\n",
      "3              1  Stan Lee Inspired Us All Celebrate His 95 Year...\n",
      "4              2  Now for something breathtaking A new episode f...\n",
      "5              2  Rap De Stan Lee EN ESPAÑOL || Frikirap || CriC...\n",
      "6              2  ZoomTV wreckitralph - Stan Lee RalphWithZoomJo...\n",
      "7              2  my birthday wish listcarbon monoxide scented c...\n",
      "8              1  Marvel Studios chief Kevin Feige wrote a tribu...\n",
      "9              2  Kevin Smith Reacts to Bill Maher Taking a Shot...\n",
      "10             2  Marvel Studios chief Kevin Feige recalled his ...\n",
      "11             1  Marvel Studios chief Kevin Feige wrote a tribu...\n",
      "12             2  ShinGokaiRed I love marvel and Stan Lee but I ...\n",
      "13             2  I liked a YouTube video https//tco/dub7PUkDot ...\n",
      "14             1  Rest in Power Stan Lee published on Twist amp ...\n",
      "15             1  Marvel Studios chief Kevin Feige wrote a tribu...\n",
      "16             1  Marvel Studios chief Kevin Feige wrote a tribu...\n",
      "17             2  Trend Ranking within 24 hoursNo1 Markelle Fult...\n",
      "18             0  I honestly get Bill Maher's take about dumbing...\n",
      "19             1  Marvel Studios chief Kevin Feige wrote a tribu...\n",
      "20             1  10 Things To Know Marvel Studios chief Kevin F...\n",
      "21             2  wip 3 Tribute to Stan Lee therealstanlee IRON-...\n",
      "22             1  This impressive podcast from MFXPodcast will c...\n",
      "23             1  Marvel Studios chief Kevin Feige wrote a tribu...\n",
      "24             1  Marvel Studios chief Kevin Feige wrote a tribu...\n",
      "25             2  Finished the first Marvel sheet with the devil...\n",
      "26             1  Stan lee has been trending for days now we sta...\n",
      "27             1  This our second hour we'll be looking at the c...\n",
      "28             0  Bill Maher’s comments seemed unnecessary to us...\n",
      "29             1  Just arrived Stan’s Soapbox Now Remembering an...\n",
      "...          ...                                                ...\n",
      "1774           2  While everybody was distracted by the Michael ...\n",
      "1775           2  Stan Lee possessed qualities he endowed our fa...\n",
      "1776           1  Marvel Pays Tribute to Stan Lee | News | Marve...\n",
      "1777           1  In honor of the late great Stan Lee RideApart ...\n",
      "1778           2                     Ngl but check out this thread \n",
      "1779           2  TheRealStanLee GNUSBrands It is genuinely ghou...\n",
      "1780           2  CaptainResists Prometheus_2018 dizzle5000 Trin...\n",
      "1781           2  dizzle5000 Dolphin_Resist DonnaNoble10th Shuri...\n",
      "1782           2  TheRealStanLee GNUSBrands I'm very sorry I thi...\n",
      "1783           1  Stan Lee was a prolific creator of our time Ma...\n",
      "1784           2               NO MAMEEEEEES SALE STAN LEE EN RALPH\n",
      "1785           2  kouglof2 TheCollector198 wbpictures I don't kn...\n",
      "1786           2    DrJaneRuby Show Laura thishttps//tco/VJEaBqPCcA\n",
      "1787           2  reneritchie I missed that - I didn’t start rea...\n",
      "1788           1                              stan lee grinner pace\n",
      "1789           1  StanLeeForever GeeksResist Because joss was is...\n",
      "1790           1  Too Soon Rip Stephen Hillenburg and Stan Lee S...\n",
      "1791           1  Roxyfighter justsaiyan_gear Stan Lee would hav...\n",
      "1792           1  I hope this is not yet too late to show up my ...\n",
      "1793           1                    We gotta protect Matt Groening \n",
      "1794           1  TheRealStanLee GNUSBrands Heh didn't know Stan...\n",
      "1795           1  dizzle5000 ShuriResists DonnaNoble10th Dolphin...\n",
      "1796           1  Jim Steranko Pens Heartfelt Tribute to Stan Le...\n",
      "1797           0                     _GDPhil_ Shout out to Stan Lee\n",
      "1798           2  dizzle5000 ShuriResists DonnaNoble10th Dolphin...\n",
      "1799           2  Red Cross Declares Louisiana Flooding Worst US...\n",
      "1800           1  Stan Lee was and still remains an incredible g...\n",
      "1801           1                     I’m still upset about Stan Lee\n",
      "1802           2  dizzle5000 ShuriResists DonnaNoble10th Dolphin...\n",
      "1803           0  Rip X but he does not deserve to be in the sam...\n",
      "\n",
      "[1804 rows x 2 columns]\n"
     ]
    }
   ],
   "source": [
    "#Lets' clean the file for unwanted characters\n",
    "stan_lee_raw_01['text'].replace(to_replace='[+âœœïºâ€™ðÿâ*$€™&@ðŸ˜”ðŸ˜­ðŸ˜✒️👀✨😤🙏🏼!#?,.:\";]', value= '', regex=True, inplace=True)\n",
    "stan_lee_raw_01['text'].replace(to_replace='[\\r\\n]', value= '', regex=True, inplace=True)\n",
    "stan_lee_raw_01['text'].replace(to_replace='|', value= '', regex=True, inplace=True)\n",
    "\n",
    "\n",
    "print (stan_lee_raw_01)"
   ]
  },
  {
   "cell_type": "code",
   "execution_count": 36,
   "metadata": {},
   "outputs": [
    {
     "name": "stdout",
     "output_type": "stream",
     "text": [
      "      Sentiments                                               text\n",
      "0              1  enough said - stan the man lee https//tco/zhtl...\n",
      "1              2  rip in peace stan lee from middleurinalpod sou...\n",
      "2              1  stanleeforever remix edm stanlee marvelcomics ...\n",
      "3              1  stan lee inspired us all celebrate his 95 year...\n",
      "4              2  now for something breathtaking a new episode f...\n",
      "5              2  rap de stan lee en español || frikirap || cric...\n",
      "6              2  zoomtv wreckitralph - stan lee ralphwithzoomjo...\n",
      "7              2  my birthday wish listcarbon monoxide scented c...\n",
      "8              1  marvel studios chief kevin feige wrote a tribu...\n",
      "9              2  kevin smith reacts to bill maher taking a shot...\n",
      "10             2  marvel studios chief kevin feige recalled his ...\n",
      "11             1  marvel studios chief kevin feige wrote a tribu...\n",
      "12             2  shingokaired i love marvel and stan lee but i ...\n",
      "13             2  i liked a youtube video https//tco/dub7pukdot ...\n",
      "14             1  rest in power stan lee published on twist amp ...\n",
      "15             1  marvel studios chief kevin feige wrote a tribu...\n",
      "16             1  marvel studios chief kevin feige wrote a tribu...\n",
      "17             2  trend ranking within 24 hoursno1 markelle fult...\n",
      "18             0  i honestly get bill maher's take about dumbing...\n",
      "19             1  marvel studios chief kevin feige wrote a tribu...\n",
      "20             1  10 things to know marvel studios chief kevin f...\n",
      "21             2  wip 3 tribute to stan lee therealstanlee iron-...\n",
      "22             1  this impressive podcast from mfxpodcast will c...\n",
      "23             1  marvel studios chief kevin feige wrote a tribu...\n",
      "24             1  marvel studios chief kevin feige wrote a tribu...\n",
      "25             2  finished the first marvel sheet with the devil...\n",
      "26             1  stan lee has been trending for days now we sta...\n",
      "27             1  this our second hour we'll be looking at the c...\n",
      "28             0  bill maher’s comments seemed unnecessary to us...\n",
      "29             1  just arrived stan’s soapbox now remembering an...\n",
      "...          ...                                                ...\n",
      "1774           2  while everybody was distracted by the michael ...\n",
      "1775           2  stan lee possessed qualities he endowed our fa...\n",
      "1776           1  marvel pays tribute to stan lee | news | marve...\n",
      "1777           1  in honor of the late great stan lee rideapart ...\n",
      "1778           2                     ngl but check out this thread \n",
      "1779           2  therealstanlee gnusbrands it is genuinely ghou...\n",
      "1780           2  captainresists prometheus_2018 dizzle5000 trin...\n",
      "1781           2  dizzle5000 dolphin_resist donnanoble10th shuri...\n",
      "1782           2  therealstanlee gnusbrands i'm very sorry i thi...\n",
      "1783           1  stan lee was a prolific creator of our time ma...\n",
      "1784           2               no mameeeeees sale stan lee en ralph\n",
      "1785           2  kouglof2 thecollector198 wbpictures i don't kn...\n",
      "1786           2    drjaneruby show laura thishttps//tco/vjeabqpcca\n",
      "1787           2  reneritchie i missed that - i didn’t start rea...\n",
      "1788           1                              stan lee grinner pace\n",
      "1789           1  stanleeforever geeksresist because joss was is...\n",
      "1790           1  too soon rip stephen hillenburg and stan lee s...\n",
      "1791           1  roxyfighter justsaiyan_gear stan lee would hav...\n",
      "1792           1  i hope this is not yet too late to show up my ...\n",
      "1793           1                    we gotta protect matt groening \n",
      "1794           1  therealstanlee gnusbrands heh didn't know stan...\n",
      "1795           1  dizzle5000 shuriresists donnanoble10th dolphin...\n",
      "1796           1  jim steranko pens heartfelt tribute to stan le...\n",
      "1797           0                     _gdphil_ shout out to stan lee\n",
      "1798           2  dizzle5000 shuriresists donnanoble10th dolphin...\n",
      "1799           2  red cross declares louisiana flooding worst us...\n",
      "1800           1  stan lee was and still remains an incredible g...\n",
      "1801           1                     i’m still upset about stan lee\n",
      "1802           2  dizzle5000 shuriresists donnanoble10th dolphin...\n",
      "1803           0  rip x but he does not deserve to be in the sam...\n",
      "\n",
      "[1804 rows x 2 columns]\n"
     ]
    }
   ],
   "source": [
    "#Now let's standarize everything into lower letters\n",
    "stan_lee_raw_01['text'] = stan_lee_raw_01['text'].str.lower()\n",
    "print (stan_lee_raw_01)"
   ]
  },
  {
   "cell_type": "code",
   "execution_count": 38,
   "metadata": {},
   "outputs": [
    {
     "name": "stdout",
     "output_type": "stream",
     "text": [
      "(1804,)\n",
      "(1804,)\n"
     ]
    }
   ],
   "source": [
    "#Let's split the file now so the tweet information is separated from the class\n",
    "class_list = stan_lee_raw_01['Sentiments']\n",
    "feature_text = stan_lee_raw_01['text']\n",
    "print(class_list.shape)\n",
    "print(feature_text.shape)"
   ]
  },
  {
   "cell_type": "code",
   "execution_count": 40,
   "metadata": {},
   "outputs": [
    {
     "name": "stdout",
     "output_type": "stream",
     "text": [
      "<class 'pandas.core.series.Series'>\n"
     ]
    }
   ],
   "source": [
    "print(type(feature_text))"
   ]
  },
  {
   "cell_type": "code",
   "execution_count": 41,
   "metadata": {},
   "outputs": [
    {
     "data": {
      "text/plain": [
       "CountVectorizer(analyzer='word', binary=False, decode_error='strict',\n",
       "        dtype=<class 'numpy.int64'>, encoding='utf-8', input='content',\n",
       "        lowercase=True, max_df=1.0, max_features=None, min_df=1,\n",
       "        ngram_range=(1, 1), preprocessor=None, stop_words='english',\n",
       "        strip_accents=None, token_pattern='(?u)\\\\b\\\\w\\\\w+\\\\b',\n",
       "        tokenizer=None, vocabulary=None)"
      ]
     },
     "execution_count": 41,
     "metadata": {},
     "output_type": "execute_result"
    }
   ],
   "source": [
    "#Now the information is clean, it is time to introduce the nltk tools  \n",
    "#The CountVectorizer provides not only a simple way to both tokenize a collection of text documents \n",
    "#and build a vocabulary of known words, but also to encode new documents using that vocabulary\n",
    " \n",
    "import nltk\n",
    "from sklearn.feature_extraction.text import CountVectorizer\n",
    "#that's a safe way to exclude from the list of a good chunk of words that are frequent but not relevant\n",
    "vectorizer =CountVectorizer(stop_words='english') \n",
    "\n",
    "# To actually create the vectorizer, we need to call fit on the text\n",
    "# data that we wish to fix\n",
    "#vectorizer.fit(sample_text) ..In the case sample_text = feature_text\n",
    "vectorizer.fit(feature_text)"
   ]
  },
  {
   "cell_type": "code",
   "execution_count": 42,
   "metadata": {},
   "outputs": [
    {
     "name": "stdout",
     "output_type": "stream",
     "text": [
      "{'said': 4396, 'stan': 4728, 'man': 3154, 'lee': 2950, 'https': 2430, 'tco': 4937, 'zhtlfsj2vw': 5747, 'rip': 4276, 'peace': 3772, 'middleurinalpod': 3302, 'sound': 4668, 'amazing': 485, 'doesn': 1496, 'know': 2858, 'want': 5434, 'click': 1094, 'link': 3020, 'wckl8xdxje': 5457, 'stanleeforever': 4734, 'remix': 4191, 'edm': 1638, 'stanlee': 4733, 'marvelcomics': 3193, 'dubstep': 1570, 'youtube': 5704, 'finally': 1899, 'complete': 1159, 'dccomics': 1345, 'byebiuaifq': 902, 'inspired': 2572, 'celebrate': 986, '95': 329, 'years': 5671, 'a11vlkmjdq': 359, 'breathtaking': 839, 'new': 3505, 'episode': 1709, 'dinnerpodcast': 1460, 'news': 3511, 'kimhwj0lcs': 2837, 'rap': 4107, 'en': 1677, 'español': 1724, 'frikirap': 1986, 'cricri': 1253, 'no9fu32f30': 3541, 'thanks': 4984, 'fun': 2007, 'zoomtv': 5759, 'wreckitralph': 5567, 'ralphwithzoomjoin': 4099, 'winimmacristy': 5506, 'imtophey': 2531, 'imbertjr': 2512, 'dyajahkim': 1588, 'imcarlc': 2513, 'birthday': 758, 'wish': 5512, 'listcarbon': 3023, 'monoxide': 3360, 'scented': 4434, 'candlemountain': 934, 'dewapplebee': 1415, 'gift': 2094, 'cardstan': 953, 'decaying': 1368, 'left': 2967, 'et6qacrsvn': 1732, 'marvel': 3190, 'studios': 4816, 'chief': 1043, 'kevin': 2806, 'feige': 1873, 'wrote': 5580, 'tribute': 5157, 'described': 1394, 'final': 1897, 'meeting': 3245, 'maybe': 3221, 'lev': 2990, 'qugo2mepud': 4068, 'smith': 4612, 'reacts': 4125, 'maher': 3140, 'taking': 4917, 'shot': 4537, 'w5s6qxofpk': 5408, 'smartnews': 4606, 'recalled': 4148, 'tributehttps': 5159, 'bpfnaprhec': 824, 'lmmt9haoj1': 3049, 'shingokaired': 4527, 'love': 3088, 'sympathise': 4899, 'point': 3886, 'oxvt43gs0f': 3706, 'liked': 3006, 'video': 5346, 'dub7pukdot': 1569, 'explains': 1794, 'spider': 4690, 'just': 2769, 'regular': 4171, 'guy': 2204, '1977': 64, 'rest': 4229, 'power': 3915, 'published': 3997, 'twist': 5214, 'amp': 490, 'twainhttps': 5206, 'dtig9tmsum': 1568, '6hqy6ovf2y': 256, 'hqgbul3myw': 2427, 'lxsdopxvyj': 3113, 'trend': 5151, 'ranking': 4103, '24': 118, 'hoursno1': 2418, 'markelle': 3179, 'fultzhttps': 2006, '3alhuvg8zono2': 168, 'leehttps': 2955, 'rayk9xqn69no': 4115, 'vjtqjdez8r': 5366, 'honestly': 2398, 'dumbing': 1576, 'picked': 3826, 'wrong': 5578, 'poster': 3908, 'child': 1044, 'attacking': 600, 'h2qll7fhi9': 2213, 'le': 2942, 'cawhg7ytti': 974, '10': 22, 'things': 5035, '8rwvegm5h9': 313, 'wip': 5509, 'therealstanlee': 5022, 'iron': 2603, 'mark': 3178, 'sketch': 4587, 'trying': 5184, 'recreate': 4159, 'comic': 1131, 'cover': 1213, 'ib2vgfubbi': 2464, 'impressive': 2530, 'podcast': 3882, 'mfxpodcast': 3284, 'change': 1015, 'life': 2999, 'literally': 3031, 'exaggeration': 1765, 'listen': 3024, 'ubw3alnvrw': 5234, '28wb7lporo': 131, 'jx8yri5cen': 2776, 'finished': 1905, 'sheet': 4523, 'devil': 1413, 'hell': 2302, 'kitchen': 2847, 'matt': 3213, 'murdock': 3422, 'known': 2861, 'daredevil': 1322, 'musz2udch0': 3429, 'trending': 5152, 'days': 1342, 'legends': 2973, 'second': 4461, 'hour': 2416, 'll': 3044, 'looking': 3066, 'conclusion': 1166, 'seasons': 4458, 'spiderman': 4693, 'incarnation': 2533, 'close': 1100, 'fqwehkovns': 1959, 'comments': 1150, 'unnecessary': 5283, 'energy': 1686, 'aroundvideo': 559, 'the15zfdmd': 4992, 'arrived': 562, 'soapbox': 4628, 'remembering': 4186, 'celebrating': 987, 'read': 4126, 'best': 731, 'offerings': 3616, 'god': 2114, '3wt4859vxt': 189, 'far': 1846, 'cinematic': 1069, 'existence': 1784, 'eternally': 1736, 'grateful': 2158, 'witnessed': 5518, '3qkbvpyem8': 179, 'didnt': 1436, 'ask': 585, 'pain': 3724, 'included': 2536, 'various': 5330, 'characters': 1024, 'dialogue': 1425, 'word': 5541, 'wouldn': 5555, 'readers': 4127, 'fj8yudzbr0': 1909, 'time': 5072, 've': 5335, 'featured': 1866, 'spiderwars': 4697, 'episodes': 1710, 'mess': 3269, 'cha': 1006, 'zibzsqspwy': 5748, 'melxcorner': 3250, 'heartless': 2291, 'belive': 722, 'took': 5112, 'downyour': 1534, 'channel': 1019, 'realize': 4140, 'f2jqykepiy': 1805, 'odinl0vesmyship': 3611, 'paperback': 3736, 'rlpgbooks': 4294, 'bl7vmz2xzi': 772, '8bft3a8mmq': 305, 'captain': 943, 'america': 487, '1990': 70, 'review': 4249, 'aka': 455, 'rant': 4104, 'hurt': 2446, 'aching': 388, 'heart': 2287, 'lolmhao': 3061, 'hostiahostia': 2411, 'jrcremades': 2756, 'ivanbeider7': 2635, 'taught': 4933, 'business': 894, 'h567w86fjy': 2217, 'comics': 1138, 'culture': 1273, 'lifelessons': 3000, 'transformed': 5143, 'economist': 1625, 'a0w4ihpf7d': 358, 'gpwvowukhs': 2142, 'chose': 1055, 'money': 3358, 'greatest': 2166, 'contribution': 1181, 'animation': 502, 'wor': 5540, 'jbqhssctkw': 2678, 'ogbeastx': 3624, 'joequesada': 2721, 'huhyou': 2439, 'thoughts': 5052, 'probably': 3960, 'long': 3062, 'befor': 711, 'q6epibjxpb': 4023, 'gguzznauwb': 2083, 'legend': 2971, 'dies': 1446, 'prejbrsquo': 3929, 'techsocialnet': 4948, 'thr55b1gnu': 5054, 'shawnrichison': 4521, 'uncool': 5263, 'bring': 844, 'people': 3789, 'bag': 672, 'try': 5183, 'remind': 4188, 'mysel': 3442, 'ol9jfgngou': 3635, 'gphoria': 2141, '2004': 103, 'revolver': 4252, 'ocelot': 3607, 'hideo': 2325, 'kojima': 2865, 'win': 5504, 'award': 637, '3xfwunlo2k': 192, 'kxzxqxeyvr': 2894, 'im': 2504, 'watch': 5446, 'mcu': 3235, 'films': 1896, '2d': 136, '3d': 169, 'mashup': 3207, 'creative': 1237, 'genius': 2071, 'big': 742, 'artistic': 571, 'passion': 3754, '16x20': 47, '2xgykx9bwa': 154, 'president': 3937, 'recalls': 4149, 'fwzqcy77fw': 2024, 'zfr6g45sxh': 5741, 'disney': 1476, 'movie': 3385, '1968': 62, 'column': 1127, 'denouncing': 1388, 'racism': 4089, 'goes': 2119, 'viral': 5360, 'vdbpuirlcj': 5334, 'shoulda': 4539, 'gave': 2055, 'niggas': 3526, 'black': 773, 'panther': 3733, 'hate': 2262, 'appeared': 532, 'tumblr': 5192, 'dash': 1327, 'bristling': 846, 'forever': 1937, 'missed': 3329, 'okay': 3632, 'remember': 4184, 'need': 3488, 'hankie': 2241, 'section': 4465, 'vital': 5364, 'fr': 1960, 'pj6zsoouqj': 3845, 'adr012': 417, 'itssamg': 2627, 'beckasmash': 710, 'sweetpeachash': 4891, 'dogandbabymom': 1499, 'drexius': 1552, 'missmmathers': 3330, 'waywardbones': 5453, 'wwevez': 5591, 'vmoh6mbeyy': 5372, 'nude': 3568, 'gtgtgt': 2189, 'nhkak3qgddsubgenius': 3517, 'paxunplugged': 3764, 'e3majerv68': 1599, 'great': 2164, 'attacked': 599, 'head': 2282, 'artful': 566, 'craft': 1226, 'sentinel': 4484, 'enterprise': 1695, '3hmqa6cjer': 173, '7l170nw99t': 282, 'kids': 2827, 'favourite': 1860, '1978': 65, 'roeg': 4316, 'farewell': 1847, 'nicolas': 3523, '1928': 54, '2018': 110, 'say': 4419, 'happens': 2246, 'threes': 5056, 'william': 5502, 'gjcst3gjmh': 2100, 'today': 5093, 'swinging': 4894, 'city': 1071, 'ending': 1681, 'everi': 1750, 'totally': 5120, 'crying': 1264, 'saw': 4418, 'ralph': 4097, 'breaks': 838, 'internet': 2585, 'night': 3528, 'cameo': 926, 'cried': 1254, 'soon': 4656, 'comes': 1130, 'screen': 4444, 'gotta': 2137, 'pour': 3912, '40': 198, 'homie': 2396, 'obviously': 3602, 'local': 3054, 'library': 2994, 'kzoolibrary': 2900, 'shop': 4535, 'fanfarekzoo': 1839, 'stocked': 4784, 'emwykmhlkj': 1676, 'brilliant': 843, 'commemoration': 1145, 'reed_pop': 4165, 'mcmcomiccon': 3232, '5wzw6g3gqr': 241, 'emotional': 1668, 'alodia': 476, 'gosiengfiao': 2135, 'unforgettable': 5266, 'encounter': 1679, 'o3rms1oe2o': 3591, 'g4m2tyykem': 2033, 'daily': 1309, 'psamarvel': 3988, 'toysfortots': 5132, 'psa': 3987, 'comicbooks': 1134, 'thor': 5048, 'captainamerica': 944, 'uc46nhzc8v': 5236, 'sunjdj5mpd': 4852, 'fatman': 1855, 'xpbrskbnel': 5627, 'break': 836, 'right': 4272, 'wonder': 5535, 'battle': 695, 'latest': 2929, 'destiny': 1405, 'dream': 1546, '9qxwszzsgy': 346, 'crawly12': 1230, 'hollywooddub': 2383, 'marleyg00dlife': 3182, 'ad': 404, 'brief': 842, 'ralphbreakstheinternet': 4098, 'theater': 4997, 'clapped': 1079, 'learn': 2947, 'astonishing': 592, 'work': 5544, 'car': 950, 'fornicating': 1941, 'hoor': 2404, 'xbsmnity1w': 5607, 'doubles': 1528, 'saying': 4421, 'outrage': 3690, 'comment': 1147, 'proves': 3982, 'p5ahjbjpf5': 3715, 'themarysue': 5012, 'remembers': 4187, 'nearly': 3486, 'weeks': 5470, 'death': 1361, 'osdq2zqcfu': 3683, 'tales': 4918, '22': 116, 'cameos': 927, 'fantastic': 1841, 'men': 3263, 'art': 565, 'steve': 4778, 'ditko': 1483, 'bfpgwozfpk': 737, 'rolk98hfq2': 4319, 'forgotten': 1940, 'dxnotiqhek': 1585, 'told': 5099, 'bunch': 887, 'fuck': 1999, 'single': 4572, 'thread': 5055, 'resulting': 4231, '0flf5vq8tr': 7, 'countyoursheep': 1206, 'mgusfxs12t': 3289, 'mikesilver': 3305, 'tadrow': 4910, 'romanticide': 4321, 'wellbeing': 5473, 'bday': 702, 'december': 1370, '28th': 129, 'curious': 1277, 'happybirthday': 2250, 'lzs5k3zox5': 3118, 'supposed': 4870, 'verse': 5341, 'added': 410, 'playlist': 3864, 'rzdnyd1ee7': 4379, 'mallrats': 3152, 'brodie': 849, 'meets': 3246, 'blog': 781, 'posting': 3910, 'passing': 3753, 'goldmanhttps': 2124, '0a27cgyjg6': 4, 'kevfeige': 2805, 'reveals': 4245, 'wanted': 5435, 'lines': 3019, 'appearances': 531, 'aqwcsno96i': 544, 'excelsior': 1769, 'wreck': 5566, 'tell': 4955, 'cutest': 1284, 'hulk': 2440, 'miss': 3328, 'idk': 2480, 'year': 5666, 'ago': 439, 'hulkh2oceanproteam': 2441, 'electrumstencilprimer': 1659, 'eternalink': 1735, 'xmhgl16qyv': 5622, 'legendary': 2972, 'book': 804, 'writer': 5572, 'passes': 3752, 'away': 639, 'uunjnynsrf': 5308, 'praising': 3925, 'betrayed': 734, 'list': 3022, 'includes': 2537, 'detractor': 1409, 'uw2oqssegm': 5312, 'soooo': 4659, 'gonna': 2129, 'look': 3064, 'forward': 1949, 'sooo': 4658, 'ayyyyeee': 655, 'corner': 1191, 'auntie': 610, 'crib': 1252, 'dope': 1525, 'penandink': 3782, 'sodacitysc': 4638, 'sodacitymarket': 4637, 'sodacityart': 4636, 'artist': 569, 'drawing': 1542, 'portrait': 3902, 'artnerd': 577, 'm507ylfqiz': 3123, 'yt2tiifaie': 5712, 'hello': 2303, 'jongwon': 2741, 'good': 2130, 'day': 1340, 'hotnewhiphop': 2415, '80uovhplou': 295, '1964': 58, 'released': 4176, 'monster': 3361, 'magazine': 3136, 'filled': 1892, 'stills': 4783, 'corny': 1192, 'jokes': 2734, 'gm8zjh0ovk': 2108, 'touching': 5122, 'uenkskyfrq': 5240, 'presented': 3935, 'musiclinkup': 3427, 'tdn7wab9su': 4938, 'dwvjulvqji': 1582, 'teyftd758c': 4972, 'like': 3005, 'friggin': 1984, 'charlie': 1029, 'brownthen': 857, 'insults': 2576, '1mti1vnt8r': 83, '4ueo6esmay': 211, 'draw': 1541, 'chris': 1057, 'fellow': 1874, 'plays': 3865, 'human': 2442, 'torch': 5116, 'ra0egphrsp': 4085, 'sale': 4400, 'original': 3681, 'signed': 4560, 'limited': 3016, 'edition': 1635, 'canvas': 936, 'wolverine': 5531, 'l6bg5jhntg': 2906, 'wanna': 5433, 'make': 3145, 'trip': 5165, 'la': 2907, 'smug': 4617, 'wants': 5436, 'value': 5325, 'books': 807, 'end': 1680, 'e2se5pcqws': 1597, 'wonderful': 5536, 'think': 5036, '5ipdinvqri': 230, 'didn': 1435, 'really': 4144, 'create': 1233, 'verge': 5339, 'leaving': 2949, 'com': 1128, 'wu9huohykw': 5585, 'starts': 4753, 'sentence': 4482, 'racist': 4090, '88nvxnxk6k': 301, 'timelapse': 5073, 'named': 3464, 'dog': 1498, 'proud': 3979, 'enovylu7og': 1693, 'goodbye': 2131, 'oc': 3603, 'z6kmpbuwet': 5726, 'nice': 3519, 'spot': 4714, 'yearchristmas': 5668, 'iuldoudevf': 2632, 'believe': 720, 'forgot': 1939, 'post': 3906, 'late': 2927, 'thought': 5050, 'share': 4517, 'ynjh5sxceo': 5695, 'beautiful': 708, 'mural': 3418, 'los': 3075, 'angeles': 499, 'vpqcozfv7y': 5385, 'dean19138839': 1359, 'speedmcdean': 4685, 'gods': 2118, 'norse': 3551, 'mythologynot': 3447, 'aware': 638, 'ofyet': 3622, 'kvzdurj9xh': 2888, 'jqo2bci6ul': 2754, 'jim': 2705, 'henson': 2307, 'vs': 5388, 'epic': 1707, 'battles': 696, 'history': 2352, 'season': 4457, 'holiday': 2377, 'preview': 3942, '333https': 161, 'yt8utjybio': 5713, 'filmed': 1895, 'avengers': 623, 'xmwlwld8pw': 5623, 'avengers4': 624, 'ripstanlee': 4280, 'fatherofmarvel': 1854, 'illustration': 2501, 'colors': 1126, 'qxayyfhtne': 4081, 'used': 5297, 'enjoy': 1690, 'taste': 4931, 'venom': 5338, 'amp039maybe': 491, 'som': 4647, '4pu93ctsyb': 208, 'segs': 4470, 'memorial': 3258, 'starting': 4752, '30': 156, 'mins': 3320, 'paragon': 3737, 'chat': 1030, 'come': 1129, 'hold': 2373, 'reme': 4183, 'fjevzedj8z': 1911, 'excelsiorhttps': 1770, 'hkzj2bixyjstanlee': 2361, 'n2oqt9exx7': 3452, 'manda': 3159, 'tweet': 5210, 'por': 3901, 'thanksgiving': 4985, 'j2x0kuqlsj': 2643, 'toxzpmutch': 5128, '5mwf5redac': 232, 'thecinefiles': 5000, 'srmorris': 4719, 'recorded': 4158, 'intro': 2592, 'uukyhv1r9r': 5307, 'leftists': 2968, 'turn': 5199, 'mocking': 3349, 'duol2ylpvr': 1578, 'renew': 4197, 'vows': 5382, '4y22fp4yed': 213, 'krnzeqxxzj': 2878, '2006': 104, 'stand': 4729, 'autographed': 617, 'rittenhouse': 4287, 'sealed': 4454, 'mint': 3321, 'card': 951, 'fjqdfbzhv5': 1913, 'yyd3dv0xml': 5720, 'autograph': 616, '6x8': 264, 'photo': 3818, 'coa': 1111, 'xijwpihvul': 5616, 'c1mxa5oo02': 909, 'did': 1434, 'weekend': 5468, 'darkened': 1324, 'theat': 4996, 'irsnmahuku': 2607, 'imagine': 2510, 'infinity': 2550, 'war': 5439, 'pt2': 3991, 'half': 2229, 'universe': 5278, 'says': 4422, 'ca': 914, 'replies': 4206, 'ev': 1744, 'sbexenfpn3': 4424, 'thedceu': 5002, 'cybernetically': 1295, 'resurrected': 4234, '6w5clrrhgt': 262, 'ddsxwoint7': 1350, 'paul': 3762, 'pat': 3756, 'honor': 2399, 'signals_of_fury': 4556, 'felt': 1875, 'needed': 3489, 'result': 4230, 'ughe9r6c5z': 5245, 'forget': 1938, 'xqkhlldg7j': 5630, 'mcavoy': 3224, '1922': 53, 'qiupxm32pt': 4041, 'vylplwahm0': 5401, 'pgyqnrpqfn': 3812, 'grass': 2157, 'routes': 4335, 'react': 4124, 'pokemon': 3888, 'detective': 1408, 'trailer': 5138, 'po': 3881, 'aw24be096j': 636, 'written': 5576, 'wall': 5427, 'mcmbirmingham': 3231, 'cosplay': 1195, 'ripecvebtw': 4277, 'boss': 813, 'shares': 4519, 'heartfelt': 2290, 'aknroaoyer': 457, 'silver': 4565, 'age': 436, 'page': 3720, 'available': 620, 'team': 4941, 'cartoon': 962, 'anthonyscomicbookart': 513, 'xmen': 5621, 'htv0eva2kn': 2431, 'artists': 572, 'pay': 3765, 'j5rsojnzch': 2645, 'digitalartsonlinecouk': 1454, '8lpbviawc9': 309, 'song': 4652, 'memory': 3262, 'rendering': 4195, 'sure': 4872, 'yo': 5696, 'pyc1psyb8k': 4015, 'superheroesincolor': 4859, '28': 127, 'november': 3562, '12': 34, 'let': 2984, 'lay': 2939, 'acvqcenqnb': 403, 'hey': 2317, 'guys': 2205, 'alive': 470, 'talk': 4919, 'movies': 3387, 'tv': 5202, 'shows': 4546, 'general': 2069, 'check': 1032, 'quvxk8mx3n': 4078, 'describes': 1395, 'mhijxmfpeh': 3293, '6af9nsyh2l': 249, 'hardest': 2254, 'record': 4157, 'honoring': 2400, 'loved': 3089, 'admired': 415, 'acob2x8lgh': 390, 'lit': 3029, '65': 246, 'talks': 4924, 'guilty': 2199, 'pleasure': 3869, 'series': 4485, 'tokusatsu': 5097, 'va2t6kyr41': 5323, 'jeg': 2688, 'likte': 3010, 'eje4szku1h': 1656, 'doomcock': 1519, 'mourns': 3384, 'massive': 3209, 'celebration': 988, 'featuring': 1867, 'unites': 5274, 'zgzqlhszvm': 5744, 'kiddo': 2826, 'submissions': 4826, 'recolor': 4154, 'sniffle': 4621, 'sweet': 4890, 'tributes': 5160, 'motherhood': 3379, 'rules': 4357, 'jnn0qyy0mi': 2714, 'use': 5296, 'code': 1113, 'fruitoff': 1992, '251': 123, 'offhttps': 3617, 'cxurp0812mthor': 1291, 'lego': 2974, 'present': 3933, 'christmas': 1062, 'zkp3bjvkt0': 5752, 'ygdlb1dvidlego': 5685, 'batman': 693, 'robin': 4306, 'joker': 2733, 'thejoker': 5009, 'darkknight': 1325, 'uthhuh9ujq': 5302, 'based': 689, 'grossed': 2180, '27': 126, 'billion': 747, 'worldwide': 5551, 'rlunfqwzgy': 4295, 'holds': 2375, 'yrymzgogw0': 5711, 'fans': 1840, 'weird': 5471, 'superheroes': 4858, 'ppzu8ft64g': 3920, 'hoodie': 2402, 'sweatshirt': 4888, 'sleeve': 4597, 'classic': 1087, 'shirt': 4530, 'obmy8aksuj': 3596, 'bold': 800, 'assume': 590, 'taeyong': 4913, 'dom': 1505, 'limits': 3017, 'future': 2019, 'access': 379, 'imagination': 2509, 'actors': 399, '9jaeuvcg2n': 340, 'thank': 4982, 'memories': 3261, 'comicsmarvel': 1140, 'stanthemanlee': 4741, 'jhxmf1is3y': 2704, 'wrtrutjsfc': 5582, 'everytime': 1756, 'bryan': 864, 'cranston': 1229, 'face': 1810, 'reminds': 4189, 'soncwp1p9f': 4651, 'maniacs': 3165, 'devon': 1414, 'carlson': 959, '94': 328, 'girl': 2096, 'sarcastic': 4408, 'friends': 1981, 'speak': 4679, 'fluent': 1921, 'quotes': 4075, 'x8nexkmhz1': 5603, 'brought': 855, 'emotions': 1670, 'pkjba3pklr': 3848, 'week': 5466, 'discuss': 1468, 'favorite': 1859, 'genre': 2072, 'tropes': 5170, 'jumphttps': 2765, 'rax9g7dzmg': 4112, 'sheoran74': 4524, 'isn': 2609, 'ideologically': 2478, 'inclined': 2534, 'beings': 718, 'ideolo': 2477, 'rjck98utgo': 4289, 'deemed': 1379, 'remarks': 4182, 'offensive': 3615, 'doubling': 1529, 'legacy': 2970, 'ycffbgrhrq': 5660, 'marvelstudios': 3202, 'images': 2508, 'replaces': 4203, 'logo': 3058, 'treatment': 5150, 'exp_perception': 1785, 'closest': 1101, 'maybeslee': 3222, 'johns': 2728, 'dc': 1344, 'cebulski': 982, 'kirkman': 2844, 'image': 2507, 'definitely': 1381, 'notsdidioquesadalarsenstan': 3557, 'z8jysfpbto': 5729, 'bryce': 867, 'harper': 2258, 'story': 4793, 'message': 3270, 'person': 3800, 'soul': 4667, 'dvqg0ja8bp': 1581, 'uncle': 5262, 'ben': 724, 'reading': 4128, 'heaven': 2295, 'mad': 3132, 'different': 1449, 'mediums': 3243, 'tvs': 5204, 'photos': 3819, 'newspapers': 3512, 'background': 667, 'scenes': 4433, 'agree': 442, 'sentiment': 4483, 'jack': 2647, 'kirby': 2843, 'invention': 2594, 'developed': 1410, 'doctordoom': 1493, 'created': 1234, '572': 223, 'cgc': 1002, '96': 331, 'signature': 4557, 'auto': 615, 'ss': 4720, 'variant': 5328, 'mu7vpokpmt': 3407, 'xr7il5rrxc': 5632, 'guess': 2195, 'poem': 3883, 'heard': 2285, 'pissed': 3841, 'means': 3240, 'csu3i2tci0': 1269, 'y0uctq1vlz': 5650, 'prlduudfpb': 3958, 'gamemah': 2046, 'heartmah': 2292, 'dhlbderwni': 1420, 'moving': 3390, 'kwthgmmo4k': 2892, 'support': 4867, 'yic': 5688, 'canyon': 937, 'club': 1106, 'santa': 4407, 'clarita': 1083, 'tickets': 5064, 'door': 1524, 'enjo': 1689, 'sc4fbcaga3': 4426, 'describing': 1396, 'earth': 1614, 'relatable': 4173, 'h886mobxzb': 2220, 'nu0lahgnjd': 3566, 'heroes': 2311, 'villains': 5352, 'yhfdcuvhl8': 5686, '4l31du2hag': 207, 'game': 2045, 'got': 2136, 'violent': 5359, 'quickly': 4070, 'spidermanps4': 4695, 'watching': 5448, 'teen': 4949, 'titans': 5079, 'funniest': 2012, 'adttt5439z': 420, 'quick': 4069, '2mkkawij5s': 144, 'dsfdg9jntf': 1564, '23': 117, 'reprints': 4214, 'journey': 2748, 'mystery': 3443, '110': 33, 'yqlckwieqj': 5708, 'ceqtj72vnh': 994, '6hqbdj7ite': 255, 'avengers_daya': 625, 'yep': 5678, 'baby': 665, 'groot': 2177, 'actually': 402, 'seconds': 4462, 'screentime': 4446, 'overreacted': 3700, 'bit': 761, 'graphics_d_': 2155, 'evka5872qe': 1758, 'skrull': 4593, 'kree': 2876, 'hero': 2308, '00iwezqcw1': 1, 'won': 5534, 'celebrity': 990, 'shang': 4515, 'chi': 1040, 'film': 1893, 'super': 4854, 'interesting': 2584, 'note': 3553, 'bruce': 858, 'son': 4650, 'brandon': 831, 'zkjcbgtopj': 5751, 'jason_omara': 2671, 'live': 3035, 'cute': 1283, 'ahah': 445, 'fave': 1857, 'superhero': 4857, 'lying': 3116, 'hot': 2412, 'toys': 5130, 'ironman': 2606, 'shotgun': 4538, 'xl': 5617, '16': 45, 'action': 396, 'figure': 1889, 'uk': 5252, 'ebay': 1621, 'ends': 1684, '3h': 172, 'price': 3944, 'gbp': 2058, 'bo7rfkozns': 795, 'lilformers': 3013, 'shouldn': 4540, 'capture': 949, 'glor': 2107, '3znrdvi0vz': 196, 'politics': 3894, 'x5zht2is9t': 5599, 'ogoeyfdyrc': 3625, 'oh': 3626, 'damn': 1312, 'fascinating': 1849, 'stuff': 4817, '3ocbksppcg': 178, 'bro': 847, 'knowing': 2859, 'scene': 4432, 'yip950cdzvcaptainamerica': 5690, 'infinitywar': 2551, 'jxt3fhmhre': 2777, 'bdggxj5lpe': 703, 'lasting': 2926, 'impression': 2529, 'x6fv4ztklb': 5600, 'rubyrobertacd': 4351, 'looks': 3067, 'awesome': 642, 'especially': 1725, 'loving': 3092, 'v5c2yqxkgn': 5319, 'amen': 486, 'kronnf6zsx': 2879, 'everybody': 1752, 'ready': 4130, 'appreciate': 535, 'died': 1438, 'ion': 2598, 'neva': 3503, 'jobbs': 2718, 'iphone': 2599, 'company': 1156, '6ob4xf9jbt': 257, 'suit': 4844, 'upspiderman': 5292, 'homecoming': 2392, 'starksuit': 4745, 'suitup': 4845, 'secretidentity': 4464, '17getko2bv': 49, 'gets': 2079, 'longtime': 3063, 'producer': 3967, 'guest': 2197, 'hollywo': 2381, 'fq8dnnq7vg': 1958, 'whycomicbooksmatter': 5494, 'dy7pnejbdk': 1587, 'zoofster': 5758, '1ooon3yx7q': 88, 'reelviews': 4166, 'a_greenwood': 366, 'hotdumbledore': 2413, 'blackpanther': 775, 'wakandaforever': 5421, 'marvelmopop': 3198, '7tigx6hodt': 289, 'brothers': 854, 'playing': 3863, 'snuck': 4624, 'spoiler': 4706, 'alert': 465, 'billmaher': 748, 'hollywood': 2382, 'reporter': 4211, 'childhood': 1045, 'nugh8d47ob': 3570, 'doooope': 1523, 'hands': 2237, 'fucks': 2003, 'leave': 2948, 'shit': 4531, 'itscozmics': 2624, 'fortniteintel': 1947, 'epicgames': 1708, 'muselk': 3425, 'rescue': 4218, 'tombstone': 5102, 'aqh2grckp2': 542, 'qskb1qofvi': 4055, 'messages': 3271, 'memoriam': 3260, 'birmingham': 756, 'necbirmingham': 3487, 'xrd9f67zsx': 5633, 'outfit': 3688, 'marilyn': 3177, 'mansonstan': 3169, 'movietheclqrt': 3389, 'millenialgals': 3310, 'bloggerloveshare': 782, 'bloglove2018': 783, 'a2ul31fw3b': 360, '2cool4um81': 135, 'thanos': 4988, 'holding': 2374, 'gauntlet': 2054, 'non': 3545, 'prvpuq6ffe': 3984, 'fahq_mean': 1817, 'bengals': 725, 'tiger': 5066, 'tigers': 5067, 'difference': 1447, 'leopard': 2977, 'panthers': 3734, 'color': 1122, '0wk3rpbzta': 21, 'immortal': 2522, 'lofi': 3056, 'hip': 2349, 'hop': 2405, 'mix': 3336, 'pw4s0ccorg': 4013, 'attitude': 605, 'b24qiehsss': 659, 'incredible': 2539, '102': 26, 'april': 538, 'cusyzi9pmc': 1280, 'comicbook': 1132, 'icon': 2469, 'help': 2304, 'survey': 4877, 'essay': 1726, 'doapkmitnr': 1491, 'johnny_____420': 2727, 'piwycr': 3844, 'fortnitegame': 1946, 'joke': 2731, 'elephants': 1660, 'leopards': 2978, 'africa': 433, 'existed': 1783, 'lol': 3060, 'toy': 5129, 'collection': 1118, 'smallbusinesssaturday': 4605, 'cybermonday': 1294, 'handyslunch': 2238, 'galwalks': 2044, 'cbnostalgia': 976, 'ozszvkcduo': 3711, 'better': 735, 'expected': 1788, 'dfkgea8z47': 1418, 'qss2392p3t': 4057, 'killiantrill999': 2832, 'selfprov': 4473, 'tho': 5046, 'making': 3149, 'ncdcnj0jzi': 3477, '66hrjg58vl': 247, 'robertliefeld': 4305, 'commentary': 1148, 'twitter': 5217, 'stumbled': 4820, 'little': 3032, 'cousin': 1212, 'amazed': 484, 'qualit': 4060, 'jf6fbfjag0': 2700, 'c1kz83kcox': 908, '1967': 61, 'metal': 3274, 'superheropoll': 4860, 'moviesmatrix': 3388, 'hear': 2284, 'rumor': 4358, 'leo': 2975, 'dicaprio': 1432, 'irl': 2602, 'neighbor': 3492, 'circling': 1070, 'role': 4318, 'hpt3acbt2q': 2425, 'sins': 4575, 'brooo': 851, 'huge': 2435, 'applause': 534, 'happy': 2249, 'wasn': 5442, 'cele': 984, 'owdnemsw0e': 3702, '84': 299, 'iy9iqjbnqx': 2641, 'sex': 4495, 'self': 4472, 'driving': 1558, 'cars': 960, 'drunk': 1563, 'raccoons': 4087, 'mills': 3313, 'x5jfbaxrc7': 5598, 'laid': 2913, 'private': 3956, 'funeral': 2008, 'memorials': 3259, '8z2g8lo65b': 321, 'dailymailceleb': 1310, 'lucky': 3105, 'emerson': 1665, 'lake': 2914, 'palmer': 3730, 'master': 3210, 'xo14kgl0bn': 5624, 'pens': 3786, '3wnlp1nyvk': 188, 'y1hcflbvus': 5651, 'wmg0hvrhuf': 5523, 'therkader911': 5026, 'fox': 1955, 'mixed': 3337, 'negative': 3491, 'feelings': 1871, 'regarding': 4169, 'industry': 2547, 'bei2c28zne': 717, 'creating': 1235, 'kij5nyyfx7': 2830, 'wordpressdotcom': 5542, 'starlord': 4746, 'gotten': 2138, 'rcpif56ok2': 4118, 'dude': 1571, 'insane': 2566, 'similar': 4567, 'james': 2660, 'professor': 3969, 'charles': 1027, 'xavier': 5604, 'doppelgängers': 1526, 'ama': 482, 'kca78xfyhu': 2796, 'shade510': 4506, 'oneyebogey': 3654, 'ur': 5293, 'friendly': 1980, 'neighborhood': 3493, 'discover': 1467, 'qihqrcjtkq': 4040, 'jmrevdzlfn': 2712, 'kevinmacleod': 2807, 'creativecommons': 1238, 'jamesraiz': 2662, 'snapchat': 4619, 'socialmedia': 4634, 'wixstore': 5519, 'hyfqbyjbjq': 2453, 'rgbb8tp5zb': 4257, 'calacas': 918, 'chidas': 1042, 'el': 1657, 'gran': 2151, 'heroe': 2310, 'tributo': 5161, 'filme': 1894, 'zhqcd2ztos': 5746, 'dear': 1360, 'friend': 1979, 'hea': 2281, 'nimiwliqhs': 3530, 'talked': 4920, 'netflix': 3500, 'fightworld': 1888, 'creator': 1242, 'frank': 1963, 'grillo': 2174, 'waning': 5432, 'popularity': 3900, 'boxing': 822, 'fsb9mjacjd': 1993, 'itsfoodporn': 2625, 'rt': 4346, 'historyinpix': 2353, 'unbelievable': 5259, 'i2fvb6mvoh': 2456, 'michael': 3297, 'jordan': 2742, 'yn7avz4v2d': 5694, 'family': 1833, 'uu8c6gdsvd': 5305, 'hope': 2406, 'bryancranston': 866, 'inevitable': 2548, 'biopic': 754, 'newrelk': 3510, 'diamondspiderp': 1427, 'aw': 635, 'thnn4l4vgmfilme': 5045, 'cinema': 1068, 'geek': 2062, 'nerd': 3497, 'orbitageek': 3678, 'z8edblm8jo': 5728, 'rare': 4108, 'donruss': 1512, 'rhp4n0evd6': 4261, 'sm4mr0gpv2': 4603, '346': 162, 'lncsyjsynw': 3050, 'rpxugzexc7': 4344, 'khemryincali': 2819, 'harddrivemag': 2252, 'haunted2022': 2266, 'fan': 1835, 'cou': 1201, 'teganwgwxf': 4952, 'k4d8rwfgwz': 2781, 'memorables': 3257, 'simpsons': 4570, 'k4d8rwo58p': 2782, '1989': 69, 'p1ojxdmr0g': 3712, 'graphite': 2156, 'matted': 3214, 'ship': 4528, 'shipping': 4529, 'free': 1972, 'visit': 5362, 'order': 3679, 'wc9wadcuui': 5456, 'awhkxgqvoh': 645, 'generations': 2070, 'mad_ronnald': 3133, 'tried': 5162, 'credit': 1246, 'mike': 3303, 'kaufman': 2793, 'tolerate': 5100, 'diagonals': 1424, 'hpeano': 2424, 'quite': 4072, 'ingeniousand': 2558, 'heartwarmingstan': 2294, 'replaced': 4201, 'scc9ieq2b8': 4430, 'despite': 1404, 'highlights': 2330, 'barry': 687, 'chuckle': 1067, 'owfoiiqpqw': 3704, 'jeffs_comics': 2687, 'wmpreston': 5524, 'horror': 2410, 'headlines': 2283, '18': 50, 'leprechaun': 2980, 'returns': 4242, 'george': 2075, 'romero': 4322, 'buznkyor4m': 898, 'battyblogger': 697, 'vabelle2010': 5324, 'jehu11': 2689, 'nbcnews': 3474, 'nbcnewsthink': 3475, 'democrat': 1386, 'righti': 4273, 'sohmy6kcoc': 4641, 'having': 2269, 'dime': 1458, 'knott': 2857, 'berry': 729, 'farm': 1848, '0khuejoayv': 12, 'myquinnfabray': 3441, 'b15xdwefjl': 658, 'dlxumiktee': 1488, 'e5dg9aghoh': 1602, 'voted': 5381, 'yetblack': 5681, 'frontrunner': 1990, 'moment': 3354, 'doctor': 1492, 'doom': 1518, 'cap': 938, 'gwg9g36mwt': 2209, 'editor': 1636, 'publisher': 3998, 'makes': 3146, 'posthumous': 3909, 'speaking': 4680, 'appearance': 530, 'tk5blxthzc': 5084, 'ant': 511, 'wasp': 5444, 'monstersstanlee': 3363, 'jackkirby': 2651, 'artistsoninstagram': 573, 'b74efvo6uv': 661, 'mever': 3278, 'interpreted': 2586, 'way': 5450, 'mean': 3238, 'puyksqy7ld': 4012, 'street': 4805, 'murals': 3419, 'spring': 4716, 'q7kqiebgbs': 4026, 'tweets': 5213, 'rfy9qn2zwk': 4256, 'youtu': 5703, 'skin': 4591, 'permenant': 3799, 'ikingoppi': 2498, 'sgh_rts': 4501, 'shoutgamers': 4542, 'contentpromos': 1175, 'socialgaminghub': 4632, 'hudson': 2433, 'rd5ctksujq': 4119, 'l0dvo2ocvm': 2902, 'stray': 4802, 'uh': 5249, 'sorry': 4664, 'ones': 3652, 'trash': 5146, 'woojin': 5539, 'hyunjin': 2454, 'mmdljtdl9v': 3344, 'tries': 5163, 'clarify': 1082, 'slamming': 4595, 'indiewire': 2545, 'x3mcamfj4p': 5596, 'txlruh7abl': 5219, 'marc': 3171, 'bryon': 868, 'gobbledy': 2113, 'gooker': 2133, 'enfield': 1687, 'mall': 3151, 'chopping': 1054, '1uwyt1qivl': 94, 'follow': 1930, 'workrepost': 5547, 'sopitagvng': 4661, 'bjismevqcq': 768, 'simple': 4568, 'fo': 1927, 'mcpnnmcwpe': 3233, 'portraitstanleeforever': 3903, 'digitaldrawing': 1455, 'desenho': 1397, 'desenhodigital': 1398, 'retrato': 4239, '8wi7kxgf1q': 316, 'albertaokotoks': 460, 'alan_poirier': 459, 'prem_s': 3930, 'million': 3312, 'miles': 3308, 'town': 5126, 'suburb': 4830, 'land': 2917, 'jwaannrf42': 2775, 'uc3n6vqnff': 5235, 'davebautista': 1331, 'theemmys': 5005, 'sad': 4389, 'thing': 5033, 'outstandin': 3695, 'vsttol5nkc': 5390, 'lhy0334': 2992, 'agent': 438, 'shield': 4526, 'whe': 5485, 'iuhfw9dbwh': 2631, 'xfft5gj4g3': 5611, 'don': 1507, 'prplcx2otd': 3983, 'john': 2723, 'buscema': 892, 'zc6nj7d1ea': 5733, 'x0q8vpyxl1': 5594, 'revolutionary': 4251, 'teller': 4956, 'changed': 1016, 'n6y40qjoqr': 3454, 'gfjowqugyp': 2082, 'kus2ii7hot': 2886, 'sleepyfacebuck': 4596, 'theres': 5024, 'article': 567, 'a4': 361, 'officially': 3620, 'sev': 4494, 'kgfe0x41rh': 2816, 'kyutiees': 2897, 'ftblowen_': 1997, 'realise': 4136, 'reason': 4146, 'mock': 3348, 'kpop': 2872, 'thwpbwob3b': 5062, 'ep': 1706, '19': 52, 'omqixxmurw': 3647, 'brother': 853, 'joe': 2719, 'joins': 2730, 'utvxtepvee': 5303, 'ricky': 4267, 'jay': 2674, 'fading': 1816, 'thegameawards': 5006, 'godofwar': 2117, 'goty': 2139, 'dlc': 1486, 'music': 3426, 'rdr2online': 4122, 'f40eejznzm': 1806, '_saintscott': 357, 'yamchancellor': 5659, 'tupac': 5196, 'xxxtentacion': 5646, 'fine': 1901, 'staff': 4725, 'actresses': 401, 'outstanding': 3696, 'job': 2717, '9gjnbtveim': 338, 'came': 925, 'wont': 5537, 'naw': 3470, 'ain': 451, 'bout': 819, 'replenish': 4204, 'blood': 785, 'bone': 801, 'marrow': 3185, 'cells': 991, 'adamantium': 406, 'copper': 1188, 'w5zqaw0d5y': 5409, 'bookshttps': 808, 'soqxiuzeey': 4662, '4kcgks7ngt': 206, 'uivr81gjrh': 5251, 'segnala': 4469, 'ripples': 4278, 'acr': 392, 'txmltbl8vh': 5220, 'clintfbarton': 1097, 'chrjshemsworth': 1064, 'sow1ka8srl': 4673, 'novelty': 3561, 'obscuredmedia': 3599, '2ti61w9g0o': 151, 'sdkcv9ghtn': 4452, 'uxlxpyumim': 5315, '2010': 105, 'documentary': 1494, 'streaming': 4804, 'ads': 418, 'pbs6yjufsj': 3769, 'jurassic': 2767, 'park': 3742, 'employee': 1673, 'national': 3468, 'treasures': 5149, 'anthony': 512, 'hates': 2264, 'debate': 1366, 'begins': 715, 'moon': 3372, 'landing': 2918, 'subject': 4824, 'explain': 1793, 'happen': 2243, 'pg3e2jczmh': 3811, 'agpyrgozej': 441, 'exclusive': 1777, 'takes': 4916, 'bloopers': 786, 'idol': 2481, 'meet': 3244, 'kzvlrrllgz': 2901, 'went': 5475, 'david_royballer': 1334, 'dont': 1513, 'n9ozly4edc': 3457, 'ways': 5452, 'stars': 4748, 'paid': 3723, 'ethel': 1737, 'frog': 1989, 'times': 5075, 'picayune': 3824, 'journal': 2746, 'oyjvs7e46w': 3707, 'rudytheelder': 4352, 'triblivehssn': 5156, 'bdqhxkbvmb': 705, 'luck': 3104, 'doesnt': 1497, 'hwy3xmspoy': 2449, 'watchmojo': 5449, 'homage': 2388, 'working': 5546, 'th': 4980, 'pr9sstbxn5': 3922, 'waspthank': 5445, 'mhioudxsdg': 3294, 'spatola': 4678, 'c8e4je8xua': 912, 'azcardinals': 656, 'jackkirbymuseum': 2652, 'tylerjamescomic': 5224, 'livewire': 3039, 'ydoeaop5uf': 5663, 'yes': 5679, 'avangers': 621, 'mode': 3351, 'fair': 1821, '7qcngkt2dd': 287, 'omg': 3643, '3rizktuaji': 181, 'uljnnivrgr': 5254, 'literal': 3030, 'ironictiktok': 2605, 'bingbears': 752, 'amzingfantasy': 494, 'runthejewrls': 4365, 'rami': 4100, 'adequate': 412, 'adaption': 407, 'opinion': 3668, 'wasnt': 5443, 'bdntiwne5o': 704, 'wa': 5414, 'omgbnouwid': 3644, 'summoning': 4849, 'auro': 611, '101': 24, 'denon': 1387, 'parasound': 3738, 'svs': 4884, 'myeugdwqix': 3438, 'secret': 4463, 'elby': 1658, 'exuberant': 1801, 'letter': 2987, '15': 42, 'old': 3636, 'rr': 4345, 'martin': 3187, '1963stanlee': 57, 'fantasticfour': 1843, 'gouxsvphis': 2140, 'bestearthpix': 732, '3yez8b6byi': 193, 'waygdhdkj0': 5451, 'hi': 2321, 'uhh': 5250, 'pin': 3835, 'sjsn': 4583, 'pop': 3896, 'credits': 1247, 'theowl': 5017, 'mid': 3301, 'grade': 2149, 'koaqtflyeo': 2864, 'wrapped': 5565, 'deadpool': 1355, 'painting': 3727, 'wadewilson': 5417, 'xforce': 5612, 'y5twq6hboy': 5653, 'shaped': 4516, 'young': 5700, 'mind': 3314, 'thinking': 5038, 'schoo': 4437, 'jdytet9cr8': 2681, 'thunder': 5061, 'kiss': 2845, 'robzombie': 4308, 'pandoramusic': 3731, 'c0vhqa7qvt': 906, 'manabyte': 3157, 'hows': 2423, 'doubt': 1530, 'asian': 583, 'oof': 3662, 'flash': 1916, 'makeup': 3147, 'ripstan': 4279, 'ripstantheman': 4282, 'makeupforever': 3148, 'ff1qwiptyt': 1880, 'monsters': 3362, 'laugh': 2930, 'obscure': 3597, '60': 242, 'wvyd44peea': 5589, 'pyplvomlqf': 4017, '3vofapjgvf': 187, 'popsicle': 3899, 'rants': 4106, 'wow': 5556, 'truth': 5182, 'pretentious': 3939, 'brian': 841, 'griffin': 2173, 'hahahaha': 2225, 'enjoyed': 1691, 'delusion': 1382, 'p4qo1j85he': 3714, 'couldn': 1202, 'resist': 4221, 'account': 383, 'loves': 3091, 'dt6glo2xgy': 1567, 'svengoolie': 4883, 'mkzysjcneu': 3342, 'tzer2vydvp': 5225, '1970': 63, '54p9xxreyb': 218, 'qw4yisy1bw': 4080, 'boingboing': 799, 'going': 2120, 'passed': 3751, 'yesterday': 5680, 'rick': 4266, 'rjucgvu0xs': 4290, 'thepunisher': 5018, 'widowmaker': 5497, 'issue': 2613, 'frankcastle': 1964, 'justice': 2771, '2pyexo90zb': 148, 'soundcloudheres': 4670, 'qpvdzrokam': 4053, 'respawn': 4222, 'nxqfpf9iny': 3578, 'attacks': 601, 'bless': 779, 'jc79mzyz1j': 2679, 'wifi': 5500, 'es': 1722, 'perfecta': 3794, 'twitterarielbaby': 5218, 'grootdeep': 2178, 'weby': 5462, 'hasta': 2261, 'wise': 5511, 'piece': 3831, 'ret': 4235, 'army': 557, 'gen': 2068, 'mcchrystal': 3225, 'americans': 489, 'set': 4489, 'aside': 584, 'icons': 2471, 'robert': 4303, 'liv': 3034, 'qefukqjsso': 4036, 'euulose': 1743, 'herocomplexart': 2309, 'update': 5289, 'unfulfilled': 5269, 'prints': 3954, 'davekingthing': 1332, 'parked': 3743, 'worked': 5545, 'chateau': 1031, 'dried': 1553, 'ears': 1613, 'lived': 3036, 'anot': 510, 'kcfmimcnu0': 2797, 'guts': 2201, 'chosenramen': 1056, 'ugly': 5246, 'tears': 4944, 'manpuerto': 3168, 'rican': 4263, 'gl8hmmckvo': 2104, 'savinthebees': 4415, 'watched': 5447, '90': 324, 'q1vzlft2dz': 4021, 'cheered': 1034, 'sgt': 4504, 'fury': 2016, '13': 38, 'graded': 2150, 'dick': 1433, 'ayers': 652, 'inks': 2563, 'bo': 794, 'cqkkj7ezbu': 1221, 'al': 458, 'ewingyour': 1762, 'bad': 668, 'drip': 1555, 'subscribe': 4828, 'yenqmr1bew': 5677, 'truly': 5178, 'king': 2840, 'stanleehttps': 4735, 'c6frjphmfy': 911, 'comix': 1143, 'eioxdxuxo7': 1653, 'comicdrawapp': 1135, 'futekiya': 2018, 'tauycreek': 4934, 'kicksstarter': 2823, 'seen': 4468, 'af': 431, 'sgqwc6bri5': 4503, 'imjustinsanders': 2517, 'shocked': 4533, 'ol': 3634, 'wr32fkxixj': 5563, 'niggers': 3527, 'shut': 4550, 'yall': 5657, 'fuckin': 2001, 'protect': 3976, 'katrinaosity': 2792, '90s': 325, 'nex': 3513, 'm9a0yn17jk': 3125, 'copy': 1189, 'ms': 3399, 'btlcollectiblesshow': 873, 'mia': 3296, 'nal9gqcgff': 3462, 'spoilers': 4708, 'wreckitralphthat': 5568, 'e6zooesbj5': 1606, 'ushndrdhoh': 5299, 'random': 4102, 'discussion': 1471, 'phoenix': 3816, 'w4ddcnixbl': 5405, 'words': 5543, 'woke': 5528, 'gpz4qxaujm': 2143, 'voe59fpgno': 5375, '91': 326, 'larryking': 2924, '1tudbrayvt': 93, 'ah': 444, 'e4': 1600, 'cantcope': 935, 'toosoon': 5114, 'xxcoxhpwrr': 5641, 'g4wfzg3gdk': 2035, 'superman': 4864, 'xmas': 5619, 'o9prjjcbod': 3593, 'covered': 1214, 'bashes': 690, 'disrespecting': 1478, 'b7sigko5z1via': 662, 'googlenews': 2132, 'vwke5cc0ac': 5396, 'mista': 3331, 'perez': 3792, 'remixes': 4192, 'on3kasugcg': 3649, 'youtuberemix': 5705, 'i6xqug0223': 2459, 'actorpeternew': 398, 'mythmaking': 3446, 'facing': 1811, 'moral': 3374, 'mwfkwy3epq': 3435, 'om3tinhyc0': 3640, 'wikipedia': 5501, '8eny5aakrm': 306, 'interested': 2583, 'required': 4217, 'biopichttps': 755, 'ars72g5wgf': 564, 'qcfq9hxnq4': 4030, '2bivnyxq8n': 133, 'golden': 2123, 'girls': 2097, 'gal': 2041, 'gadot': 2039, 'princesses': 3951, 'ncwnqoifox': 3480, 'rylend1': 4377, 'rawinssb': 4111, 'it_meirl_bot': 2618, 'chu': 1066, 'talkin': 4922, 'cowboy': 1217, 'cc': 978, 'sketches': 4590, 'kid': 2824, 'f8nrmi63ib': 1808, 'ravage': 4110, '2099': 113, 'qhuaqbqw9s': 4039, 'livestream': 3038, '9pm': 344, 'est': 1728, 'tonight': 5107, 'bzisprqqdr': 903, 'jitampq7wa': 2708, 'mikefrancesa': 3304, 'played': 3859, '899': 302, 'giambi': 2091, '7ix6qvhkb9': 280, 'imho': 2516, 'oped': 3666, 'fypg8zycrj': 2029, 'mykrabs': 3439, 'leerip': 2961, 'express': 1796, 'appreciation': 536, 'himselfstan': 2348, 'qmony3gyor': 4050, 'op': 3664, 'ed': 1627, 'compose': 1163, 'obituary': 3595, 'dust': 1579, 'settled': 4493, 'overloo': 3699, 'h4piod5h0i': 2215, 'werewolf': 5476, '32': 160, '50': 214, 'milgrom': 3309, '1st': 90, 'knight': 2854, 'e5n7mvwnxu': 1603, 'kj9irnqbgp': 2849, 'bluemoongg_': 791, 'kinda': 2839, 'unhealthy': 5270, 'rl': 4292, 'fixation': 1908, 'spilling': 4701, 'memes': 3255, 'worth': 5554, 'celeb': 985, 'njlzwbl6du': 3534, 'worse': 5552, 'spend': 4686, 'data': 1328, 'plan': 3854, 'ppcujxooqi': 3917, 'p2gfhbn1s6': 3713, 'newest': 3507, 'bspn': 869, 'jnn2j5wqtu': 2715, 'cracked': 1225, 'wtxdv8sswo': 5584, 'tekpjjbxzv': 4953, 'soif': 4642, 'die': 1437, 'sword': 4896, 'murderous': 3421, 'hagcosp': 2222, 'xi17lqms6w': 5615, 'ugyq1zywd1': 5248, 'unique': 5272, 'ltm': 3102, 'kn0bifshno': 2852, 'teared': 4943, 'showed': 4545, 'fortieaks': 1944, 'muellershewrote': 3411, 'dreadnoughtnot': 1545, 'realdonaldtrump': 4132, 'mueller': 3410, 'wandziamaximoff': 5431, 'omgpupsplease': 3645, 'yeah': 5665, 'earlier': 1611, 'sense': 4480, 'parkers': 3746, 'jewish': 2697, 'considering': 1173, 'infl': 2552, '37qkssjdhu': 166, 'ok': 3630, 'happening': 2245, 'mrrandem': 3397, 'duwang991': 1580, 'rainbowsquidink': 4094, 'maxxor501': 3220, 'supersamzero64': 4866, 'gunbladeknight': 2200, 'toshiroyamanaka': 5117, 'kingsdietwice': 2842, 'erxxeztl66': 1721, 'getting': 2080, 'jerked': 2693, 'convention': 1183, 'ha': 2221, 'kr9c35tg02': 2875, 'ghost': 2087, 'haunts': 2267, 'sean_tardy': 4456, 'parents': 3741, 'children': 1049, 'nightcosplay': 3529, 'loki': 3059, 'cosplayer': 1196, 'miry_chan': 3326, 'instagram': 2573, 'ph': 3813, 'gwmgrphkkg': 2210, 'drank_fn': 1540, 'funko': 2009, 'security': 4466, 'guard': 2192, '283': 128, 'walmart': 5428, 'likpahbjol': 3009, 'instead': 2574, 'criticizing': 1257, 'bigger': 744, 'willwhy': 5503, 'n3dr9dqppx': 3453, 'kiwmoihfwb': 2848, 'ozanturkekul': 3709, 'tomholland1996': 5104, 'tomholland': 5103, 'aged': 437, '31': 158, 'gf99zo9lfv': 2081, 'bleacherreport': 778, 'thecheckdown': 4999, 'villanueva': 5353, 'hardy': 2255, 'evan': 1745, 'peters': 3805, '7quvr0sst6': 288, 'talking': 4923, 'outhttps': 3689, 'y9wjf6whzz': 5655, 'prepared': 3932, 'immediately': 2518, 'started': 4751, 'begin': 713, 'countdown': 1204, 'csbg': 1267, 'cbr': 977, '100': 23, 'stories': 4790, 'tkdi3myjjh': 5085, 'unofficial': 5284, '11': 32, 'pikachu': 3832, 'red': 4160, 'dead': 1352, 'redemption': 4161, 'online': 3661, 'in8fpbjwo7': 2532, 'stop': 4786, 'doing': 1501, 'snvrw7y5wa': 4626, 'ace': 385, 'listening': 3026, 'highlight': 2329, 'feel': 1868, 'bundle': 888, 'ps4': 3985, 'slim': 4599, '1tb': 92, 'sony': 4654, 'playstation4': 3867, '5h': 229, 'odvwkegfab': 3612, 'origin': 3680, 'app': 527, 'octopus': 3609, 'ccxhqk5olv': 980, 'cafap83n2w': 915, 'auction': 606, '35': 163, '85': 300, 'ssx2': 4722, 'tom': 5101, 'holland': 2380, 'xulkz3yrrb': 5637, 'needs': 3490, 'awhile': 644, 'official': 3619, 'design': 1402, 'jbktldt6di': 2676, '5fsfyiyhks': 227, 'milamicali': 3307, 'beingtsj': 719, 'jakestakes': 2657, 'jeremyadamross': 2692, 'wrongrogers': 5579, 'fucking': 2002, 'upcoming': 5287, 'banter': 682, 'strangest': 4799, '1nzac2sxcz': 86, 'short': 4536, 'reck': 4152, 'bruh': 859, 't3bc09mjbh': 4906, 't6aozixjce': 4907, 'fsoesyydyq': 1994, 'sneak': 4620, 'peek': 3776, 'stripperella': 4808, 'oagjhga1d9': 3594, 'great_katzby': 2165, 'sounds': 4671, 'toxic': 5127, 'vile': 5351, 'jealousy': 2682, 'eating': 1620, 'kind': 2838, 'labelling': 2908, 'vpniky0pwc': 5384, 'creations': 1236, 'o0h8vqyukl': 3589, 'soo': 4655, 'thesims': 5029, 'immortalize': 2524, 'sims': 4571, 'expansion': 1786, '56qmhfzmly': 221, 'udwwwkhad3': 5238, 'klchqtu03w': 2850, 'como': 1155, 'dibujar': 1431, 'homenaje': 2394, 'entrepreneurs': 1702, 'nfcn0wewrs': 3514, '0vr9thejch': 20, 'putting': 4010, 'therestan': 5025, 'birthdayavengers': 759, 'trailerrusso_brothers': 5139, 'freescreeningtickets': 1975, 'beamsplashx': 706, 'dreams': 1549, 'goals': 2111, 'reachable': 4123, 'sun': 4850, '3s4ez0k1lj': 184, 'thekasodus': 5010, 'supports': 4868, 'ruben': 4350, 'sim': 4566, 'videoswould': 5348, 'jywcnxwc3l': 2780, 'damucifer': 1314, 'appearing': 533, 'convo': 1185, 'mutable_me': 3430, 'banned': 680, 'multiple': 3415, 'question': 4066, 'marks': 3181, 'results': 4232, 'older': 3637, 'happened': 2244, 'indus': 2546, 'fy3ni816d5': 2026, 'incredibly': 2540, 'lot': 3083, 'thugositjs': 5060, 'futuristic': 2020, 'glasses': 2106, 'guardians': 2194, 'galaxy': 2043, 'ennla8wyuz': 1692, 'funkopop': 2011, 'originalfunko': 3682, 'essential': 1727, 'vol': 5379, 'cxnfmrq41i': 1290, 'tkmjt8ssu2': 5086, 'dean': 1358, 'intelligent': 2579, 'dumbassreviews': 1574, 'creed2': 1248, 'widows': 5498, 'nigerian': 3524, 'prince': 3948, 'ab': 368, 'eha5q67s3j': 1650, 'stuffing': 4818, 'misterfantastic': 3334, 'jar': 2668, 'ff': 1879, 'yigx59fqdq': 5689, 'newova': 3509, 'youtubeunofficial': 5707, 'w52hzz4plk': 5407, 'start': 4750, 'author': 614, 'sbzqluucwt': 4425, 'stunning': 4821, 'pays': 3768, '3yu8nexjqh': 194, 'lqlw1yhp7f': 3095, '57': 222, 'foundearth': 1952, 'cartoonbook': 963, 'coloring': 1125, 'allages': 472, 'jypf9dbdod': 2779, 'jscottcampbell': 2759, 'zavuvt4kls': 5732, 'mirandasings': 3325, 'wrecks': 5569, 'pittsburgh': 3843, 'tsa': 5186, 'woman': 5532, 'phone': 3817, 'case': 966, 'huhin': 2438, 'ywcfffkiqs': 5719, 'telling': 4958, 'knikcage': 2855, 'expect': 1787, 'prattprattpratt': 3926, 'bhtccpvvrx': 739, 'discussingfilm': 1470, 'intelligence': 2578, 'inspire': 2571, 'changing': 1017, 'perception': 3790, 'geeks': 2064, 'yckit6nlb2': 5661, 'vision': 5361, 'clear': 1092, 'cut': 1281, 'beginningstanlee': 714, 'leadership': 2943, 'pnkcuhpflv': 3879, 'white': 5491, 'buried': 889, 'bklynjets': 771, 'turf': 5198, 'wars': 5441, 'kdjeuasrhm': 2799, 'social': 4631, 'butterfly': 896, '17': 48, 'summon': 4848, 'strength': 4807, 'wvp0wczlwe': 5588, 'kf0s9nnzg4': 2810, 'etcanada': 1733, 'etnow': 1738, 'rozweston': 4339, 'calling': 921, 'civilians': 1073, 'anxsckduhv': 517, 'cool': 1186, 'pics': 3828, 'leon': 2976, 'e1eor1inyq': 1594, 'writing': 5575, 'board': 796, 'thatmarcwithac': 4990, 'jacked': 2648, 'metime': 3276, 'nearest': 3485, 'revelation': 4246, 'clout': 1105, 'funkoeurope': 2010, 'suppose': 4869, 'chance': 1012, 'chrome': 1065, 'ubeq6ir7wj': 5231, '4gs3xv8yxp': 204, 'lil': 3011, 'minded': 3315, 'fiat': 1884, 'pretties': 3940, 'soft': 4639, 'barackobama': 683, 'neilgaiman': 3494, 'chimed': 1051, 'im36r2mxhn': 2505, 'zqt1l4hpro': 5763, 'world': 5549, 'happier': 2247, 'place': 3851, 'meant': 3241, '692': 248, 'anniv': 505, 'print': 3952, 'scott': 4441, 'campbell': 929, 'rtkmihry6f': 4348, 'erog3ivmtw': 1720, 'everyonetoday': 1755, 'months': 3367, 'agodigitalart': 440, 'jmyl4xkjkf': 2713, 'caught': 972, 'fighting': 1886, 'cuz': 1288, '36': 165, '2fca95izlh': 139, 'audioboom': 609, 'mccrystal': 3227, 'loyalty': 3093, 'myths': 3448, 'venerating': 5336, 'pk6wxcuv8b': 3846, 'bjuu12omgtcomics': 769, 'owe': 3703, 'trailblazer': 5137, 'indee': 2541, '0hhj2xx1hf': 10, 'ifyeuomlzh': 2483, 'bro_team_pill': 848, 'wey': 5480, 'wen': 5474, 'damonayoung': 1313, 'greenj': 2169, 'meanjin': 3239, 'write': 5571, 'significance': 4562, 'z9jyiy4q68': 5730, 'reasons': 4147, 'avi': 628, 'now1stan': 3563, 'yeebwzzkxl': 5673, 'silerabbit': 4564, 'marketing': 3180, 'strategy': 4800, 'publicity': 3995, 'care': 954, 'iu7f3jjzsv': 2629, 'rachelfurbish19': 4088, 'axjlrturoa': 649, 'popping': 3897, 'sucker': 4835, 'punch': 4004, 'chest': 1038, 'launch': 2934, '1966': 60, 'artivism': 575, '0gaezpv3cm': 8, 'acc': 377, 'queenie': 4064, 'mutuals': 3433, 'pls': 3872, 'following': 1931, 'e8h0u1bfvz': 1607, 'w0tcxqcked': 5403, 'smh': 4609, 'eventually': 1749, 'cutaways': 1282, 'ea': 1609, 'bthoyesum4': 872, 'princess': 3950, 'diaries': 1430, 'royal': 4338, 'engagement': 1688, 'realized': 4141, '2eb9qbfnsq': 138, 'kurtbusiek': 2885, 'jeffparker': 2685, 'hotelfred': 2414, 'erikjlarsen': 1717, 'practical': 3923, 'matter': 3215, '5ojyo24wgt': 233, 'items': 2620, 'nwzabulwbt': 3577, 'party': 3748, 'limb': 3015, '3rd': 180, 'blvqm2tgih': 792, 'gonebutneverforgotten': 2127, 'avwfewc7q9': 634, '14': 41, 'hologram': 2385, '200': 99, 'adw3x6t8ki': 427, 'om0q6z3prp': 3639, 'hand': 2233, '8x10': 317, 'riakzit159': 4262, 'hobkfes96k': 2370, 'mckone': 3229, 'morales': 3375, 'trkgrfekxd': 5168, 'wacsxmimut': 5416, 'closet': 1102, 'poshmark': 3904, 'pair': 3728, 'socks': 4635, 'rkzfdmbbce': 4291, 'davjhwox1l': 1338, 'theme': 5013, '2gsqta21tb': 140, 'finding': 1900, 'usually': 5301, 'aim': 450, 'wait': 5420, 'admire': 414, 'writers': 5573, 'creatives': 1239, 'peers': 3779, 'screw': 4447, 'd3n5shzvse': 1302, 'contributed': 1179, 'occult': 3606, 'reali': 4135, '0bzhrxf3et': 6, 'recommended': 4156, 'bkerq6qni9': 770, 'straight': 4797, 'cgdbkmpkrz': 1003, 'badwanblood': 670, 'jqderep5d1': 2752, 'uniubgc29a': 5276, 'man_smarts': 3156, 'turbo_puns': 5197, 'splintervrl': 4704, 'kujoutaro': 2883, 'wowwhataparty': 5559, 'juliocorazon': 2764, 'aiexflsh': 448, 'hyda8fxhiy': 2451, 'paying': 3766, 'respects': 4224, 'tongue': 5106, 'opr0xb0cwm': 3673, '_mcchris': 355, 'audio': 608, 'vincent': 5356, 'thriller': 5057, 'rpjmpdwz0r': 4343, 'sister': 4576, 'hammer': 2232, 'mjolnir': 3341, 'sanded': 4403, 'painted': 3726, '625xg5nkwh': 244, 'arrive': 561, '75th': 272, 'anniversary': 506, '2014': 107, 'jtiwwzxkmu': 2760, 'wldn0d8fyc': 5521, 'm0vajgv7ez': 3122, 'trashes': 5147, 'calls': 922, 'dumb': 1572, 'blames': 777, 'trump': 5179, 'ttetqbjcd3': 5189, 'walkthrough': 5426, 'gameplay': 2047, 'marveluk': 3203, 'vancityreynolds': 5327, '5usx81oi1t': 238, 'dropping': 1562, 'knowledge': 2860, 'style': 4823, 'kbpjaforcy': 2795, 'diana': 1429, 'quotesdc': 4076, 'fandom': 1837, 'justiceleague': 2772, '5anpadjes9': 225, 'surprised': 4875, 'mother': 3378, 'kicked': 2822, 'bucket': 879, 'hangout': 2239, 'hehdjd': 2298, 'minho': 3316, 'bc': 700, 'sueweetie': 4839, 'isnt': 2610, 'skz': 4594, 'theyll': 5031, 'shame': 4512, 'kwilli1046': 2890, 'therothat': 5027, 'scumbag': 4449, 'pedo': 3775, 'deviating': 1412, 'mha': 3291, 'leemaryjanewstson': 2958, 'mj': 3340, '8npte0m3rc': 311, 'return': 4241, 'soondc': 4657, 'multifandom': 3414, 'qjxizkry22': 4044, 'flynn': 1922, 'picture': 3829, 'david': 1333, 'roth': 4330, 'losing': 3078, 'dumbasses': 1573, 'gmnjlzfag8': 2109, 'gone': 2126, 'saysuper': 4423, 'stupid': 4822, 'harnesses': 2257, 'ultimate': 5255, 'nullifier': 3571, 'peter': 3804, 'parker': 3744, 'counter': 1205, 'broke': 850, 'disrespectful': 1477, 'i7kjksnmak': 2460, 'ope': 3665, 'dok7kth1ui': 1502, 'gtcvnw0kij': 2188, 'xoicwpgibb': 5626, 'meafter': 3237, 'awaysomething': 641, 'balls': 677, 'jybjs8o56w': 2778, 'comikaze': 1141, 'protector': 3977, 'n0nzx9mtgx': 3450, 'abortion': 372, 'advocates': 425, 'refuse': 4168, 'unborn': 5260, 'babies': 664, 'eyes': 1803, 'i8gzl8kdql': 2461, 'net': 3499, 'e5ujh5e6su': 1605, 'vl1vufrzly': 5369, 'lksgecdimx': 3043, 'streets': 4806, 'somethings': 4649, 'crystal': 1265, 'reed': 4164, 'normal': 3550, 'suck': 4833, 'xbfk1euitz': 5606, 'laqbtn7jhi': 2921, 'satan': 4410, 'gives': 2098, 'props': 3975, 'gang': 2050, 'frozen': 1991, 'block': 780, 'ice': 2468, 'pushed': 4009, 'z1iybqyqim': 5723, 'ghlpodcast': 2086, 'spent': 4687, 'ashleyvrobinson': 582, 'jawiin': 2673, 'xgtlgx1orj': 5613, 'heirs': 2299, 'drama': 1539, '26': 125, 'ong': 3657, 'sa': 4385, 'mgirogfbd0': 3287, 'true': 5175, 'piller': 3834, 'e5nws0gmxg': 1604, 'df0s39q4er': 1416, 'dee': 1378, 'runk': 4363, 'bills': 749, 'finish': 1904, 'eff': 1641, 'nayibbukele': 3471, 'excepto': 1774, 'maximosis': 3219, 'chaosmangual': 1021, 'perfect': 3793, 'robertiger': 4304, 'evening': 1748, 'mr': 3394, 'iger': 2484, 'light': 3003, 'submitted': 4827, 'downy': 1533, 'jr': 2755, 'resume': 4233, 'cefzb6bvff': 983, 'rundown': 4362, 'ragnarok': 4091, 'guardian': 2193, 'dt0bppoxcc': 1566, 'colored': 1123, 'pencils': 3784, 'hobgoblinthanks': 2369, 'glad': 2105, 'rediscovered': 4162, 'z1wwqr2yjn': 5724, 'heartbreaking': 2288, 'sophie': 4660, 'cmautner': 1107, 'does': 1495, 'option': 3676, 'managed': 3158, 'ability': 370, 'cost': 1198, 'excelsiortherealstanleestanlee': 1772, 'tgy3uxozbl': 4979, 'joss': 2745, 'gravestone': 2162, 'simply': 4569, 'nuff': 3569, 'diedelonmusk': 1440, 'immortality': 2523, 'thankyou': 4986, 'w6nokkbjjy': 5410, 'drawn': 1544, 'humberto': 2444, 'ramos': 4101, 'artrush': 578, 'stickers': 4782, 'nu8zxidldq': 3567, 'hughjackman': 2437, 'marvelwolverine': 3204, 'comicimages': 1136, 'nupktzz7hw': 3574, 'richard': 4265, 'janus': 2667, 'performing': 3796, 'risky': 4286, 'experiments': 1792, 'dangerous': 1316, 'hztio8uvo8': 2455, 'marvels': 3201, 'universal': 5277, 'harrypotter': 2259, 'jurassicpark': 2768, '6qffe6jqcc': 259, 'thankyoustan': 4987, 'zsrnqzymz4': 5764, 'faayyde8pi': 1809, 'mhijxlydph': 3292, 'xvbwufrqvm': 5639, 'averagefanboy_': 627, 'stanley': 4737, 'father': 1853, 'fashion': 1851, 'trends': 5154, 'ampamp': 492, 'clothing': 1104, 'teens': 4951, 'nsndvaddoh': 3565, 'o1mzqvl4si': 3590, 'd8uciulzfl': 1305, 'hayleya86513689': 2278, 'jackson': 2654, 'mak': 3144, 'abtjwc2mun': 375, 'thatkevinsmith': 4989, 'joan': 2716, 'poet': 3884, '10lkjgj1kr': 31, 'johnny': 2726, 'annihilus': 504, 'zone': 5757, 'sue': 4838, 'crucial': 1261, 'decision': 1372, '4bheg3hjc6': 202, 'powers': 3916, 'stanleephilippines': 4736, 'xq4ecuw67v': 5629, 'vengeance': 5337, 'evans': 1747, '98': 333, 'l3cherf1ek': 2904, 'awi5jvidp5': 646, 'jan': 2664, 'cqfpv1uzny': 1220, 'proof': 3974, 'situation': 4580, 'misunderstood': 3335, 'intentions': 2580, 'anyth': 520, '9zu55pi7gr': 350, '247': 119, 'starring': 4747, 'previously': 3943, '131': 39, 'appear': 529, '5rqkngapy7': 237, 'burn': 890, 'effigy': 1645, 'shitt': 4532, 'scarecrow': 4427, 'outright': 3692, 'mikesterling': 3306, 'bet': 733, 'enthusiastically': 1699, 'approval': 537, 'cgi': 1004, 'rogue': 4317, '9bqc6fgrxt': 336, 'raising': 4095, 'turned': 5201, 'mandetectivepikachu': 3161, 'fulcrum': 2005, 'aidgxguebe': 447, 'lv3byliorb': 3109, 'mxpumtvxl2': 3437, 'gold': 2122, 'nycc': 3581, 'ksqh1suqyq': 2881, 'stopping': 4788, '89xlpdrcri': 303, 'nupsmgdvpf': 3575, '0nwyqbe3yf': 16, 'movingmondays': 3391, 'unity': 5275, 'mmh995marcomborromeo': 3345, '_jamesvelasquez': 353, 'jkocqet3qf': 2709, 'phr88hrmur': 3821, 'psyahopqak': 3989, 'row': 4336, 'rotation': 4329, 'mnahsixasj': 3346, 'q6gqeczyco': 4024, 'gordo924': 2134, 'steph93065': 4771, 'raycheltania': 4114, 'bindelj': 751, 'pass': 3749, 'mom': 3353, 'apart': 524, 'r0troed244': 4083, 'michigan': 3299, 'state': 4755, 'marching': 3173, 'band': 678, 'halftime': 2230, '3klwvf4bmw': 174, 'swung': 4897, 'able': 371, 'opileocwhl': 3667, 'mclauchlin': 3230, '106': 29, 'tune': 5193, 'euubpdxdsj': 1742, 'doodle': 1516, 'juggernaut': 2762, 'transformer': 5144, 'hasbro': 2260, 'tranaformers': 5142, 'mutant': 3431, 'h6fu1orbtq': 2218, 'e_meme_lord': 1608, 'saidcomics': 4397, 'boobsthey': 803, 'computer': 1164, 'claytondills': 1091, 'tooi': 5111, 'wished': 5513, '4bnc49ozsq': 203, 'faze_tfuefazetfue': 1862, 'fazeclan': 1863, 'marvelentertainment': 3194, 'p6ak8tixqr': 3716, 'yaly5vdojk': 5658, 'vasyarine': 5331, 'tat': 4932, 'chelieintx': 1036, 'knew': 2853, 'kilt': 2834, 'past': 3755, 'lawyers': 2938, 'issues': 2614, 'jmc6hkueso': 2711, 'sadly': 4392, 'defiantly': 1380, 'wvyxdglqmg': 5590, '_rich_moore': 356, 'parts': 3747, 'metaphor': 3275, 'personal': 3801, 'reflectio': 4167, '63wisfwtob': 245, 'sit': 4577, 'drink': 1554, 'dinner': 1459, 'da': 1307, 'vinci': 5357, 'zf8gt5y7zb': 5738, 'creators': 1243, 'performers': 3795, 'm7r7lbiold': 3124, 'fyf4jmz4ee': 2028, 'qe4qcwnwj5': 4034, 'realstanlee': 4145, 'lives': 3037, '2shj4ivwsy': 149, 'wrri2dm2vy': 5581, 'public': 3994, 'planned': 3855, '7ahj2umk5y': 275, 'monopoly': 3359, 'collector': 1119, 'bubrnjmqkd': 878, 'ipvlxkvx1f': 2600, 'extraordinary': 1799, 'birth': 757, 'zodia': 5756, 'odzafxtvxg': 3614, 'empiremagazine': 1672, 'january': 2666, 'alitabattleangel': 469, 'alita': 468, 'comicnetwork': 1137, 'q3jij6pmme': 4022, 'optimarcus': 3675, 'hmmi': 2365, 'player': 3860, '8rmsnldcqs': 312, '7ytrho8z1q': 294, '2017': 109, 'peep': 3778, 'avicii': 630, 'verne': 5340, 'troyer': 5172, 'mac': 3127, 'miller': 3311, '2019': 111, 'emporersnewc': 1674, 'morning': 3376, 'chrishewitt': 1059, 'et': 1731, 'y7nw937nsx': 5654, 'spoofytees': 4713, '25': 122, 'using': 5300, 'coupon': 1208, 'all25': 471, 'real': 4131, '830xemy3ko': 298, 'u6oz3nqzaz': 5229, 'ot9': 3685, 'bang': 679, 'chan': 1011, 'kim': 2835, 'se': 4453, 'iaxqjpkqqp': 2463, 'rodrigooandrade': 4313, 'i5hltep9nc': 2458, 'quapgek434': 4063, 's9fqmdbgxd': 4382, 'wqzhnjl0sz': 5561, 'mgsh7ycbg4': 3288, 'freakin': 1969, 'seeing': 4467, '0afjyxhjqj': 5, 'lcd0livwx9': 2941, 'pick': 3825, 'wrist': 5570, 'wdqbfvym7u': 5458, 'finest': 1902, 'krixnfjl03': 2877, 'jews': 2699, 'notes': 3554, 'ug80jwc5tv': 5243, 'blrictq5dq': 789, 'spray': 4715, 'south': 4672, 'vqxme0729u': 5387, 'itgs7ojxwn': 2621, 'indiegogo': 2543, 'indiegogowhats': 2544, 'upi': 5290, 'thisstan': 5042, 'cyrsgfdi0i': 1298, 'saber_says': 4386, 'heroic': 2312, 'spirit': 4703, 'ascend': 579, 'throne': 5058, 'recently': 4151, '52': 215, 'awesomeness': 643, 'contest': 1176, 'wvltoc9ynl': 5587, 'icymi': 2472, 'firstthingsmagthe': 1907, 'christian': 1061, 'tradition': 5135, 'thinks': 5039, 'heroism': 2314, 'primarily': 3946, 'terms': 4964, '70sj0qr9ai': 268, 'a7ujkupunz': 363, 'evolution': 1759, '2002': 102, 'abacusmike': 369, 'unless': 5281, 'kill': 2831, 'ronaldrumpcomic': 4324, 'ronald': 4323, 'rump': 4360, 'bookheyi': 805, 'pnugg2x0nb': 3880, 'titled': 5080, 'media': 3242, 'overflowing': 3698, 'jpy3noux2r': 2751, 'revered': 4248, 'founder': 1953, 'serves': 4487, 'example': 1766, '0u3vrwyqu0': 18, 'adventurelandst': 423, 'adventureland': 422, 'storehi': 4789, 'therei': 5023, 'cftjoz2lpg': 1000, 'tear': 4942, 'proceeds': 3964, 'foundation': 1951, 'grab': 2146, 'freeship11250644': 1976, 'toda': 5092, 'fwshl7zhin': 2023, 'acocks': 391, 'green': 2168, 'brumhour': 862, 'room': 4327, 'hatred': 2265, 'intolerance': 2590, 'bigotry': 746, 'grcuzbrh9u': 2163, 'jacechambersxxx': 2646, 'sherman_maus': 4525, '97q9dzahdu': 332, 'bwt': 900, '73': 270, 'xxr7tbamno': 5643, 'fhvt68m5xn': 1883, 'marynumair': 3206, 'opted': 3674, 'invites': 2596, 'insometimes': 2569, 'letting': 2989, 'everyo': 1754, 'rza3pi9a4s': 4378, 'gutted': 2202, 'character': 1023, 'superm': 4863, 'gwxyfkxjah': 2211, 'monty': 3368, 'python': 4018, 'starwars': 4754, 'mickeymouse': 3300, 'common': 1151, 'easter': 1617, 'eggs': 1649, 'ddiaro3ryc': 1349, 'knws': 2863, 'ateez': 594, 'zfzpu1rm2b': 5742, 'hanjeongin': 2240, 'chanfelixseungmin': 1013, 'changbinwoojin': 1014, 'bx1ymf1akl': 901, 'realizes': 4142, 'mourn': 3382, 'rival': 4288, 'colleges': 1121, 'play': 3858, '6gzwm4yek4': 254, 'dxbgdxvchg': 1583, 'neuoqzxhnu': 3502, 'weekly': 5469, 'round': 4334, 'building': 883, 'corporate': 1193, 'storytelling': 4795, 'lessons': 2983, 'communication': 1152, 'techniques': 4945, '7kouyzh7kg': 281, 'alpha': 477, 'kisvzzxd1t': 2846, '135': 40, 'giving': 2099, 'ilbipt9d0j': 2499, 'fav': 1856, 'ag': 435, 'exd6bvuqif': 1781, 'disgusted': 1472, 'fanexpovan': 1838, 'profiting': 3970, 'selling': 4475, 'ry97yoe3q6': 4369, 'lksc4d6a1k': 3042, 'running': 4364, 'favo': 1858, 'wqejroa3qv': 5560, 'bts1aevtwv': 875, 'fusion': 2017, 'dbz': 1343, 'tenkaichi': 4960, 'mod': 3350, 'posts': 3911, 'qxzsjchykb': 4082, 'xh6uelqggv': 5614, '5gs6i0cr2y': 228, 'exist': 1782, 'kwiavi5y3u': 2889, 'friendship': 1982, 'omaha': 3641, 'numwsjz0ev': 3573, 'themainstreetmonologueepisode': 5011, 'blu': 790, 'ray': 4113, 'kpbyowfgmx': 2871, 'hoax': 2368, 'jalw7uxdse': 2658, 'hidden': 2323, 'nm5psqboeo': 3537, 'welcome': 5472, 'caricature': 956, 'caricatures': 957, 'houston': 2421, 'caricaturesby3rde': 958, 'cvqhhq4m8l': 1289, 'experiences': 1791, 'influence': 2553, 'later': 2928, 'works': 5548, 'small': 4604, 'signif': 4561, 'bcb2kmhvld': 701, 'tangled': 4925, 'web': 5460, 'estate': 1729, 'planning': 3856, 'avoid': 632, 'lfdn1bpufl': 2991, 'daughter': 1330, 'roblox': 4307, 'yf0hajg56y': 5682, 'recognized': 4153, 'edited': 1634, 'worlds': 5550, '2015': 108, 'rich': 4264, 'bossy': 814, 'jong': 2739, 'suk': 4846, 'loopholes': 3072, 'outstandi': 3694, '3vi2gpgher': 186, 'mcterzakis': 3234, 'andizeisler': 496, 'brandyljensen': 834, 'renaldo': 4193, 'albieunsure': 461, 'funny': 2013, 'subtle': 4829, 'iconic': 2470, '1xf8ml2iss': 96, 'lwh9e52ln1': 3111, 'voice': 5377, 'terrence': 4965, 'ross': 4328, 'maniac': 3164, 'closeup360': 1103, 'inside': 2567, 'scoop': 4439, 'magic': 3137, 'crazy': 1231, 'memorable': 3256, 'useful': 5298, 'quoteshttps': 4077, 'apupreno5pentrepreneurlife': 541, 'ouqbgqwvar': 3687, 'faldaer': 1828, 'magsvisaggs': 3139, 'highly': 2331, 'disappointed': 1464, '7cftw0afrv': 276, 'decoded': 1375, 'historyjp': 2354, 'wo': 5526, 'q7xatv6eca': 4027, 'ive': 2636, 'network': 3501, 'schedule': 4435, 'okdpmbwtd0': 3633, 'leehe': 2954, 'inspiration': 2570, '8wbgiumasb': 315, 'ironically': 2604, 'shadow': 4507, 'rulers': 4356, 'dcstan': 1347, 'disappointedthe': 1465, 'va': 5322, '0o9y2dlws4': 17, 'disnerds': 1475, 'attention': 604, 'request': 4216, 'behalf': 716, 'sideshowsound': 4553, 'zxcztlrlix': 5766, 'steelbookbluray': 4761, 'hmv': 2366, 'showtime': 4547, 'capes': 939, 'trouble': 5171, 'website': 5461, 'buy': 897, 'rock': 4309, 'festival': 1878, 'tix': 5083, 'yup': 5716, '7y4gr9sc9s': 292, 'mum': 3417, 'jamaica': 2659, 'dyingshe': 1590, 'saidwho': 4398, '1av1hhkz1a': 76, 'sasharoiz': 4409, 'east': 1616, 'west': 5477, 'players': 3861, '52nd': 216, 'gala': 2042, 'hilton': 2346, 'ycssflhtep': 5662, 'jeradox': 2691, 'snap': 4618, 'fingers': 1903, 'mocent0': 3347, 'injustice': 2561, 'report': 4208, 'spandex': 4676, 'clad': 1075, 'prick': 3945, 'expects': 1789, 'jhtrfdiv54': 2703, 'alsboringtweets': 480, 'cares': 955, 'starkspoodle': 4744, 'mpouldozara': 3392, 'couple': 1207, 'lost': 3081, 'patience': 3758, 'joking': 2735, 'posted': 3907, 'dr': 1537, 'dxuffpekwb': 1586, 'o8klm2yjmt': 3592, 'pictures': 3830, 'saggu50hjg': 4395, 'buffer': 882, 'contribut': 1178, 'ivhc37rvom': 2637, 'university': 5280, 'arizona': 555, 'territorial': 4969, 'cup': 1274, 'fvdkqunrkv': 2021, 'manwithoutfear': 3170, 'charlessoule': 1028, 'count': 1203, 'dd': 1348, 'waid': 5419, '58bendis': 224, '55nocenti': 220, '54stan': 219, 'ppsymq2qnc': 3919, 'lose': 3077, 'hal': 2228, '2001': 101, 'add': 408, 'qsrf5djxhd': 4056, '20': 98, 'minutes': 3323, 'ther': 5019, '1loi6tp2gq': 79, 'gracerandolph': 2148, 'merrymarvelites': 3267, 'term': 4963, 'targeted': 4929, 'jamngxhgyv': 2663, 'kmykiynrnm': 2851, 'uvu5g7boyi': 5311, 'whindersson': 5489, 'jaseh': 2670, 'onfroy': 3656, 'eprb4y4yvw': 1713, 'g8bbzxdpuu': 2038, 'nesting': 3498, 'doll': 1503, 'matryoshka': 3212, 'mini': 3317, 'fmab': 1923, 'drew': 1550, 'handle': 2236, 'e386u8d7oo': 1598, 'excat': 1767, 'response': 4228, 'cam': 924, 'pfilnrunse': 3809, 'matpatgt': 3211, 'ronnie': 4325, 'nough': 3558, 'wheres': 5487, 'kz7jsfzkt5': 2899, 'foster': 1950, 'nose': 3552, 'edible': 1633, 'lies': 2998, 'shall': 4510, 'prove': 3981, 'adoptdontshop': 416, 'b6hpniszuu': 660, 'h3bugif5q8afqw6': 2214, 'chrisevans': 1058, 'caption': 948, 'reads': 4129, 'comparison': 1157, 'lt3': 3100, 'machinsupremacy': 3129, 'vyctwzld1z': 5400, 'monday': 3355, 'feelin': 1869, 'realhughjackman': 4134, 'mtvnews': 3406, 'joshuahorowitz': 2743, 'letsfcancer': 2986, 'oxroojwzr5': 3705, 'piss': 3840, 'luke': 3107, 'kardashian': 2786, 'obsession': 3601, 'yeh': 5675, 'shanedawson': 4514, 'sdconspiracytheories': 4451, 'theory': 5016, 'walt': 5429, 'hql3nyavyy': 2428, 'mezzafgc': 3279, 'practice': 3924, 'umvc3': 5257, 'dec': 1367, '29th': 132, 'tourney': 5125, 'infinite': 2549, 'parato': 3739, 'davidafrench': 1335, 'expression': 1797, 'anonymousmark': 509, 'twainstan': 5207, 'hi1t7y95gk': 2322, 'tha': 4981, 'mai2hbbpgg': 3142, 'nctbias': 3479, 'trkvs1nxdq': 5169, 'rewarding': 4253, 'experience': 1790, 'coolest': 1187, 'qfzxsiu0ra': 4038, '5wsxkkq2kb': 240, 'fool': 1933, 'leeme': 2959, 'intellectual': 2577, 'loona': 3070, 'deadpoolmovie': 1356, 'moviehii': 3386, '5qke3cuhf6': 236, 'davis': 1337, 'xwxvcu8efz': 5640, 'puppetboiyt': 4006, 'respect': 4223, 'believers': 721, 'fantasy': 1844, 'reprint': 4213, 'ar04eupjkk': 545, 'vu1imbx7j8': 5392, '8x12': 318, 'bzqhfdih4h': 904, 'jbq46kb8dz': 2677, 'certified': 997, 'framed': 1961, 'lnge2b3jc6': 3051, 'gq4ngtjybu': 2144, 'sized': 4582, 'bust': 895, 'extremely': 1800, 'w4i9h0lwms': 5406, 'pkzavjpkkj': 3849, '8yhanty5af': 320, 'megaran': 3247, 'lydjlkpcdpstanlee': 3114, 'envisioned': 1703, 'forsale': 1943, 'tonystark': 5110, 'armor': 556, 'danslott': 1319, 'truebeliever': 5177, '35f7ccfrzc': 164, 'high': 2327, 'newavengers': 3506, '2013': 106, 'blackorder': 774, 'lpqbihtsy9': 3094, 'theeconomist': 5003, 'android': 497, 'view': 5349, 'fjn7lqa8kb': 1912, 'gqe1wqyjnj': 2145, 'tvinsider': 5203, 'alzzhntnwz': 481, 'westhillslib': 5479, 'deptdguc63': 1392, '78': 273, 'variants': 5329, 'skottieyoung': 4592, 'kyq42caswa': 2896, 'bookriot': 806, 'zf3m9iwvgc': 5737, 'nicholastmusic': 3520, 'hesutate': 2316, 'retweets': 4243, 'mh0yqlajvp': 3290, 'artistchecho': 570, 'loepe9fsgb': 3055, 'west24010': 5478, 'aporvnvxqm': 526, 'lucascamattos': 3103, 'ctxmwzwzv1': 1271, 'stay82235993': 4758, 'n77mavazso': 3455, 'factfiles': 1813, 'ultron': 5256, 'special': 4682, 'resin': 4220, 'figurine': 1891, 'eaglemoss': 1610, 'lahvmwr57f': 2912, 'qn2hd1vqah': 4051, 'isyaboydickface': 2616, 'syp5ypwusm': 4900, 'prince_dullard': 3949, 'creat': 1232, 'qcxlsy6yhu': 4032, 'sparchiver': 4677, 'ugqpddcfvx': 5247, 'cruz': 1263, 'screaming': 4443, 'skateboard': 4585, 'deck': 1373, 'zp4nwfi6c9': 5760, 'covers': 1216, 'titles': 5081, 'include': 2535, 'uncannyavengers': 5261, 'dythpxi2bn': 1593, 'average': 626, 'trap': 5145, 'wednesday': 5463, 'odysseyloungeatl': 3613, '1015': 25, 'marrietta': 3184, 'st': 4723, 'mfpnezxoew': 3283, 'janefoster': 2665, 'female': 1876, 'asdkd8yiec': 580, 'preach': 3927, 'egaaknnbzp': 1647, 'yttaparker': 5714, 'losangeles': 3076, 'walk': 5422, 'fame': 1832, 'rhfv52mecr': 4259, 'magneto': 3138, '150': 43, 'nm': 3536, 'johncassaday': 2725, 'tiwji8usmf': 5082, '49': 200, 'hiphopvariant': 2350, 'frm': 1988, 'bonus': 802, 'gvolctw4ef': 2206, 'journeyintomystery': 2749, '83': 297, 'keyissues': 2808, '165': 46, '158': 44, 'rdoro4rgn1': 4121, 'limted': 3018, 'ryanstegman': 4373, 'onaududmlr': 3650, 'spidergeddon': 4691, 'total': 5118, '00had3lnwk': 0, 'gillchampion': 2095, 'whenimetstanleeiwasdressedasspidermanampheknewmeasthe': 5486, 'hollywoodspidermanamphesa': 2384, 'fnojrou3zc': 1925, 'spidergwen': 4692, 'ghostspider': 2089, 'h50eehbqkk': 2216, 'fooled': 1934, 'layout': 2940, 'nonstop': 3546, 'donghyuck': 1510, 'liedmsucmm': 2996, 'kfmkd1ijbw': 2812, 'knocked': 2856, 'stream': 4803, 'fortnite': 1945, 'kfmkd1qidm': 2813, 'i8jzzzk5sg': 2462, 'tweeting': 5212, 'realised': 4137, 'lo': 3053, '7hycigxoby': 279, 'tap': 4927, 'dccomicskids': 1346, 'domi': 1506, 'hom': 2387, 'homan': 2389, 'minus': 3322, 'drawings': 1543, 'wr': 5562, 'ryhgrgytei': 4376, 'yiaymeme': 5687, 'fred': 1971, 'mars': 3186, 'faked': 1826, 'bts': 874, 'photoshop': 3820, 'specified': 4683, 'relevant': 4179, 'sethamandel': 4490, 'ostrich': 3684, 'feathers': 1865, 'jacket': 2649, 'completely': 1160, 'challenges': 1009, 'ukny77tqv5': 5253, 'lvoxjlshtm': 3110, 'xcde1gtg0f': 5608, 'assemble': 589, 'd3p6x8bao1': 1303, 'tributeby': 5158, 'roe': 4315, 'eqn4w1poeb': 1715, 'darienmoya': 1323, 'bitching': 762, 'joy': 2750, 'happiness': 2248, 'qkuah0td1w': 4046, 'nimumgzy5l': 3531, 'darthcass125': 1326, 'theyve': 5032, 'decided': 1371, 'sell': 4474, 'autographs': 618, 'claim': 1076, 'charity': 1026, 'qszvgy2ea3': 4058, 'commands': 1144, 'marvelchampions': 3191, 'straw': 4801, '2tcwrsadhp': 150, 'crimson': 1255, 'mtlrejmxsr': 3405, 'deserved': 1400, 'commemorative': 1146, 'entertainment': 1698, 'writeup': 5574, 't_tmarvelfan': 4909, 'plipster': 3870, 'bob': 797, 'rollercoaster': 4320, 'videos': 5347, 'diablo': 1422, 'sytissdd9h': 4901, 'breaking': 837, '2d6d2r7adh': 137, 'strongest': 4811, 'ahead': 446, 'jlatop5': 2710, 'abwon': 376, 'saunidnicolas': 4414, 'messiahjuni': 3272, 'fmvtsasrj3': 1924, 'stephen': 4774, 'hillenberg': 2336, 'hillenburg': 2338, 'imagined': 2511, 'spongebob': 4712, 'hard': 2251, '6y9tyu9496': 266, 'cr': 1223, 'dj7rpjeyky': 1485, 'childhoodrip': 1047, 'stefán': 4768, 'karl': 2787, 'stefánsson': 4769, 'g1ft6i5y7j': 2032, 'oqdvketb4m': 3677, 'gxnk4xqh3o': 2212, 'jhqvdvouql': 2702, 'cartoons': 965, 'madelife': 3134, 'shambles': 4511, '98pp0x40od': 334, 'mixing': 3338, '71mzzfi2iq': 269, 'geez': 2067, 'cause': 973, 'khkgkhk91l': 2820, 'idea': 2474, 'jasonaaron': 2672, 'fight': 1885, 'wins': 5507, 'sp': 4674, 'msxrnupvhr': 3403, 'diss': 1479, 'tewww': 4971, 'muchhh': 3409, '7xsflcvkxq': 291, 'cuyrk8yaeg': 1287, 'basmakesgames': 692, 'bernardo': 728, 'bertolucci': 730, 'smithsonian': 4613, 'winter': 5508, 'soldier': 4646, 'ccrfft3xyv': 979, 'ebay_uk': 1622, 'difficult': 1450, 'paf9ufsv37': 3719, 'lots': 3084, 'architects': 548, 'childhoods': 1048, 'squarepants': 4718, 'hmxnub2tyj': 2367, 'certificate': 996, 'lung': 3108, 'failure': 1820, 'inhaling': 2559, 'food': 1932, 'x3zpdobei8': 5597, 'leg': 2969, 'ixmyzgkwsf': 2640, 'influential': 2555, 'tripled': 5166, 'fazerug': 1864, 'mal_onda': 3150, 'kilo_og': 2833, 'iswhat': 2615, 'aytq7i4ko6': 654, 'space': 4675, 'influenced': 2554, 'grew': 2172, 'hfply5ez9q': 2319, 'angry': 500, 'grandpa': 2152, 'hawking': 2270, 'hillenburgso': 2342, 'v4n7b3ku9v': 5318, 'thisrest': 5041, 'pineapple': 3836, 'cr6wmgmcwb': 1224, 'pawn': 3763, 'laughs': 2933, 'mrrwpwftcg': 3398, 'j4rzspt9ud': 2644, 'tellin': 4957, 'aretha': 550, 'franklin': 1965, 'sadden': 4390, 'entertain': 1696, 'znnbuz2azz': 5755, 'huffpost': 2434, 'benshapiro': 727, 'als': 479, 'hours': 2417, 'stronger': 4810, 'avvbudmacz': 633, 'dying': 1589, 'ripstephenhillenburg': 4284, 'falling': 1830, 'nooooo': 3547, 'stefan': 4762, 'genuinely': 2074, 'jeff': 2683, 'catch': 970, '49ogwifvcq': 201, 'feeling': 1870, 'sorrow': 4663, 'anguish': 501, 'month': 3364, 'kellengoff': 2801, 'betty': 736, 'hoodsins': 2403, 'process': 3965, 'pirzr81dhk': 3839, 'lists': 3028, 'aoxrykvvdf': 523, 'teenage': 4950, 'revealed': 4244, 'ro5c94zcrj': 4299, 'fydhrsdmak': 2027, '7pslwoykg9': 286, 'obsessed': 3600, 'li': 2993, 'uwdl6csscs': 5314, 'iluvit': 2503, 'lsvre1toqe': 3098, 'swear': 4887, 'handedly': 2235, 'nickelodeon': 3522, 'stefansson': 4764, 'lrdspittyflvckv': 3096, 'lmaaaaaaaaaaaoooooooo': 3046, 'cancelled': 932, 'w39n4anto4': 5404, 'pun_rii': 4003, 'interview': 2588, 'fyyazkcr5v': 2030, 'uvn2hbuey6': 5310, 'shoutout': 4543, 'redlianak': 4163, 'unaware': 5258, 'pretty': 3941, 'emsuddcgey': 1675, 'whattheffacts': 5484, 'releasedhttps': 4177, 'thm82wtrz5': 5044, 'kept': 2803, 'lilcjgr78j': 3012, 'easy': 1618, 'dfct3wsyuo': 1417, 'csi5dmylaw': 1268, 'doodlebob': 1517, '0h1wzfzgqm': 9, 'steven': 4779, 'voices': 5378, 'iuodtsepgn': 2633, 'jesus': 2696, 'christ': 1060, 'shocking': 4534, 'depressing': 1391, 'throw': 5059, '7lzijwxttb': 284, 'upset': 5291, 'gonethe': 2128, 'childhooddead': 1046, '9vey3zwbke': 348, 'bplgrovehall': 825, 'baystatebanner': 698, 'digboston': 1453, 'boston': 815, 'ladycroissants': 2911, 'primero': 3947, 'totalbiscuit': 5119, 'nibba': 3518, 'thoooose': 5047, 'danny': 1318, 'antonucci': 516, 'edd': 1629, 'eddy': 1630, 'met': 3273, 'diedfirst': 1441, '1nd8yle6jo': 84, 'downhill': 1532, 'adt0zdpa33': 419, 'tothe': 5121, 'moorethe': 3373, 'myth': 3445, 'hillenburgthe': 2344, 's8fvqm98cx': 4381, 'class': 1085, 'depressed': 1390, 'wee': 5464, 'mbugskczxu': 3223, 'ruining': 4355, 'wtf': 5583, 'bruhh': 860, 'taken': 4915, 'stephenhillenburg': 4775, 'a63zgiri7n': 362, 'wired': 5510, '4wui5a7ohu': 212, 'zdfbup8zon': 5735, '92': 327, 'todd': 5095, 'mcfarlane': 3228, 'cy9yv2foec': 1293, 'mypayljhou': 3440, 'w8gj6bhror': 5412, 'tryna': 5185, 'ya': 5656, 'kidsaye': 2828, 'aye': 651, 'captaini': 945, 'youaye': 5699, 'captainohhwho': 946, 'und': 5264, 'd1zdfkeoxl': 1299, 'accidental': 380, 'fall': 1829, 'swing': 4893, 'spi': 4688, 'pndf5rmr7i': 3877, 'yearno': 5670, 'seriously': 4486, 'arcade': 546, 'places': 3852, 'stephe': 4773, 'biudchgzmu': 767, 'u0nuag997n': 5226, 'humanity': 2443, 'zfaqnfqnwc': 5739, 'oz0et6mjvq': 3708, 'taerphiy91': 4911, 'ass': 588, 'ripstephenhillenberg': 4283, '2odmwgpwhz': 146, 'nl3gcthwfj': 3535, 'trendingnow': 5153, 'r8jsva1tsx': 4084, 'yr': 5710, 'school': 4438, 'presentation': 3934, 'topic': 5115, 'wearing': 5459, 'tshirts': 5188, 'looked': 3065, 'on0bvl6kd0': 3648, 'anybody': 518, 'knows': 2862, 'enamored': 1678, 'celebrities': 989, '78th': 274, 'br': 827, 'xdjctp2nm6': 5609, 'testing': 4970, 'kinginwithdev': 2841, 'tfn15_': 4975, 'pinned': 3837, 'notestan': 3555, 'challa': 1007, 'okapvjbihb': 3631, 'danierruu': 1317, 'macmiller': 3131, 'unpopular': 5285, 'bummed': 885, 'aint': 452, 'asswipe': 591, 'spong': 4710, '9pnlzyzzim': 345, '5pa6gmkip8': 235, 'epjkq9ckl2': 1712, 'worst': 5553, 'stephan': 4772, 'basically': 691, 'joining': 2729, 'lovely': 3090, 'ryanhigginsryan': 4371, 'scenario': 4431, 'snikt': 4622, 'humus': 2445, 'ehnwlhpvsg': 1652, 'adam': 405, 'ernest': 1719, 'borgnine': 811, 'deathsninja': 1364, 'ligma': 3004, 'xxx': 5645, 'murder': 3420, 'hilensburg': 2332, 'leaks': 2946, 'marvelmovie': 3199, 'bittersweet': 766, 'sunday': 4851, '2yrs': 155, 'mgijsuaxob': 3286, 'fricking': 1977, 'pewdiepie': 3806, 'favourites': 1861, 'beltway': 723, 'insider': 2568, 'saudi': 4412, 'khashoggi': 2818, 'eu': 1740, 'finalize': 1898, 'brexit': 840, 'gas': 2053, 'greets': 2171, 'immigrants': 2521, 'vkcsyegzcb': 5368, 'emotionally': 1669, 'izkwmyotql': 2642, 'vgtmp8ncvp': 5343, 'forrestspideroz': 1942, 'outrageous': 3691, 'hearing': 2286, 'peop': 3788, 'k8zcoeguyw': 2784, 'ylxrtfy3w2': 5692, 'saddest': 4391, 'hap': 2242, 'personally': 3802, 'warming': 5440, 'wife': 5499, 'a92pz2agha': 364, 'ladies': 2910, 'stepped': 4776, 'coy': 1219, 'hopped': 2408, 'bus': 891, 'dropped': 1561, 'wibqrwjedi': 5496, 'jerry': 2694, 'jones': 2738, 'repost': 4212, 'pcoppodcast': 3770, 'stantheman': 4740, 'stanssoapbox': 4739, 'ct1fjgzmge': 1270, 'goat': 2112, 'artlife': 576, 'bvkmrnocgb': 899, '202': 112, 'discussed': 1469, 'ihibw': 2489, 'ihibwpod': 2490, 'kgvbyfxshs': 2817, 'thoughtcan': 5051, 'cg': 1001, 'technology': 4947, 'winds': 5505, 'rc4j3u7xjw': 4116, 'donald': 1508, 'antman': 515, 'chill': 1050, 'moodmovie': 3371, 'guttergang': 2203, 'ftl': 1998, 'smokeup': 4615, 'gethappy': 2078, 'col': 1116, 'w8dpdugbme': 5411, 'h7kvhah2q7': 2219, 'bajoqyslbj': 674, 'dreamnote': 1548, 'marvelhttps': 3195, 'nycq2ltcsj': 3582, 'buddyfirst': 880, 'himrip': 2347, '1961': 55, 'blon': 784, '9uunykvm67': 347, 'reality': 4138, 'creeps': 1249, 'elvisthealientv': 1662, 'idiots': 2479, 'suburbs': 4831, 'nyc': 3580, '6tormhi1cp': 260, '1962': 56, 'coverless': 1215, 'rxrgjpratf': 4368, 'i4etnxdsra': 2457, 'jeffdlowe': 2684, 'tknwta2fvr': 5087, 'g5xhbmbrl1': 2037, 'collectors01': 1120, 'leaked': 2945, 'z5r7mgagjy': 5725, 'hopefully': 2407, 'marvelcinematicuniverse': 3192, 'hgygkjlxwc': 2320, 'plunge': 3873, 'holidays': 2379, 'course': 1211, 'jongran': 2740, 'emilytails98': 1666, 'disturbing': 1482, 'steph': 4770, 'softt19aqv': 4640, 'sublimely': 4825, 'arrogant': 563, 'monumentally': 3369, 'uninformed': 5271, 'mahr': 3141, 'perennial': 3791, 'hefner': 2296, 'adult': 421, 'playhouse': 3862, 'ru9keeu7jr': 4349, 'mannn': 3166, 'bzztqtbwbg': 905, 'ohxswiak9x': 3627, 'tqq6dxnewz': 5134, 'toeatthispizza': 5096, 'steffanson': 4767, 'steffannson': 4766, 'hillengberg': 2345, 'whyyyy': 5495, 'wolfe': 5530, 'ermey': 1718, 'hillenbur': 2337, 'zcx4sk7zq2': 5734, 'fhi7mmodqj': 1882, 'quantum_surge64': 4062, 'unfortunate': 5268, 'born': 812, 'grow': 2184, 'zhaameg2pu': 5745, 'xxtentacion': 5644, 'reportedly': 4210, 'cremated': 1250, 'advu52krlz': 426, 'mvypf2shah': 3434, 'spike': 4700, 'leecoolest': 2952, 'bros': 852, 'tfbuni9dmg': 4974, 'tara': 4928, 'strong': 4809, 'speaks': 4681, 'harley': 2256, 'quinn': 4071, 'quote': 4073, 'leei': 2956, 'nye8yayjul': 3584, 'panini': 3732, 'historic': 2351, 'signatures': 4558, 'bgs': 738, 'bidding': 741, '1048': 27, 'pm': 3875, 'kpygkrgg6y': 2874, 'lnsuo9iqjg': 3052, 'vvabnhfx6b': 5393, '19fightme': 73, 'problematic': 3962, 'groups': 2183, 'yg': 5684, 'excepet': 1773, 'akmu': 456, 'sana': 4402, 'si': 4552, 'imelda': 2515, 'marcos': 3175, 'na': 3459, 'lang': 2920, 'continued': 1177, 'placing': 3853, '61tukr3eye': 243, 'marty': 3188, 'scared': 4428, 'ghanamotion': 2084, 'luglhyxsaf': 3106, 'boi': 798, 'dis': 1463, 'sstephen': 4721, 'hille': 2335, 'dh37sxyuaa': 1419, 'package': 3718, 'tony': 5108, 'stank': 4732, 'everwe': 1751, 'loststephen': 3082, 'hawkingstefan': 2273, 'karlstan': 2789, 'leestephen': 2964, 'hillenburgeven': 2340, 'crossed': 1259, 'paths': 3757, 'avl7wjtdvn': 631, 'nbc': 3473, 'ilrfqrl5bu': 2502, 'spectacular': 4684, '1984': 68, 's9j2ymuhof': 4383, 'oi': 3628, 'calm': 923, 'fxbvlw9nk8': 2025, '41': 199, '1965': 59, '75': 271, 'frightful': 1985, 'qbivujiiew': 4029, 'neverforgetstanlee': 3504, 'vnv2ralidp': 5374, 'yearstephen': 5672, 'yearjc': 5669, 'punsalang': 4005, 'donut': 1514, '0_0': 3, '80ym7pzqxm': 296, 'ariana': 553, 'releasedno': 4178, 'avicci': 629, 'diedthe': 1444, 'coming': 1142, 'diedsweetener': 1443, 'album': 462, '0i8zjfbduz': 11, 'home': 2390, 'decor': 1376, '3zs78ryhzf': 197, 'tyart2479': 5221, 'pins': 3838, 'zgendwoymo': 5743, 'uuu': 5309, 'uffff': 5242, 'stay': 4757, 'hearts': 2293, '3s': 183, 'empire': 1671, 'iusehazdtz': 2634, 'cnqxed6v2o': 1110, 'diamonzia': 1428, 'monthi': 3365, 'fact': 1812, 'interdimensional': 2582, 'rift': 4271, 'suckin': 4836, 'yz9csxrpoj': 5721, 'signs': 4563, 'sign': 4555, 'inlovingmemoryofstanlee': 2564, 'superheros': 4861, 'qcujcbw42r': 4031, 'kfbepkp74d': 2811, 'ndnbjg2nwu': 3481, 'nigga': 3525, 'mysticsjl': 3444, 'johnbetz': 2724, 'tmz': 5090, 'pic': 3823, 'entire': 1700, 'deserves': 1401, 'the_moviebob': 4993, 'characte': 1022, 'moszbuwkh7': 3377, 'helenlohara': 2301, 'dedication': 1377, 'tylerhuckabee': 5223, 'dig': 1452, 'eewvejuwu9': 1640, 'shawn': 4520, 'smoke': 4614, 'weed': 5465, 'overdose': 3697, 'pull': 4000, 'xuissq4unk': 5636, 'unreal': 5286, 'imo': 2525, 'figured': 1890, 'crine': 1256, 'ignorant': 2486, 'talki': 4921, 'uw3lchb8ub': 5313, 'liking': 3008, 'likes': 3007, 'feels': 1872, 'remembered': 4185, 'kaddicosplay': 2785, 'letters': 2988, 'ststefan': 4813, 'stefanssonstephen': 4765, 'tubglkf65h': 5190, 'bourdain': 818, 'esp': 1723, 'inner': 2565, 'haha': 2223, 'renowned': 4198, 'political': 3893, 'cartoonist': 964, 'halltoons': 2231, 'tomorrow': 5105, 'campus': 931, 'llc': 3045, '300': 157, '4jzz1zr9yd': 205, 'gravesite': 2161, 'grace': 2147, 'k66arb1sng': 2783, 'deadelliot': 1353, 'cutting': 1286, 'onions': 3659, 'therealgdcolon': 5020, 'dummy': 1577, 'leslieweegee': 2982, 'shout': 4541, 'bravo': 835, 'involved': 2597, 'awwww': 648, '8z49pxm7i7': 323, 'hitler': 2356, 'informed': 2557, 'rob': 4301, 'liefeld': 2997, 'diehard': 1445, 'entertained': 1697, 'ijd7yiguce': 2495, 'livxrhxwth': 3040, 'profound': 3971, 'producers': 3968, 'phil': 3814, 'lord': 3074, 'rei': 4172, 'v0cansm6s5': 5317, 'alright': 478, '1stephan': 91, 'karl2stan': 2788, 'lee3stephen': 2951, 'creato': 1241, 'vbq4012ebg': 5333, 'jaio_cg': 2656, 'twisterdude161': 5215, 'leestephan': 2963, 'z6kxcfbay6': 5727, 'taeyeon': 4912, 'ailee': 449, 'bada': 669, 'hjxhnuqtdz': 2359, 'busco': 893, 'meme': 3254, 'furious': 2014, 'jaredleto': 2669, 'bryanalvarez': 865, 'philopsy': 3815, 'prize': 3957, 'xpresstee': 5628, 'monekers': 3356, '1090': 30, '24h': 121, '2bsa0mfso3': 134, 'nyk6i3xojm': 3585, 'slowly': 4602, 'intrepidus': 2591, 'faithasberry21': 1824, 'regret': 4170, 'apparently': 528, '5vy7ingui8': 239, 'mdvrwk5glh': 3236, 'vbdz41bl4h': 5332, 'loomer': 3068, 'claims': 1077, 'pulled': 4001, 'accused': 384, 'house': 2419, 'member': 3251, 'iihan': 2493, 'omar': 3642, 'anti': 514, 'fznynstieu': 2031, 'koribaby': 2868, 'tennant': 4961, 'absolute': 373, 'rngolgqib4': 4298, 'turnbullmalcolm': 5200, 'murpharoo': 3423, 'invisible': 2595, 'mood': 3370, 'crafting': 1227, 'brand': 830, 'entrepreneur': 1701, 'qmanning': 4048, 'd6ghmlqxps': 1304, 'creatorsbut': 1244, 'leedeath': 2953, '7lrva9gior': 283, 'problem': 3961, 'stays': 4759, 'jonathanmaberry': 2737, 'christophergolden': 1063, 'jamesamoore': 2661, 'paibiiprlo': 3722, 'amsg4xrsiw': 493, 'listings': 3027, 'purchase': 4007, '8sbwvta3xb': 314, 'a9ktjcdcub': 365, 'massage': 3208, 'cheese': 1035, 'grater': 2159, 'painful': 3725, 'ignore': 2487, 'roadkill': 4300, 'm0kipxx5fl': 3121, 'ijfuox1p5v': 2496, 'slickwraps': 4598, 'capitan': 940, 'wrap': 5564, 'tough': 5123, 'd3dtnmziju': 1301, 'articles': 568, 'vk8sqfa9mmand': 5367, 'xmau9kofgi': 5620, 'mesays': 3268, 'grown': 2185, 'sitting': 4579, 'ranting': 4105, 'women': 5533, 'sucks': 4837, 'suffered': 4840, 'aspiration': 587, 'pneumonia': 3878, 'wlzpanueyh': 5522, 'geekspinco': 2065, 'laura': 2935, 'united': 5273, 'states': 4756, 'biggest': 745, 'pn9eiqykyh': 3876, 'fanart': 1836, 'pencil': 3783, 'gjrisnuwz4': 2101, 'slow': 4601, 'pewds': 3807, 'ksi': 2880, 'logannpaul': 3057, 'arianagrande': 554, 'justinbieber': 2773, 'ufc': 5241, 'nfl': 3515, '95umvjgarn': 330, 'noahshachtman': 3543, 'nation': 3467, 'supermangtfosorry': 4865, 'gawdawful': 2056, 'eodr1zf36w': 1704, 'strange': 4798, 'lauraloomer': 2936, 'urethra': 5295, 'lmaooooo': 3048, 'beautifully': 709, 'gts00gznrw': 2190, 'stopped': 4787, 'jacking': 2650, 'agreed': 443, 'balances': 675, 'bringing': 845, 'garfield': 2052, 'nah': 3461, 'argument': 552, 'famous': 1834, 'stafan': 4724, 'stefansen': 4763, 'robbie': 4302, 'rotten': 4331, 'ii3iic2xhz': 2492, 'judging': 2761, 'faking': 1827, 'wj86ejqpab': 5520, 'itsmostlycrap': 2626, 'exclusives': 1778, 'recommend': 4155, 'zierju3bnf': 5749, 'rn': 4297, 'garbage': 2051, 'satire': 4411, 'melting': 3249, 'unforgiving': 5267, 'respiratory': 4226, 'ndy1pfyesb': 3483, 'cardiac': 952, 'arrest': 560, 'congestive': 1170, 'n8juwhgjuw': 3456, '1smmwmarax': 89, 'autopsy': 619, '18ea3jfkoe': 51, 'rly': 4296, 'extension': 1798, 'cord': 1190, 'riotgames': 4275, 'ghostcrawler': 2088, 'poor': 3895, 'ruined': 4354, 'diedhe': 1442, 'dduds0lyee': 1351, 'ppl': 3918, 'meig': 3248, 'shaibitonarttherealstanlee': 4508, 'cqrr1jflli': 1222, 'dang': 1315, 'dimartino': 1456, 'konietzko': 2867, 'lip': 3021, 'peach': 3773, 'emoji': 1667, 'costume': 1200, 'michelin': 3298, 'unlocked': 5282, 'youngestit': 5702, 'suuuvq6fjx': 4881, '9yearsofbigtimerush': 349, 'homeboy': 2391, 'btajxhiis1': 871, 'loose': 3073, 'anyon': 519, 'pd15lblshn': 3771, 'aren': 549, 'listened': 3025, 'fat': 1852, 'leethey': 2966, 'acid_nuggets': 389, 'immense': 2519, 'cultural': 1272, 'blows': 788, 'sinnott': 4574, 'alex': 466, 'saviuk': 4417, 'spidey': 4698, 'banner': 681, 'ptm3ejpiet': 3993, 'interviewing': 2589, 'realitychecktv2': 4139, 'x30mpztdgw': 5595, 'lepas': 2979, 'pula': 3999, 'pergi': 3797, '3910ica3os': 167, 'quefoog98s': 4065, 'lyraspancakes': 3117, 'year1': 5667, 'hawking2': 2271, 'stpnobj3gh': 4796, 'qvccr8nehf': 4079, 'pow': 3914, 'responds': 4227, '2okq02nwq3': 147, 'act': 393, 'vmd1oyevzz': 5371, 'ectra': 1626, 'greatly': 2167, 'foh0ftcf8k': 1928, 'rated': 4109, 'pg': 3810, '1a5mag8ice': 75, 'bae': 671, 'eat': 1619, 'jewishvoice': 2698, 'cernovich': 995, 'equality': 1716, 'franks': 1967, 'picking': 3827, 'yugioh': 5715, 'hmf_master': 2364, 'waprgnigom': 5437, 'theactman_yt': 4994, 'leenow': 2960, 'goddamn': 2115, 'peceqbft1v': 3774, 'destroys': 1406, 'reponse': 4207, 'vxqvz8bs9v': 5398, 'coincidence': 1115, 'nut': 3576, 'douglasernst': 1531, 'editors': 1637, 'impossible': 2527, 'evidence': 1757, 'lzviuighfb': 3119, 'v7zruie3hi': 5320, 'machine': 3128, '99': 335, '1980': 66, 'f7zycdiiuk': 1807, 'thingcgi': 5034, 'penned': 3785, 'villin': 5354, 'sack': 4387, '8fniqa2g23': 307, 'attell': 602, 'marcm7089': 3174, 'ign': 2485, 'imag': 2506, 'kftqujvypi': 2815, 'whoa': 5492, 'freaky': 1970, 'retar': 4236, 'grave': 2160, 'therealredsonja': 5021, 'tweeted': 5211, 'woohoo': 5538, 'york': 5698, 'cityscape': 1072, 'storylines': 4794, 'qlodmh71w1': 4047, 'ljg8vztbbs': 3041, 'lastbow': 2925, 'rally': 4096, 'flag': 1914, 'group': 2182, 'peggy': 3780, 'carter': 961, 'cosplayers': 1197, '5otb9icxkt': 234, 'produced': 3966, 'superlaura': 4862, 'struck': 4812, 'nintendoamerica': 3532, 'pokemongoapp': 3889, 'connectivity': 1172, 'games': 2048, 'pokemonletsgo': 3890, 'geaxmipod8': 2061, 'apupreno5pbreakthrough': 539, 'courage': 1209, 'aion7aum7p': 453, 'spidey414': 4699, 'super_spidey1': 4855, 'sayed': 4420, 'replace': 4200, 'deceased': 1369, 'heroine': 2313, 'qj84evhxjd': 4043, 'contributing': 1180, 'development': 1411, 'zpncfqn3vb': 5762, 'run': 4361, 'someonei': 4648, 'lets': 2985, 'costco': 1199, 'deal': 1357, 'unfollow': 5265, 'rottentomatoes': 4332, 'gentlemen': 2073, 'stanusi': 4742, 'clips': 1098, 'excerpts': 1775, 'x6oxibkbcf': 5601, 'reported': 4209, 'vtxgd9kc9b': 5391, 'gkypy1tret': 2103, 'addamschloe': 409, 'asked': 586, 'tim': 5071, '3kw8mdbllx': 175, 'arguing': 551, '8xfrgfelpr': 319, '123': 35, 'box': 821, 'holidaygifts': 2378, 'qaasm3am6o': 4028, 'martyr': 3189, 'tuckercarlson': 5191, 'gaia': 2040, 'fraud': 1968, 'site': 4578, 'faith': 1823, 'tmdata00mj': 5088, 'yooo': 5697, 'nye': 3583, 'howdareyou': 2422, 'afterlifei': 434, 'iti': 2623, 'x7ivv8nshf': 5602, '7vqnhfi7dy': 290, 'songs': 4653, 'jacktown': 2655, 'realeased': 4133, 'mangacarter': 3163, 'lily': 3014, 'dantesinferno': 1320, 'n0tglmm2td': 3451, 'stick': 4781, '3gnwsjsdkn': 171, 'f24pvpmmmc': 1804, 'loony': 3071, 'tunes': 5194, 'pit': 3842, 'alexandria': 467, 'ny': 3579, 'wanda': 5430, 'maximoff': 3218, 'fucked': 2000, 'deserve': 1399, 'gwen': 2208, '2x': 153, 'ym0rc59dos': 5693, '9o8xlc8ryn': 343, 'edge': 1631, 'cbcs': 975, 'fjesj8rkgk': 1910, 'ey9r5rxngp': 1802, 'gaming': 2049, 'newniverse': 3508, 'interactive': 2581, 'hc5nsvpht2': 2279, 'poignant': 3885, 'vpqliz6kck': 5386, '0lac9eguq3': 13, 'mxojadcma6': 3436, 'fake': 1825, 'marvelous': 3200, 'week10': 5467, 'pro': 3959, 'israel': 2612, 'spoke': 4709, 'visited': 5363, 'fw': 2022, '4th': 210, 'tg1wsvbb4m': 4977, 'adding': 411, 'qmcj11h0oe': 4049, 'jrz3cj9lyc': 2757, 'pymtoczfhg': 4016, 'cruq9ywvbz': 1262, 'main': 3143, 'mariachi': 3176, 'enter': 1694, 'ft51klasox': 1996, '5k5chpa4fc': 231, 'mr_espn15': 3395, 'rumored': 4359, 'walkable': 5423, 'communities': 1153, 'vsnh8p7jxm': 5389, 'urbancincy': 5294, 'tanyapazzy': 4926, 'sandyskees': 4405, 'poverty': 3913, 'ridiculous': 4270, 'ubs8rhlraj': 5233, 'excélsior': 1780, 'capitanamerica': 941, 'ic5ubdlt99': 2466, 'excelsiorimdbrief': 1771, '316': 159, 'imdbrief': 2514, 'wnkayfx4dd': 5525, 'ayerxnn6ve': 653, 'esxerftu4q': 1730, 'clickbait': 1095, 'ghoulish': 2090, 'pattonoswalt': 3761, 'rough': 4333, 'justclickbait': 2770, 'backaftathis': 666, 'details': 1407, 'hurts': 2447, 'heartbroken': 2289, 'bennett': 726, 'spidermanbennett': 4694, 'babe': 663, 'di': 1421, 'lwpwggru9h': 3112, 'shed': 4522, 'lie': 2995, 'vofo530ait': 5376, 'bits': 764, 'hugh': 2436, 'jackman': 2653, 'smears': 4608, 'ryan': 4370, 'reynolds': 4255, '1cy4fbqnmc': 78, 'premier': 3931, 'illu': 2500, '9jnwlvpndl': 341, 'jeno': 2690, 'embrace': 1664, 'bruhhh': 861, 'wayyy': 5454, 'ijy1cxa06x': 2497, 'ripstephenhillenburgfirst': 4285, 'ma': 3126, '6apynuwfyx': 251, 'deaths': 1362, 'sponge': 4711, 'te': 4939, 'ooiaufmw5y': 3663, 'wagonknoggin': 5418, 'dorismele': 1527, 'man007_b': 3155, 'whimzies4me': 5488, 'jaydaws3': 2675, 'marylfaunda': 3205, 'provdcrumblover': 3980, 'jimbo_always': 2706, 'gwbehn': 2207, 'aqsu2elbrt': 543, 'cnn': 1109, 'cleveland': 1093, 'laughing': 2932, 'sketched': 4589, 'paper': 3735, 'sketchbook': 4588, 'bqfnsjkr2u': 826, 'lt': 3099, 'intersection': 2587, 'theee': 5004, 'checkmate': 1033, '1meh2kicpo': 82, 'mghiocdmdf': 3285, 'cfnmwq81hl': 999, 'ugh': 5244, 'sadness': 4393, 'jomalhotra': 2736, 'timesnow': 5076, 'navikakumar': 3469, 'channels': 1020, 'india': 2542, 'pl3nkptp6u': 3850, 'confirmed': 1169, 'vmzqj5zaau': 5373, 'jinx': 2707, 'rockets': 4312, 'joestwat': 2722, '1983': 67, 'flight': 1919, 'qkjxl8uvkw': 4045, 'iiikebig4heads': 2494, 'sugaseanmma': 4842, 'honstan': 2401, 'c1h3jpfmxy': 907, 'marvellatam': 3196, 'retired': 4238, 'mcchyrstal': 3226, 'ewfcuqcgzl': 1761, 'classes': 1086, 'semester': 4476, 'plot': 3871, 'ne': 3484, 'zfbkr5ge6a': 5740, 'iccvaekidf': 2467, 'ndtkbgdred': 3482, 'doomed': 1520, 'pressed': 3938, 'jfkdhfkhd': 2701, 'tf': 4973, 'metro': 3277, 'barbara': 684, 'candlelight': 933, 'nooz': 3548, '3nazs7bkpz': 177, 'passbto': 3750, 'wh': 5482, 'q0dynbfbiy': 4020, 'xsvcp7sjko': 5635, '3lrd8halpz': 176, 'smiling': 4611, 'everyday': 1753, 'horns': 2409, 'gesture': 2076, 'tillmanbryce': 5070, 'questioning': 4067, 'fairlyoddparents': 1822, 'rico': 4268, 'dylanobrien': 1592, 'eclecticbrotha': 1624, 'hillary': 2333, 'preferred': 3928, 'jeffries': 2686, 'wron': 5577, 'tbinryoiyz': 4935, 'congratulations': 1171, 'edgzna4jl7': 1632, 'bite': 763, 'solace': 4644, 'hmaviumgaf': 2363, 'yeetusthymeatus': 5674, 'tooniestpony': 5113, 'ou': 3686, 'irfhxqqc9o': 2601, 'comicsandpanels': 1139, 'allred': 475, 'opportunity': 3670, 'shameful': 4513, 'hahah': 2224, 'onew': 3653, 'sangtaee': 4406, 'excellent': 1768, 'stanmcchrystal': 4738, 'mistake': 3332, 'sold': 4645, 'uu8wmbcw23': 5306, 'pops': 3898, 'coworker': 1218, 'train': 5141, 'miqmpaoexg': 3324, 'awaypeople': 640, 'barely': 685, 'respectsstephen': 4225, 'eura1rb3z0': 1741, 'wowthat': 5558, 'bear': 707, 'payn': 3767, 'air': 454, 'u0w3hz9gxs': 5227, '2k18': 141, 'whatre': 5483, 'mf': 3280, 'beggijg': 712, 'saultalison': 4413, 'blamed': 776, 'trumps': 5180, 'presidencytypical': 3936, 'bullshit': 884, 'vpd1th11ub': 5383, 'absolutely': 374, 'immensely': 2520, 'easily': 1615, 'impressed': 2528, 'lesbians': 2981, 'kibum': 2821, 'teach': 4940, 'center': 992, 'conversation': 1184, 'sgpogbtpcj': 4502, 'allegedly': 473, 'stolen': 4785, 'vial': 5344, 'monetary': 3357, 'collectible': 1117, 'rccrtm1yjl': 4117, 'snuggles': 4625, 'deluxe': 1383, 'slipcase': 4600, 's8ckpivf77': 4380, 'kx0wkaph4q': 2893, 'authentic': 612, 'hlngugvri9': 2362, '8z47xgs1ok': 322, 'ncrpofptbf': 3478, 'yit6ugr6kc': 5691, 'attended': 603, '6onrq1tmql': 258, 'steves': 4780, 'chistd6duc': 1052, 'called': 920, 'billy': 750, 'shakespeare': 4509, 'thinkhttps': 5037, 'rhhhvxdjup': 4260, 'director': 1461, 'kenneth': 2802, 'branagh': 829, '1m2numkk8z': 81, 'z1asdtrdkd': 5722, 'commented': 1149, 'pill': 3833, 'ibiza': 2465, 'uears': 5239, 'c9nfx5qhoj': 913, 'tgnejbvrfv': 4978, 'mistakes': 3333, 'achievements': 387, '2mltyhws0f': 145, 'kutepjzgo6': 2887, 'zikswhc5bi': 5750, 'supspidertalk': 4871, 'yurilowenthal': 5718, 'yuri': 5717, 'pr': 3921, 'charisma': 1025, 'avenger': 622, 'jqefk9stuw': 2753, '2tiup79ooo': 152, 'franchise': 1962, 'hillburgs': 2334, 'animations': 503, 'furthered': 2015, 'julie': 2763, 'murray': 3424, 'household': 2420, 'nam': 3463, 'rt6xbcvzn9': 4347, 'archetype': 547, 'universetarot': 5279, 'tarotbyralphhttps': 4930, 'qebkfnwb4c': 4035, 'qngewf8lhy': 4052, 'apupreno5pbusiness': 540, 'advice': 424, 'foundr': 1954, 'ehmvqvseuc': 1651, 'announced': 507, 'q6gwkvwtmt': 4025, 'boundingcomics': 817, 'lament': 2915, 'drive': 1556, 'blowdart': 787, 'attack': 597, 'mi': 3295, 'yfu40huezl': 5683, 'students': 4814, 'exploring': 1795, 'recent': 4150, '4q4osjbo1c': 209, 'dishpatani': 1474, 'dishi': 1473, 'uu': 5304, 'hspixsshzi': 2429, 'revive': 4250, 'godfather': 2116, 'dnhxbjltxj': 1490, 'marvellegend': 3197, 'tsfhnusgjt': 5187, 'sinister': 4573, 'creature': 1245, 'walking': 5425, 'trivia': 5167, 'californi': 919, 'tpppun49jg': 5133, 'getfandom': 2077, 'tfrwt2yclk': 4976, 'elsa': 1661, 'ocampo': 3604, 'deathtoamerikkk': 1365, 'putzandmao': 4011, 'endorsing': 1682, 'btw': 877, 'admin': 413, 'gdz5qtew62': 2059, 'stuffs': 4819, 'problems': 3963, 'pointless': 3887, 'importance': 2526, 'cyed9t7gu0': 1297, 'noah': 3542, 'muc': 3408, 'xz2xu3iucp': 5649, 'noticed': 3556, 'secon': 4460, 'pxsudu1qbs': 4014, 'colorful': 1124, 'ideas': 2475, 'znco6prlux': 5754, 'tuning': 5195, 'soundcloud': 4669, 'itunes': 2628, 'xunhatdzu9': 5638, 'foll': 1929, 'ewlrhvf4pv': 1763, 'confess': 1168, 'fortune': 1948, 'invented': 2593, 'replicat': 4205, 'nzrivvkc3n': 3587, 'tweeps': 5209, '8n2rkd1kex': 310, 'laughed': 2931, 'smiled': 4610, 'pyxcmsyynw': 4019, 'veygoodspy': 5342, 'scarlet': 4429, 'witch': 5515, 'concentration': 1165, 'camp': 928, 'survivor': 4879, 'max': 3217, 'eis': 1654, '1nhuihasrb': 85, 'karlstephen': 2790, 'hawkingstan': 2272, 'hillenburgstack': 2343, 'wublinsall': 5586, 'thegiftedonfox': 5008, 'sighs': 4554, 'eternal': 1734, 'thegifted': 5007, 'vz6dguuuhy': 5402, 'terri_white': 4966, 'mrgodfrey': 3396, 'nickdesemlyen': 3521, 'derrojgzou': 1393, 'guapogirll_': 2191, 'xxxtentcion': 5647, 'walker': 5424, 'brown': 856, 'sean': 4455, 'schemmel': 4436, 'goku': 2121, 'supercaity': 4856, 'odd': 3610, 'remake': 4181, 'hones': 2397, 'oflq0udnbo': 3621, 'toysbetween2001500': 5131, 'ruffalo': 4353, 'lou': 3085, 'ferrigno': 1877, '3x': 191, 'diamond': 1426, 'select': 4471, 'xlhovlmlsc': 5618, 'sulomeanderson': 4847, 'vmbritsch': 5370, 'hahahahaha': 2226, '1ohrplpvov': 87, 'ryansito2274': 4372, 'vossbrink': 5380, 'ltkoshergt': 3101, 'onion': 3658, '_m87': 354, 'retroryno': 4240, 'kojima_hideo': 2866, 'hideo_kojima_en': 2326, 'amandathejedi': 483, 'e1zqielktj': 1596, 'pulse': 4002, 'compiling': 1158, 'plus': 3874, 'cast': 967, 'crew': 1251, 'informa': 2556, 'u1pqgbnixt': 5228, 'craigslist': 1228, '6aocmyksar': 250, 'today_csupueblo': 5094, 'publish': 3996, 'm0fi5tc7qi': 3120, 'frl': 1987, 'police': 3891, 'failing': 1819, 'journalist': 2747, 'clickbaiting': 1096, 'rdj': 4120, 'reprises': 4215, 'nzrlporwta': 3588, '105': 28, 'toast': 5091, 'zeuzk6gsh7': 5736, 'realkevinconroy': 4143, 'tragic': 5136, 'bsvfm83qeb': 870, 'ps4live': 3986, 'mt9kqj0xii': 3404, 'hawkingstefán': 2274, 'hillenburgall': 2339, 'swe': 4886, 'saints': 4399, 'aeon_soundworks': 429, 'clarknt67': 1084, 'sensanders': 4479, 'ocasio2018': 3605, 'socialism': 4633, 'higher': 2328, 'socia': 4630, 'swmmyohelp': 4895, 'big_business_': 743, 'og': 3623, 'finna': 1906, 'gon': 2125, 'dawg': 1339, '8grdzddg0u': 308, 'shutup': 4551, 'sent': 4481, 'sending': 4478, 'no8ychcjp2': 3540, 'chop': 1053, 'session': 4488, 'drewhodson1017': 1551, 'television': 4954, 'skateboards': 4586, 'peru': 3803, 'baseb': 688, 't2yoqghxfm': 4905, 'youtubers': 5706, 'content': 1174, 'revenue': 4247, 'mss9i0z4qu': 3402, 'surrounded': 4876, 'hjhhzc5brr': 2357, 'sweepingexits': 4889, 'dozens': 1535, 'ate': 593, 'homework': 2395, 'replacement': 4202, 'mfgfqnfuwr': 3282, 'landonlammar': 2919, 'geekly': 2063, 'dlk3vukvwt': 1487, 'azge6jtpmr': 657, 'kylekashuv': 2895, 'fights': 1887, 'semitism': 4477, 'harder': 2253, 'rocked': 4310, 'sacredmandalastudio': 4388, 'ft4ofbtm6f': 1995, 'hemsworth': 2306, 'jsa': 2758, 'authentics': 613, '9bup6rfjr1': 337, 'qemo5ofssg': 4037, 'witnesscoa': 5517, 'rvfhxjyl5f': 4367, 'ckrl1tmrkn': 1074, 'jersey': 2695, 'size': 4581, 'v9rzu8pdky': 5321, '7d0599dqjz': 277, '12x18': 37, 'dna': 1489, 'xbfd8qbmxs': 5605, '3za8gtxtw5': 195, 'manga': 3162, '_dirtywhiteboy': 351, 'facts': 1815, 'classics': 1089, 'thoroughly': 5049, 'guessing': 2196, 'dimbleby': 1457, 'tie': 5065, 'bbcqt': 699, 'surfer': 4874, '1993': 72, 'mephisto': 3266, 'kpxmez3hom': 2873, '0ljxogdnha': 14, 'flamboyant': 1915, 'zmu8kccir7': 5753, 'iw1nmet5rl': 2639, 'evanfilarca': 1746, 'til': 5069, 'birthdaymark': 760, 'nathorix': 3466, 'bump': 886, 'smoove': 4616, 'groove': 2179, 'numbers': 3572, 'boy': 823, 'waaay': 5415, 'flashy': 1917, 'yem6kcma7c': 5676, 'protested': 3978, 'analogy': 495, 'twitte': 5216, '1lqflvoljh': 80, 'pffft': 3808, 'crowning': 1260, 'achievement': 386, 'oj3nwekdmw': 3629, 'gt': 2187, 'qdkqp2a6xj': 4033, 'ec3dtmtaue': 1623, 'pagesix': 3721, 'travesty': 5148, 'onl': 3660, '1c0fc3d2r2': 77, 'd_greenvalley': 1306, 'nqbqlxolkp': 3564, 'force': 1936, '52wfdub33d': 217, 'nme': 3539, '9iybxgt7e6': 339, 'complicated': 1161, 'difficulty': 1451, 'sorting': 4665, '0u8rjnsufl': 19, 'thankful': 4983, 'uc5icxiepk': 5237, 'excited': 1776, 'item': 2619, 'etsy': 1739, 'alcohol': 463, 'flask': 1918, 'upcycled': 5288, 'mm6zupzjwo': 3343, '3up1qkzvtl': 185, 'dadchaplain': 1308, 'attackand': 598, 'condolences': 1167, 'szvq8kb69l': 4902, 'boongleyoongles': 809, 'sugalesscoffee': 4841, 'leagueoflejinds': 2944, 'bothering': 816, 'ocgb8usz9f': 3608, 'scouterversal': 4442, 'bi': 740, 'hkutv7myug': 2360, 'died2': 1439, 'vic': 5345, 'mensa': 3264, 'dissing': 1480, 'demarcus': 1385, 'signe': 4559, 'c4blp3tiww': 910, 'rybread_____': 4374, 'jokehonestly': 2732, 'idc': 2473, 'spin': 4702, '3rsbg3tov6': 182, 'held': 2300, 'accordance': 381, 'wishes': 5514, 'mf6xv1vpky': 3281, 'thr': 5053, 'uber': 5232, 'lyft': 3115, 'demanding': 1384, 'muslim': 3428, 'driver': 1557, '7ezsbmmk7g': 278, 'losses': 3080, 'tmhpxrq2b3': 5089, 'enemy': 1685, 'models': 3352, 'pt': 3990, 'barnum': 686, 't1hf3rsquw': 4903, 'standard': 4730, 'tep6exc1uf': 4962, 'olvqof0vst': 3638, 'handcuffing': 2234, 'compliment': 1162, 'rhetori': 4258, 'vxuqicjk8a': 5399, 'sou': 4666, 'cutie': 1285, 'patootie': 3759, 'ashitanofrog': 581, 'wokedudebro': 5529, 'helping': 2305, 'mental': 3265, 'chervantes41awomansperspective': 1037, 'bitterbabymamaclub': 765, 'donaldtrump': 1509, 'prisonreform': 3955, 'rockerfellerlaws': 4311, '6wjfppmfpk': 263, 'holy': 2386, 'rabbit': 4086, 'hole': 2376, '8als5d1yye': 304, 'fueled': 2004, 'creativity': 1240, 'vvgixqxiz3': 5394, '3wxyoclkbr': 190, 'thats': 4991, 'changyoon': 1018, 'stage': 4726, 'tion': 5078, 'jdhsjsk': 2680, 'muhbcgshks': 3413, 'onf': 3655, 'w8gjuu3qy7': 5413, 'contributions': 1182, 'community': 1154, 'g59tbc0brw': 2036, 'leemarvelcomics': 2957, 'zudxd3m8fg': 5765, 'batshit': 694, 'loon': 3069, 'cakegood1': 916, 'parkergames': 3745, 'clone': 1099, 'saga': 4394, 'omnibus': 3646, '2marvelcomics': 142, 'gibi': 2092, 'gibizaodaporra': 2093, 'hq': 2426, 'homemaranha': 2393, 'trhmbld5xy': 5155, 'nominees': 3544, 'dumbest': 1575, 'xxftxvamgy': 5642, 'rights': 4274, 'accept': 378, 'savior': 4416, 'nephew': 3496, 'axkxulyffe': 650, 'friendshttps': 1983, 'hwxngdh9c2': 2448, 'monthly': 3366, 'budget': 881, 'category': 971, 'ednem7wdc3': 1639, 'pardon': 3740, '6yr': 267, 'wxkxdxpwbw': 5593, 'comicbookfootballor': 1133, 'hockeythe': 2372, 'cupcricketsas': 1276, 'btuiquvygs': 876, 'epitaph9001': 1711, 'yea': 5664, 'suspended': 4880, 'doge': 1500, 'retard': 4237, 'repeatedly': 4199, 'nmckzvcsfl': 3538, 'haikufictiondju': 2227, 'related': 4174, 'marriage': 3183, 'nagatodharma': 3460, 'snyyjfcr6x': 4627, 'drain': 1538, 'uzi': 5316, 'ball': 676, 'sobbing': 4629, 'ignoring': 2488, 'thememejester': 5014, 'karlthen': 2791, 'leethen': 2965, 'hillenburgnow': 2341, 'hiddleston': 2324, 'terrible': 4967, 'loss': 3079, 'svyrz7m7zb': 4885, 'fantasticaveng1': 1842, 'whine': 5490, 'sjw': 4584, 'clar': 1080, '3deaufngd6': 170, 'ex': 1764, 'cuse': 1279, 'graphicmatt': 2154, 'suggest': 4843, 'gkmanbihgh': 2102, 'qj5dwddl6s': 4042, 'embarrassing': 1663, 'vin': 5355, 'scully': 4448, 'success': 4832, 'gst286vqrq': 2186, 'brunch': 863, 'membership': 3253, 'tyga': 5222, 'joebudden': 2720, 'thebrunchmembership': 4998, 'ku50cr8qh2': 2882, 'tour': 5124, 'dates': 1329, 'dallas': 1311, 'june': 2766, '19th': 74, 'dxkbbqrwa1': 1584, 'roo': 4326, 'doo': 1515, 'dooooooooooooo': 1522, 'doooooooo': 1521, 'classicshirts': 1090, 'opps': 3672, 'spoileralert': 4707, 'hayao': 2277, 'miyazaki': 3339, 'insulting': 2575, 'spiderverse': 4696, 'iud4zpcka1': 2630, 'kurt': 2884, 'cobain': 1112, 'bowie': 820, 'polishpatriottm': 3892, 'rodstryker': 4314, 'seated': 4459, 'naomi': 3465, 'standing': 4731, 'kimber': 2836, 'xyi17nskx8': 5648, 'brandonarnone': 833, 'vinnycav': 5358, 'allotted': 474, 'mourning': 3383, 'period': 3798, 'thesunvanished': 5030, 'spicy_dad': 4689, 'reminiscing': 4190, '1xbvnsmf3r': 95, 'kidzero1975': 2829, 'nop': 3549, 'incorrect': 2538, 'opinions': 3669, 'claremont': 1081, 'rp': 4340, 'fnvznvoo3p': 1926, 'ovxeeizulb': 3701, '20x28': 114, 'tio49zvcka': 5077, 'hx2nbdzltr': 2450, 'hockey': 2371, 'cupcomicbookfootball': 1275, 'kethmth6mf': 2804, 'apkbjp5apl': 525, 'technodhaba': 4946, 'trailhead': 5140, 'littleiglooo': 3033, 'sfdc_pune': 4497, 'salesforce': 4401, 'kavindrapatel': 2794, 'sfdckiran': 4498, 'tony_prophet': 5109, 'josiec211': 2744, 'lov': 3087, 'xrgifo86f2': 5634, 'law': 2937, 'survived': 4878, 'nazi': 3472, 'camps': 930, 'freed': 1973, 'mauthausen': 3216, 'kwrw737d79': 2891, 'qrj4jab3me': 4054, 'bm2vwoli14': 793, 'n000ix2umn': 3449, 'classiclib3ral': 1088, 'fascist': 1850, 'capo': 942, 'challenge': 1008, 'sdcc': 4450, 'star': 4743, 'starship': 4749, 'xqr1rwudxz': 5631, 'kfs66jt7od': 2814, 'brandon_bird': 832, 'kcgreenn': 2798, 'according': 382, 'younger': 5701, 'large': 2922, 'clamoring': 1078, 'deadpo': 1354, 'waqazyoeoo': 5438, 'audience': 607, 'members': 3252, 'early': 1612, 'screenings': 4445, 'tells': 4959, 'viewer': 5350, 'ifcdn2pakm': 2482, 'quoteofthday1': 4074, 'motivational748': 3380, 'ithinkthatsways': 2622, 'atextsbook': 595, 'peeled': 3777, 'vwvs8kuydk': 5397, 'onedgeofwonder': 3651, 'mandela': 3160, 'effects': 1642, 'binlaw': 753, '6trqen1ndz': 261, '1xfj5naa6t': 97, 'directors': 1462, 'zpmvunxf9x': 5761, 'guillecummings': 2198, 'bait': 673, 'fahrhzie6t': 1818, '5aufgzkceh': 226, 'cnet': 1108, '25yiscleui': 124, 'mano': 3167, 'hydjfkfmf': 2452, 'vvuh5nlkqa': 5395, 'fox_mulder_8': 1956, '24bnqn3m0p': 120, 'differencestan': 1448, 'freedom': 1974, 'courageampa': 1210, 'patrioti': 3760, 'hu9alebomi': 2432, 'awsome': 647, 'smash': 4607, 'theamateurmixologist': 4995, 'greens': 2170, 'ripstanleei': 4281, 'graphic': 2153, 'novel': 3560, 'xemp023on3': 5610, 'nintenz': 3533, 'score': 4440, 'drop': 1560, 'factors': 1814, '2miw3xn7cf': 143, 'opposite': 3671, 'dayenu': 1341, 'tighten': 5068, 'ink': 2562, 'pent': 3787, 'eiyggkvxkn': 1655, 'wowamen': 5557, 'thesdmatt': 5028, 'xobradox': 5625, 'atlutd': 596, 'havestan': 2268, 'soil': 4643, 'settle': 4492, 'misrepresent': 3327, 'ideo': 2476, 'z9nttfw526': 5731, 'obscureaaron': 3598, 'nov': 3559, 'rlm8hxjspo': 4293, 'true2atlanta': 5176, 'rp5tffr7uo': 4341, 'n9wymtv7xg': 3458, 'ryfd7cgiy4': 4375, 'aebr9kbzqn': 428, 't7ulu4xmj4': 4908, 'lactnif3yi': 2909, 'dare': 1321, 'grotesque': 2181, 'shove': 4544, 'twas': 5208, 'it8zlamitl': 2617, '12daysofchristmas': 36, 'suckedsorry': 4834, 'timelineliterally': 5074, 'aongy99ol0': 522, 'swezk7klto': 4892, 'egg': 1648, 'pt8mq5kyz9': 3992, 'e1qjtayfsl': 1595, 'currently': 1278, 'rewatching': 4254, 'purse': 4008, 'annoyingalso': 508, 'pibble': 3822, 'afraid': 432, 'rain': 4093, 'terrifi': 4968, 'hjmr2wkfm7': 2358, 'diabloimmortal': 1423, 'fallout76': 1831, 'lance': 2916, 'sexiness': 4496, 'hdv0t1kdir': 2280, 'marcbernardin': 3172, 'svcantina': 4882, 'tokyo': 5098, 'y3twjlxnda': 5652, 's9wbb433ye': 4384, 'excuse': 1779, 'actor': 397, 'actress': 400, 'acting': 394, 'actingonfilm': 395, 'lifeofanactor': 3001, 'lifeonset': 3002, 'dreamer': 1547, 'setlife': 4491, 'castingcall': 968, 'u7gzk3qwtm': 5230, 'mackenzi': 3130, 'friday': 1978, 'storm': 4791, 'castle': 969, 'ch': 1005, '7pm': 285, 'thissurely': 5043, 'neoculturegeist': 3495, 'stayswithskz': 4760, 'lmaoo': 3047, 'minifigure': 3319, 'minifig': 3318, 'heros': 2315, 'g4vn5arfu5': 2034, 'yqpnxvgpyn': 5709, 'eoyrbmjydq': 1705, 'iw00e4kzjb': 2638, '03cilxjlaw': 2, 'epuzavrcbx': 1714, '6cyypywao1': 252, 'mufgk6fuvn': 3412, 'sym2fotsdz': 4898, 'desired': 1403, 'planningestateplanning': 3857, 'trusts': 5181, 'mq2h8b1iul': 3393, 'aezh7exz2n': 430, 'whos': 5493, 'dp': 1536, 'nby6oyrxg5': 3476, 'championing': 1010, 'american': 488, 'bra': 828, 'nynpsp1e29': 3586, 'anywho': 521, 'booted': 810, '2000': 100, 'playstation': 3866, 'shrink': 4548, 'tw0n7ai2qq': 5205, 'multiversefive': 3416, 'a_murillo': 367, 'chevaliehhhhhh': 1039, 'wfvhcfs9av': 5481, 'leeripstanlee': 2962, 'cfiu6whhwm': 998, 'surely': 4873, 'pkgmudu8io': 3847, 'departure': 1389, 'gay': 2057, 'msga': 3401, 'sqaurepants': 4717, 'isao': 2608, 'takahata': 4914, 'studio': 4815, 'ghibli': 2085, 'korvac': 2869, 'printing': 3953, '1991': 71, 'tcmiwmt95x': 4936, 't1lsmuf7p4': 4904, 'cxzys7kihh': 1292, '6xp1eymiu4': 265, 'd299puw3ek': 1300, 'deathsaretha': 1363, 'franklinjerry': 1966, 'van': 5326, 'dykestephen': 1591, 'hawkingverne': 2275, 'troyeravi': 5173, 'rpjh8ueqmc': 4342, 'effed': 1643, 'troytheboy87': 5174, 'cdncapedcrusadr': 981, 'thenerdrm': 5015, 'gnusbrands': 2110, 'ceo': 993, 'andy': 498, 'heyward': 2318, 'shared': 4518, 'pen': 3781, 'pal': 3729, 'correspondenc': 1194, 'kezbsdq7lm': 2809, 'ew': 1760, 'release': 4175, '28that': 130, 'l4r66q6qyb': 2905, 'dizzle5000': 1484, 'dolphin_resist': 1504, 'donnanoble10th': 1511, 'shuriresists': 4549, 'hitgirlresists': 2355, 'stormresist': 4792, 'edallas53': 1628, 'effieresists': 1644, 'sgcrgs6jyn': 4500, 'distracted': 1481, 'cohen': 1114, 'plea': 3868, 'chicago': 1041, 'alderman': 464, 'office': 3618, 'raided': 4092, '9n0wmxnson': 342, 'possessed': 3905, 'qualities': 4061, 'endowed': 1683, 'withintegritycompassionintelligencethese': 5516, 'quali': 4059, 'sh3fzp3ppx': 4505, 'kyypozhmue': 2898, 'rideapart': 4269, 'davidson': 1336, 'motorcy': 3381, '0nkft9xlkh': 15, 'ngl': 3516, 'keeps': 2800, 'captainresists': 947, 'prometheus_2018': 3973, 'trinityresists': 5164, 'snowbiauthor': 4623, 'msactiviss': 3400, 'artistspo': 574, 'madelynerants': 3135, 'wxjayjnpfa': 5592, 'spnzj8oq9j': 4705, 'staiff': 4727, 'mutters': 3432, 'sfvarocbuk': 4499, 'prolific': 3972, 'ge': 2060, 'lsagyq4cah': 3097, 'mameeeeees': 3153, 'kouglof2': 2870, 'thecollector198': 5001, 'wbpictures': 5455, 'outside': 3693, 'ti': 5063, 'ruu2myf86g': 4366, 'drjaneruby': 1559, 'thishttps': 5040, 'vjeabqpcca': 5365, 'reneritchie': 4196, 'ii': 2491, 'hated': 2263, 'forc': 1935, '6g4vssegb4': 253, 'grinner': 2175, 'pace': 3717, 'geeksresist': 2066, 'ispired': 2611, 'sunnydale': 4853, 'residents': 4219, 'cal': 917, 'cyckau79rs': 1296, 'eg69vcqomo': 1646, 'roxyfighter': 4337, 'justsaiyan_gear': 2774, 'initiative': 2560, '7yoxkqyosn': 293, 'l1oohbffsk': 2903, 'groening': 2176, 'heh': 2297, 'renaming': 4194, 'ozjpvlu5e1': 3710, 'kidcasteel': 2825, 'ffprrud3n5': 1881, 'steranko': 4777, 'foyyfekzis': 1957, '_gdphil_': 352, 'dsl616mqjy': 1565, 'cross': 1258, 'declares': 1374, 'louisiana': 3086, 'flooding': 1920, 'disaster': 1466, 'sandy': 4404, 'aroqnslpi0': 558, 'e4sxnpwjfv': 1601, 'remains': 4180, 'fantasyalso': 1845, 'largelo': 2923, 'cs6jpp0nu6': 1266, 'wo7utqt9dn': 5527, 'hawkins': 2276, '21g7auwu6g': 115}\n"
     ]
    }
   ],
   "source": [
    "# Now, we can inspect how the vectorizer 'vectorized' the text\n",
    "# This will print out a list of words used, and their index in the vectors\n",
    "#The vocabulary has a dictionary format {'text': frequency}\n",
    "#The function is: print(vectorizer.vocabulary_)\n",
    "print(vectorizer.vocabulary_)"
   ]
  },
  {
   "cell_type": "code",
   "execution_count": 45,
   "metadata": {},
   "outputs": [
    {
     "name": "stdout",
     "output_type": "stream",
     "text": [
      "<class 'NoneType'>\n"
     ]
    }
   ],
   "source": [
    "print(type(vectorizer.vocabulary))"
   ]
  },
  {
   "cell_type": "code",
   "execution_count": 51,
   "metadata": {},
   "outputs": [
    {
     "name": "stdout",
     "output_type": "stream",
     "text": [
      "[[0 0 0 ... 0 0 0]\n",
      " [0 0 0 ... 0 0 0]\n",
      " [0 0 0 ... 0 0 0]\n",
      " ...\n",
      " [0 0 0 ... 0 0 0]\n",
      " [0 0 0 ... 0 0 0]\n",
      " [0 0 0 ... 0 0 0]]\n"
     ]
    }
   ],
   "source": [
    "#Here a matrix is created for all the data\n",
    "#print(vectorizer.fit_transform(list_data).todense())\n",
    "bag_wd=vectorizer.fit_transform(feature_text).toarray()\n",
    "print(bag_wd)\n"
   ]
  },
  {
   "cell_type": "code",
   "execution_count": null,
   "metadata": {},
   "outputs": [],
   "source": [
    "#Here a matrix is created for all the data\n",
    "#print(vectorizer.fit_transform(list_data).todense())\n",
    "bag_wd=vectorizer.fit_transform(tweet).toarray()\n",
    "print(bag_wd)"
   ]
  },
  {
   "cell_type": "code",
   "execution_count": 52,
   "metadata": {},
   "outputs": [
    {
     "data": {
      "text/plain": [
       "(1804, 5767)"
      ]
     },
     "execution_count": 52,
     "metadata": {},
     "output_type": "execute_result"
    }
   ],
   "source": [
    "#Pandas intervention: A DataFrame is created with the bag of words information\n",
    "# the column names correspond to the words (features)\n",
    "bagw_df=pd.DataFrame(bag_wd,columns=vectorizer.get_feature_names())\n",
    "bagw_df.shape"
   ]
  },
  {
   "cell_type": "code",
   "execution_count": 55,
   "metadata": {},
   "outputs": [
    {
     "data": {
      "text/plain": [
       "2    917\n",
       "1    579\n",
       "0    308\n",
       "Name: Sentiments, dtype: int64"
      ]
     },
     "execution_count": 55,
     "metadata": {},
     "output_type": "execute_result"
    }
   ],
   "source": [
    "#no need to do anythin with class_list since it is a panda series already with a perfect match (no sort in any of the components)\n",
    "# to the three classes 0,1,2)\n",
    "class_list.value_counts()"
   ]
  },
  {
   "cell_type": "code",
   "execution_count": 56,
   "metadata": {},
   "outputs": [],
   "source": [
    "#For building a model to predict sentiment it is necessary to create the X,Y sets, split them into train and test,\n",
    "# proceed to select an specific model given the nature of the data, fit the data, create a prediction and find out how accurate \n",
    "# the model is at predicting.\n",
    "\n",
    "#So, for X and Y\n",
    "X = bagw_df\n",
    "Y = class_list"
   ]
  },
  {
   "cell_type": "code",
   "execution_count": 57,
   "metadata": {},
   "outputs": [],
   "source": [
    "#Now we model using sklearn: The option will be for the Naive Bayesian model which is pretty straight forward in terms \n",
    "# of estimation and appropiate in terms of the data profile. The multinomial version adjusts well to the existence of more than\n",
    "# two possible outcomes. In our case \n",
    "# Negative sentiment (offensive, ironic, derogatory and generally negative comments about Stan Lee), labelled as 0\n",
    "# Affirmative sentiment (sad, nostalgic, celebratory, and generally positive comments about Stan Lee), labelled as 1\n",
    "# Neutral sentiment (fact based, Stan Lee can be a reference but no judgment is made as so justify a -/+ label), labelled as 2\n",
    "\n",
    "from sklearn.model_selection import train_test_split\n",
    "from sklearn import  metrics\n",
    "from sklearn.naive_bayes import MultinomialNB\n",
    "from sklearn.metrics import classification_report"
   ]
  },
  {
   "cell_type": "code",
   "execution_count": 58,
   "metadata": {},
   "outputs": [],
   "source": [
    "#The syntaxis for the estimation is \n",
    "#x_train, x_test, y_train, y_test = train_test_split(  X, Y, test_size='', random_state=)\n",
    "#x_train, x_test, y_train, y_test = train_test_split(df, df_class, test_size=0.3, random_state=58)\n",
    "\n",
    "#what is happening here is that df and df class are used as x, y for the estimation which makes sense\n",
    "\n",
    "#y is mainly a vector of 2,1,0 values based on the attribute neutral,pos,neg, x gets the words that might predict neutral,pos,neg\n",
    "\n",
    "#the test_size is 0.3 meaning that the train set is 70% of the data randomly selected, with the rermaining 30% reserved for test.\n",
    "\n",
    "x_train, x_test, y_train, y_test = train_test_split(X, Y, test_size=0.3, random_state=58)\n",
    "\n",
    "#The Gaussian option is selected but the model is still not run\n",
    "stan_lee_model = MultinomialNB()"
   ]
  },
  {
   "cell_type": "code",
   "execution_count": 59,
   "metadata": {},
   "outputs": [
    {
     "data": {
      "text/plain": [
       "MultinomialNB(alpha=1.0, class_prior=None, fit_prior=True)"
      ]
     },
     "execution_count": 59,
     "metadata": {},
     "output_type": "execute_result"
    }
   ],
   "source": [
    "# We proceed to estimate. \n",
    "#No prior probabilities defined for the classes (priors=None)\n",
    "\n",
    "stan_lee_model.fit(x_train, y_train)\n"
   ]
  },
  {
   "cell_type": "code",
   "execution_count": 61,
   "metadata": {},
   "outputs": [],
   "source": [
    "#Here the model is used to estimate a prediction vector using x_test\n",
    "stan_lee_pred=stan_lee_model.predict(x_test)"
   ]
  },
  {
   "cell_type": "code",
   "execution_count": 62,
   "metadata": {},
   "outputs": [
    {
     "name": "stdout",
     "output_type": "stream",
     "text": [
      "0.5129151291512916\n"
     ]
    }
   ],
   "source": [
    "# Now the model is put to the test ... Is it good? \n",
    "# The accuracy score provides an answer\n",
    "# metrics.accuracy_score(desired_output,output)\n",
    "# produces a value between 0 (bad) and 1 (too good) that indicates how good the model performs\n",
    "# it is applied for the test set, new data y_test and stan_lee_pred, which is the prediction of the stan_lee_model using y_test\n",
    "\n",
    "print(metrics.accuracy_score(y_test,stan_lee_pred))\n"
   ]
  },
  {
   "cell_type": "code",
   "execution_count": null,
   "metadata": {},
   "outputs": [],
   "source": [
    "# As expected the model does not show much accuracy. It is better than using a dice to predict sentiment but yet, \n",
    "# not a clear classification between the good and bad sentiment."
   ]
  },
  {
   "cell_type": "code",
   "execution_count": 63,
   "metadata": {},
   "outputs": [
    {
     "name": "stdout",
     "output_type": "stream",
     "text": [
      "[[ 15  43  35]\n",
      " [ 23  87  67]\n",
      " [ 33  63 176]]\n"
     ]
    }
   ],
   "source": [
    "# Another metric that defines the performance of the Stan_lee model is the CONFUSION Matrix, whose \n",
    "# main diagonal indicates the number of matches between prediction and reality (the model stating negative, positive or \n",
    "# neutral sentiment versus the actual labeling of the tweet.)\n",
    "print(metrics.confusion_matrix(y_test, stan_lee_pred))"
   ]
  },
  {
   "cell_type": "code",
   "execution_count": null,
   "metadata": {},
   "outputs": [],
   "source": [
    "# The main row is 15+87+176 =  278/542 ==> 51.29% as stated before.  "
   ]
  },
  {
   "cell_type": "code",
   "execution_count": 64,
   "metadata": {},
   "outputs": [
    {
     "name": "stdout",
     "output_type": "stream",
     "text": [
      "             precision    recall  f1-score   support\n",
      "\n",
      "          0       0.21      0.16      0.18        93\n",
      "          1       0.45      0.49      0.47       177\n",
      "          2       0.63      0.65      0.64       272\n",
      "\n",
      "avg / total       0.50      0.51      0.51       542\n",
      "\n"
     ]
    }
   ],
   "source": [
    "#Summary of indicators \n",
    "#The information in the confusion matrix is properly summarized using two criteria:\n",
    "\n",
    "# Precision: How many of the predicted by the model cases are actually good predictions\n",
    "# Recall: How many of the actual cases are actually captured by the model.\n",
    "\n",
    "print(classification_report(y_test, output))"
   ]
  },
  {
   "cell_type": "code",
   "execution_count": null,
   "metadata": {},
   "outputs": [],
   "source": [
    "# The model faces some challenges when predicting negatives ... understandable given the scenario the data was pulled \n",
    "# in which the general tone was not a negative one and the mood was basically positive and there was a positive tone even\n",
    "# in the negative tweets detected. There is an interesting lesson here which is that the actual dictionary of ANY text project\n",
    "# might need to be a contruction of words built on extraction at different times and circumstances. \n",
    "# Seems to us the best way to prevent bias and create missing cases by simply design.\n",
    "# In this current Stan Lee related dictionary,  really offensive words will not be recognized as they were not part of the corpus at mourning time.\n",
    "# The result here I think is independent of the statistical technique and simply reflects the nature of the data as \n",
    "# in the time it was captured. "
   ]
  },
  {
   "cell_type": "code",
   "execution_count": null,
   "metadata": {},
   "outputs": [],
   "source": [
    "# BDA_102 - Stan Lee's Sentiment Model - Group 3 - December 2018\n",
    "# Iwona Rozco, Jeongseon Lee, Tatiana Khayrullina, Qasim Ali, Roberto Hidalgo"
   ]
  }
 ],
 "metadata": {
  "kernelspec": {
   "display_name": "Python 3",
   "language": "python",
   "name": "python3"
  },
  "language_info": {
   "codemirror_mode": {
    "name": "ipython",
    "version": 3
   },
   "file_extension": ".py",
   "mimetype": "text/x-python",
   "name": "python",
   "nbconvert_exporter": "python",
   "pygments_lexer": "ipython3",
   "version": "3.5.5"
  }
 },
 "nbformat": 4,
 "nbformat_minor": 2
}
