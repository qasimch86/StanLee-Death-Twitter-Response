{
 "cells": [
  {
   "cell_type": "code",
   "execution_count": 1,
   "metadata": {},
   "outputs": [
    {
     "name": "stdout",
     "output_type": "stream",
     "text": [
      "13028\n"
     ]
    }
   ],
   "source": [
    "import json\n",
    "import pandas as pd\n",
    "import matplotlib.pyplot as plt\n",
    "from nltk.tokenize import word_tokenize\n",
    "from nltk.corpus import stopwords\n",
    "\n",
    "tweets_data_path = 'stanlee.json'\n",
    "# tweets_data_path = 'stanlee.json'\n",
    "tweets_data = []\n",
    "tweets_file = open(tweets_data_path, \"r\")\n",
    "tweets= pd.DataFrame()\n",
    "#  json Python library to parse the data, and read the data into an array. \n",
    "for line in tweets_file:\n",
    "    try:\n",
    "        tweet = json.loads(line)\n",
    "        tweets_data.append(tweet)\n",
    "    except:\n",
    "        continue\n",
    "\n",
    "tweets['text'] = list(map(lambda tweet: tweet['text'], tweets_data))\n",
    "tweets['lang'] = list(map(lambda tweet: tweet['lang'], tweets_data))\n",
    "\n",
    "print(len(tweets))\n"
   ]
  },
  {
   "cell_type": "code",
   "execution_count": 2,
   "metadata": {},
   "outputs": [],
   "source": [
    "import re\n",
    "def word_in_text(word,tweet):\n",
    "    count=0\n",
    "    for tweet in tweets_data:\n",
    "        #tweet['text'].lower()\n",
    "        match = re.search(word, tweet['text'])\n",
    "        if match:\n",
    "            count = count+1   \n",
    "            #print(tweet['text'])\n",
    "    return count"
   ]
  },
  {
   "cell_type": "code",
   "execution_count": 3,
   "metadata": {},
   "outputs": [],
   "source": [
    "stanlee = word_in_text('stanlee', tweet)\n",
    "hashtagstanlee = word_in_text('#StanLee', tweet)\n",
    "Stan_Lee = word_in_text('Stan Lee', tweet)\n",
    "STANLEE = word_in_text('STANLEE', tweet)\n",
    "STAN_LEE = word_in_text('STAN LEE', tweet)\n",
    "hashtagSTANLEE = word_in_text('#STANLEE', tweet)\n"
   ]
  },
  {
   "cell_type": "code",
   "execution_count": 4,
   "metadata": {},
   "outputs": [
    {
     "data": {
      "text/html": [
       "<div>\n",
       "<style scoped>\n",
       "    .dataframe tbody tr th:only-of-type {\n",
       "        vertical-align: middle;\n",
       "    }\n",
       "\n",
       "    .dataframe tbody tr th {\n",
       "        vertical-align: top;\n",
       "    }\n",
       "\n",
       "    .dataframe thead th {\n",
       "        text-align: right;\n",
       "    }\n",
       "</style>\n",
       "<table border=\"1\" class=\"dataframe\">\n",
       "  <thead>\n",
       "    <tr style=\"text-align: right;\">\n",
       "      <th></th>\n",
       "      <th>sentiment</th>\n",
       "      <th>text</th>\n",
       "    </tr>\n",
       "  </thead>\n",
       "  <tbody>\n",
       "    <tr>\n",
       "      <th>2</th>\n",
       "      <td>None</td>\n",
       "      <td>Enough said - Stan the man Lee https://t.co/zH...</td>\n",
       "    </tr>\n",
       "    <tr>\n",
       "      <th>3</th>\n",
       "      <td>None</td>\n",
       "      <td>\"RIP in Peace Stan Lee\" from @MiddleUrinalPod ...</td>\n",
       "    </tr>\n",
       "    <tr>\n",
       "      <th>4</th>\n",
       "      <td>None</td>\n",
       "      <td>RT @SoWizardPodcast: Check out episode 224 of ...</td>\n",
       "    </tr>\n",
       "    <tr>\n",
       "      <th>5</th>\n",
       "      <td>None</td>\n",
       "      <td>RT @comicsandpanels: Stan Lee and Steve Ditko ...</td>\n",
       "    </tr>\n",
       "    <tr>\n",
       "      <th>7</th>\n",
       "      <td>None</td>\n",
       "      <td>RT @STAY_mutuals: Gain STAY Mutuals!💕🌻\\n※ rt a...</td>\n",
       "    </tr>\n",
       "    <tr>\n",
       "      <th>8</th>\n",
       "      <td>None</td>\n",
       "      <td>#StanLeeForever #Remix #EDM #StanLee #marvelco...</td>\n",
       "    </tr>\n",
       "    <tr>\n",
       "      <th>9</th>\n",
       "      <td>None</td>\n",
       "      <td>Stan Lee Inspired Us All: Celebrate His 95 Yea...</td>\n",
       "    </tr>\n",
       "    <tr>\n",
       "      <th>12</th>\n",
       "      <td>None</td>\n",
       "      <td>Now for something breathtaking: A new episode ...</td>\n",
       "    </tr>\n",
       "    <tr>\n",
       "      <th>13</th>\n",
       "      <td>None</td>\n",
       "      <td>RT @BSpodNetwork: Now for something breathtaki...</td>\n",
       "    </tr>\n",
       "    <tr>\n",
       "      <th>14</th>\n",
       "      <td>None</td>\n",
       "      <td>Rap De Stan Lee EN ESPAÑOL || Frikirap || CriC...</td>\n",
       "    </tr>\n",
       "    <tr>\n",
       "      <th>15</th>\n",
       "      <td>None</td>\n",
       "      <td>@ZoomTV @wreckitralph - Stan Lee #RalphWithZoo...</td>\n",
       "    </tr>\n",
       "    <tr>\n",
       "      <th>16</th>\n",
       "      <td>None</td>\n",
       "      <td>RT @fallenkiing: Spiderman fighting Jesus to g...</td>\n",
       "    </tr>\n",
       "    <tr>\n",
       "      <th>17</th>\n",
       "      <td>None</td>\n",
       "      <td>RT @ChrisEvans: There will never be another St...</td>\n",
       "    </tr>\n",
       "    <tr>\n",
       "      <th>18</th>\n",
       "      <td>None</td>\n",
       "      <td>RT @MistaPerez: #StanLeeForever #Remix #EDM #S...</td>\n",
       "    </tr>\n",
       "    <tr>\n",
       "      <th>19</th>\n",
       "      <td>None</td>\n",
       "      <td>RT @salcomicbookpro: #StanLee mural just poppe...</td>\n",
       "    </tr>\n",
       "    <tr>\n",
       "      <th>20</th>\n",
       "      <td>None</td>\n",
       "      <td>RT @aar7743: Stan Lee's cameo in #Avengers4 sh...</td>\n",
       "    </tr>\n",
       "    <tr>\n",
       "      <th>21</th>\n",
       "      <td>None</td>\n",
       "      <td>RT @Kellzallday: Yesterday I completed a farew...</td>\n",
       "    </tr>\n",
       "    <tr>\n",
       "      <th>22</th>\n",
       "      <td>None</td>\n",
       "      <td>RT @shawnwarner629: A Stan Lee memorial mural ...</td>\n",
       "    </tr>\n",
       "    <tr>\n",
       "      <th>23</th>\n",
       "      <td>None</td>\n",
       "      <td>my birthday wish list:\\ncarbon monoxide scente...</td>\n",
       "    </tr>\n",
       "    <tr>\n",
       "      <th>25</th>\n",
       "      <td>None</td>\n",
       "      <td>RT @InfinityWarFans: RIP #StanLee, you'll neve...</td>\n",
       "    </tr>\n",
       "    <tr>\n",
       "      <th>26</th>\n",
       "      <td>None</td>\n",
       "      <td>RT @shawnwarner629: A Stan Lee memorial mural ...</td>\n",
       "    </tr>\n",
       "    <tr>\n",
       "      <th>27</th>\n",
       "      <td>None</td>\n",
       "      <td>Marvel Studios chief Kevin Feige wrote a tribu...</td>\n",
       "    </tr>\n",
       "    <tr>\n",
       "      <th>28</th>\n",
       "      <td>None</td>\n",
       "      <td>Kevin Smith Reacts to Bill Maher Taking a Shot...</td>\n",
       "    </tr>\n",
       "    <tr>\n",
       "      <th>29</th>\n",
       "      <td>None</td>\n",
       "      <td>Marvel Studios chief Kevin Feige recalled his ...</td>\n",
       "    </tr>\n",
       "    <tr>\n",
       "      <th>30</th>\n",
       "      <td>None</td>\n",
       "      <td>RT @comicsandpanels: Stan Lee, Don Heck, and D...</td>\n",
       "    </tr>\n",
       "    <tr>\n",
       "      <th>31</th>\n",
       "      <td>None</td>\n",
       "      <td>Marvel Studios chief Kevin Feige wrote a tribu...</td>\n",
       "    </tr>\n",
       "    <tr>\n",
       "      <th>32</th>\n",
       "      <td>None</td>\n",
       "      <td>RT @shawnwarner629: A Stan Lee memorial mural ...</td>\n",
       "    </tr>\n",
       "    <tr>\n",
       "      <th>33</th>\n",
       "      <td>None</td>\n",
       "      <td>RT @SurgeOfPower1: RIP Stan Lee and a little a...</td>\n",
       "    </tr>\n",
       "    <tr>\n",
       "      <th>34</th>\n",
       "      <td>None</td>\n",
       "      <td>@ShinGokaiRed I love marvel and Stan Lee but I...</td>\n",
       "    </tr>\n",
       "    <tr>\n",
       "      <th>35</th>\n",
       "      <td>None</td>\n",
       "      <td>RT @shawnwarner629: A Stan Lee memorial mural ...</td>\n",
       "    </tr>\n",
       "    <tr>\n",
       "      <th>...</th>\n",
       "      <td>...</td>\n",
       "      <td>...</td>\n",
       "    </tr>\n",
       "    <tr>\n",
       "      <th>12998</th>\n",
       "      <td>None</td>\n",
       "      <td>RT @e6entric: *Stan Lee creator of Marvel dies...</td>\n",
       "    </tr>\n",
       "    <tr>\n",
       "      <th>12999</th>\n",
       "      <td>None</td>\n",
       "      <td>RT @JewishVoice: “If the recently deceased com...</td>\n",
       "    </tr>\n",
       "    <tr>\n",
       "      <th>13000</th>\n",
       "      <td>None</td>\n",
       "      <td>RT @CaptainResists: Stan Lee possessed qualiti...</td>\n",
       "    </tr>\n",
       "    <tr>\n",
       "      <th>13001</th>\n",
       "      <td>None</td>\n",
       "      <td>RT @JewishVoice: “If the recently deceased com...</td>\n",
       "    </tr>\n",
       "    <tr>\n",
       "      <th>13002</th>\n",
       "      <td>None</td>\n",
       "      <td>RT @JewishVoice: “If the recently deceased com...</td>\n",
       "    </tr>\n",
       "    <tr>\n",
       "      <th>13003</th>\n",
       "      <td>None</td>\n",
       "      <td>RT @e6entric: *Stan Lee creator of Marvel dies...</td>\n",
       "    </tr>\n",
       "    <tr>\n",
       "      <th>13004</th>\n",
       "      <td>None</td>\n",
       "      <td>RT @CaptainResists: @dizzle5000 @ShuriResists ...</td>\n",
       "    </tr>\n",
       "    <tr>\n",
       "      <th>13005</th>\n",
       "      <td>None</td>\n",
       "      <td>RT @MrScottLads: @dizzle5000 @ShuriResists @Do...</td>\n",
       "    </tr>\n",
       "    <tr>\n",
       "      <th>13006</th>\n",
       "      <td>None</td>\n",
       "      <td>RT @MrScottLads: @dizzle5000 @ShuriResists @Do...</td>\n",
       "    </tr>\n",
       "    <tr>\n",
       "      <th>13007</th>\n",
       "      <td>None</td>\n",
       "      <td>RT @Prometheus_2018: @dizzle5000 @Dolphin_Resi...</td>\n",
       "    </tr>\n",
       "    <tr>\n",
       "      <th>13008</th>\n",
       "      <td>None</td>\n",
       "      <td>RT @e6entric: *Stan Lee creator of Marvel dies...</td>\n",
       "    </tr>\n",
       "    <tr>\n",
       "      <th>13009</th>\n",
       "      <td>None</td>\n",
       "      <td>RT @e6entric: *Stan Lee creator of Marvel dies...</td>\n",
       "    </tr>\n",
       "    <tr>\n",
       "      <th>13010</th>\n",
       "      <td>None</td>\n",
       "      <td>RT @e6entric: *Stan Lee creator of Marvel dies...</td>\n",
       "    </tr>\n",
       "    <tr>\n",
       "      <th>13011</th>\n",
       "      <td>None</td>\n",
       "      <td>@dizzle5000 @ShuriResists @DonnaNoble10th @Dol...</td>\n",
       "    </tr>\n",
       "    <tr>\n",
       "      <th>13012</th>\n",
       "      <td>None</td>\n",
       "      <td>RT @JewishVoice: “If the recently deceased com...</td>\n",
       "    </tr>\n",
       "    <tr>\n",
       "      <th>13013</th>\n",
       "      <td>None</td>\n",
       "      <td>RT @Prometheus_2018: @dizzle5000 @Dolphin_Resi...</td>\n",
       "    </tr>\n",
       "    <tr>\n",
       "      <th>13014</th>\n",
       "      <td>None</td>\n",
       "      <td>RT @chrishemsworth: RIP my friend. Thank you f...</td>\n",
       "    </tr>\n",
       "    <tr>\n",
       "      <th>13015</th>\n",
       "      <td>None</td>\n",
       "      <td>RT @Prometheus_2018: @dizzle5000 @Dolphin_Resi...</td>\n",
       "    </tr>\n",
       "    <tr>\n",
       "      <th>13016</th>\n",
       "      <td>None</td>\n",
       "      <td>RT @LeslieWeegee: This year, we have lost:\\n\\n...</td>\n",
       "    </tr>\n",
       "    <tr>\n",
       "      <th>13017</th>\n",
       "      <td>None</td>\n",
       "      <td>RT @e6entric: *Stan Lee creator of Marvel dies...</td>\n",
       "    </tr>\n",
       "    <tr>\n",
       "      <th>13018</th>\n",
       "      <td>None</td>\n",
       "      <td>RT @dizzle5000: ⏰ It’s time for a Party With P...</td>\n",
       "    </tr>\n",
       "    <tr>\n",
       "      <th>13019</th>\n",
       "      <td>None</td>\n",
       "      <td>RT @dizzle5000: Stan Lee was a prolific creato...</td>\n",
       "    </tr>\n",
       "    <tr>\n",
       "      <th>13020</th>\n",
       "      <td>None</td>\n",
       "      <td>R.i.p. X, but he does not deserve to be in the...</td>\n",
       "    </tr>\n",
       "    <tr>\n",
       "      <th>13021</th>\n",
       "      <td>None</td>\n",
       "      <td>RT @CasablancaRic: @CaptainResists @Prometheus...</td>\n",
       "    </tr>\n",
       "    <tr>\n",
       "      <th>13022</th>\n",
       "      <td>None</td>\n",
       "      <td>RT @dizzle5000: Stan Lee was a prolific creato...</td>\n",
       "    </tr>\n",
       "    <tr>\n",
       "      <th>13023</th>\n",
       "      <td>None</td>\n",
       "      <td>RT @Prometheus_2018: @dizzle5000 @Dolphin_Resi...</td>\n",
       "    </tr>\n",
       "    <tr>\n",
       "      <th>13024</th>\n",
       "      <td>None</td>\n",
       "      <td>RT @e6entric: *Stan Lee creator of Marvel dies...</td>\n",
       "    </tr>\n",
       "    <tr>\n",
       "      <th>13025</th>\n",
       "      <td>None</td>\n",
       "      <td>RT @JewishVoice: “If the recently deceased com...</td>\n",
       "    </tr>\n",
       "    <tr>\n",
       "      <th>13026</th>\n",
       "      <td>None</td>\n",
       "      <td>RT @JewishVoice: “If the recently deceased com...</td>\n",
       "    </tr>\n",
       "    <tr>\n",
       "      <th>13027</th>\n",
       "      <td>None</td>\n",
       "      <td>RT @JewishVoice: “If the recently deceased com...</td>\n",
       "    </tr>\n",
       "  </tbody>\n",
       "</table>\n",
       "<p>11104 rows × 2 columns</p>\n",
       "</div>"
      ],
      "text/plain": [
       "      sentiment                                               text\n",
       "2          None  Enough said - Stan the man Lee https://t.co/zH...\n",
       "3          None  \"RIP in Peace Stan Lee\" from @MiddleUrinalPod ...\n",
       "4          None  RT @SoWizardPodcast: Check out episode 224 of ...\n",
       "5          None  RT @comicsandpanels: Stan Lee and Steve Ditko ...\n",
       "7          None  RT @STAY_mutuals: Gain STAY Mutuals!💕🌻\\n※ rt a...\n",
       "8          None  #StanLeeForever #Remix #EDM #StanLee #marvelco...\n",
       "9          None  Stan Lee Inspired Us All: Celebrate His 95 Yea...\n",
       "12         None  Now for something breathtaking: A new episode ...\n",
       "13         None  RT @BSpodNetwork: Now for something breathtaki...\n",
       "14         None  Rap De Stan Lee EN ESPAÑOL || Frikirap || CriC...\n",
       "15         None  @ZoomTV @wreckitralph - Stan Lee #RalphWithZoo...\n",
       "16         None  RT @fallenkiing: Spiderman fighting Jesus to g...\n",
       "17         None  RT @ChrisEvans: There will never be another St...\n",
       "18         None  RT @MistaPerez: #StanLeeForever #Remix #EDM #S...\n",
       "19         None  RT @salcomicbookpro: #StanLee mural just poppe...\n",
       "20         None  RT @aar7743: Stan Lee's cameo in #Avengers4 sh...\n",
       "21         None  RT @Kellzallday: Yesterday I completed a farew...\n",
       "22         None  RT @shawnwarner629: A Stan Lee memorial mural ...\n",
       "23         None  my birthday wish list:\\ncarbon monoxide scente...\n",
       "25         None  RT @InfinityWarFans: RIP #StanLee, you'll neve...\n",
       "26         None  RT @shawnwarner629: A Stan Lee memorial mural ...\n",
       "27         None  Marvel Studios chief Kevin Feige wrote a tribu...\n",
       "28         None  Kevin Smith Reacts to Bill Maher Taking a Shot...\n",
       "29         None  Marvel Studios chief Kevin Feige recalled his ...\n",
       "30         None  RT @comicsandpanels: Stan Lee, Don Heck, and D...\n",
       "31         None  Marvel Studios chief Kevin Feige wrote a tribu...\n",
       "32         None  RT @shawnwarner629: A Stan Lee memorial mural ...\n",
       "33         None  RT @SurgeOfPower1: RIP Stan Lee and a little a...\n",
       "34         None  @ShinGokaiRed I love marvel and Stan Lee but I...\n",
       "35         None  RT @shawnwarner629: A Stan Lee memorial mural ...\n",
       "...         ...                                                ...\n",
       "12998      None  RT @e6entric: *Stan Lee creator of Marvel dies...\n",
       "12999      None  RT @JewishVoice: “If the recently deceased com...\n",
       "13000      None  RT @CaptainResists: Stan Lee possessed qualiti...\n",
       "13001      None  RT @JewishVoice: “If the recently deceased com...\n",
       "13002      None  RT @JewishVoice: “If the recently deceased com...\n",
       "13003      None  RT @e6entric: *Stan Lee creator of Marvel dies...\n",
       "13004      None  RT @CaptainResists: @dizzle5000 @ShuriResists ...\n",
       "13005      None  RT @MrScottLads: @dizzle5000 @ShuriResists @Do...\n",
       "13006      None  RT @MrScottLads: @dizzle5000 @ShuriResists @Do...\n",
       "13007      None  RT @Prometheus_2018: @dizzle5000 @Dolphin_Resi...\n",
       "13008      None  RT @e6entric: *Stan Lee creator of Marvel dies...\n",
       "13009      None  RT @e6entric: *Stan Lee creator of Marvel dies...\n",
       "13010      None  RT @e6entric: *Stan Lee creator of Marvel dies...\n",
       "13011      None  @dizzle5000 @ShuriResists @DonnaNoble10th @Dol...\n",
       "13012      None  RT @JewishVoice: “If the recently deceased com...\n",
       "13013      None  RT @Prometheus_2018: @dizzle5000 @Dolphin_Resi...\n",
       "13014      None  RT @chrishemsworth: RIP my friend. Thank you f...\n",
       "13015      None  RT @Prometheus_2018: @dizzle5000 @Dolphin_Resi...\n",
       "13016      None  RT @LeslieWeegee: This year, we have lost:\\n\\n...\n",
       "13017      None  RT @e6entric: *Stan Lee creator of Marvel dies...\n",
       "13018      None  RT @dizzle5000: ⏰ It’s time for a Party With P...\n",
       "13019      None  RT @dizzle5000: Stan Lee was a prolific creato...\n",
       "13020      None  R.i.p. X, but he does not deserve to be in the...\n",
       "13021      None  RT @CasablancaRic: @CaptainResists @Prometheus...\n",
       "13022      None  RT @dizzle5000: Stan Lee was a prolific creato...\n",
       "13023      None  RT @Prometheus_2018: @dizzle5000 @Dolphin_Resi...\n",
       "13024      None  RT @e6entric: *Stan Lee creator of Marvel dies...\n",
       "13025      None  RT @JewishVoice: “If the recently deceased com...\n",
       "13026      None  RT @JewishVoice: “If the recently deceased com...\n",
       "13027      None  RT @JewishVoice: “If the recently deceased com...\n",
       "\n",
       "[11104 rows x 2 columns]"
      ]
     },
     "execution_count": 4,
     "metadata": {},
     "output_type": "execute_result"
    }
   ],
   "source": [
    "df_text_lang = pd.DataFrame({'text': tweets['text'], 'lang': tweets['lang'], 'sentiment': None})\n",
    "only_en_tweet = df_text_lang[df_text_lang['lang'].str.contains(\"en\")]\n",
    "only_en_tweet = only_en_tweet.drop('lang',axis=1)\n",
    "only_en_tweet\n"
   ]
  },
  {
   "cell_type": "code",
   "execution_count": 5,
   "metadata": {},
   "outputs": [],
   "source": [
    "from textblob import TextBlob "
   ]
  },
  {
   "cell_type": "code",
   "execution_count": 6,
   "metadata": {},
   "outputs": [],
   "source": [
    "def clean_tweet(tweet): \n",
    "        ''' \n",
    "        Utility function to clean tweet text by removing links, special characters \n",
    "        using simple regex statements. \n",
    "        '''\n",
    "        return ' '.join(re.sub(\"(@[A-Za-z0-9]+)|([^0-9A-Za-z \\t]) |(\\w+:\\/\\/\\S+)\", \" \", tweet).split())"
   ]
  },
  {
   "cell_type": "code",
   "execution_count": 7,
   "metadata": {},
   "outputs": [],
   "source": [
    "def get_tweet_sentiment(tweet): \n",
    "        ''' \n",
    "        Utility function to classify sentiment of passed tweet \n",
    "        using textblob's sentiment method \n",
    "        '''\n",
    "        # create TextBlob object of passed tweet text \n",
    "        analysis = TextBlob(clean_tweet(tweet)) \n",
    "        # set sentiment \n",
    "        if analysis.sentiment.polarity > 0: \n",
    "            return 'positive'\n",
    "        elif analysis.sentiment.polarity == 0: \n",
    "            return 'neutral'\n",
    "        else: \n",
    "            return 'negative'"
   ]
  },
  {
   "cell_type": "code",
   "execution_count": 8,
   "metadata": {},
   "outputs": [],
   "source": [
    "sentiments = []\n",
    "for text in only_en_tweet['text']:\n",
    "    sentiments.append(get_tweet_sentiment(text))\n",
    "\n",
    "numPositiveTweets = sentiments.count('positive')\n",
    "numNegativeTweets = sentiments.count('negative')\n",
    "numNeutralTweets = sentiments.count('neutral')"
   ]
  },
  {
   "cell_type": "code",
   "execution_count": 17,
   "metadata": {},
   "outputs": [
    {
     "name": "stdout",
     "output_type": "stream",
     "text": [
      "3896\n",
      "726\n",
      "6482\n"
     ]
    }
   ],
   "source": [
    "print(numPositiveTweets)\n",
    "print(numNegativeTweets)\n",
    "print(numNeutralTweets)"
   ]
  },
  {
   "cell_type": "code",
   "execution_count": 9,
   "metadata": {},
   "outputs": [
    {
     "data": {
      "text/html": [
       "<div>\n",
       "<style scoped>\n",
       "    .dataframe tbody tr th:only-of-type {\n",
       "        vertical-align: middle;\n",
       "    }\n",
       "\n",
       "    .dataframe tbody tr th {\n",
       "        vertical-align: top;\n",
       "    }\n",
       "\n",
       "    .dataframe thead th {\n",
       "        text-align: right;\n",
       "    }\n",
       "</style>\n",
       "<table border=\"1\" class=\"dataframe\">\n",
       "  <thead>\n",
       "    <tr style=\"text-align: right;\">\n",
       "      <th></th>\n",
       "      <th>sentiment</th>\n",
       "      <th>text</th>\n",
       "    </tr>\n",
       "  </thead>\n",
       "  <tbody>\n",
       "    <tr>\n",
       "      <th>2</th>\n",
       "      <td>neutral</td>\n",
       "      <td>Enough said - Stan the man Lee https://t.co/zH...</td>\n",
       "    </tr>\n",
       "    <tr>\n",
       "      <th>3</th>\n",
       "      <td>positive</td>\n",
       "      <td>\"RIP in Peace Stan Lee\" from @MiddleUrinalPod ...</td>\n",
       "    </tr>\n",
       "    <tr>\n",
       "      <th>4</th>\n",
       "      <td>positive</td>\n",
       "      <td>RT @SoWizardPodcast: Check out episode 224 of ...</td>\n",
       "    </tr>\n",
       "    <tr>\n",
       "      <th>5</th>\n",
       "      <td>neutral</td>\n",
       "      <td>RT @comicsandpanels: Stan Lee and Steve Ditko ...</td>\n",
       "    </tr>\n",
       "    <tr>\n",
       "      <th>7</th>\n",
       "      <td>neutral</td>\n",
       "      <td>RT @STAY_mutuals: Gain STAY Mutuals!💕🌻\\n※ rt a...</td>\n",
       "    </tr>\n",
       "  </tbody>\n",
       "</table>\n",
       "</div>"
      ],
      "text/plain": [
       "  sentiment                                               text\n",
       "2   neutral  Enough said - Stan the man Lee https://t.co/zH...\n",
       "3  positive  \"RIP in Peace Stan Lee\" from @MiddleUrinalPod ...\n",
       "4  positive  RT @SoWizardPodcast: Check out episode 224 of ...\n",
       "5   neutral  RT @comicsandpanels: Stan Lee and Steve Ditko ...\n",
       "7   neutral  RT @STAY_mutuals: Gain STAY Mutuals!💕🌻\\n※ rt a..."
      ]
     },
     "execution_count": 9,
     "metadata": {},
     "output_type": "execute_result"
    }
   ],
   "source": [
    "only_en_tweet['sentiment'] = sentiments\n",
    "\n",
    "only_en_tweet.head(5)"
   ]
  },
  {
   "cell_type": "code",
   "execution_count": 12,
   "metadata": {},
   "outputs": [
    {
     "data": {
      "text/plain": [
       "<matplotlib.axes._subplots.AxesSubplot at 0x1a31bbbc88>"
      ]
     },
     "execution_count": 12,
     "metadata": {},
     "output_type": "execute_result"
    },
    {
     "data": {
      "image/png": "[encoded data removed]",
      "text/plain": [
       "<matplotlib.figure.Figure at 0x1a31c3abe0>"
      ]
     },
     "metadata": {},
     "output_type": "display_data"
    }
   ],
   "source": [
    "tweets_by_sentiment = only_en_tweet['sentiment'].value_counts()\n",
    "\n",
    "fig, ax = plt.subplots()\n",
    "ax.tick_params(axis='x', labelsize=15)\n",
    "ax.tick_params(axis='y', labelsize=10)\n",
    "ax.set_xlabel('Sentiment', fontsize=15)\n",
    "ax.set_ylabel('Number of tweets' , fontsize=15)\n",
    "ax.set_title('Sentiment by TextBlob', fontsize=15, fontweight='bold')\n",
    "tweets_by_sentiment[:5].plot(ax=ax, kind='bar', color='blue')"
   ]
  },
  {
   "cell_type": "markdown",
   "metadata": {},
   "source": [
    "# picking positive tweets from tweets \n",
    "    ptweets = [tweet for tweet in tweets if tweet['sentiment'] == 'positive'] \n",
    "    # percentage of positive tweets \n",
    "    print(\"Positive tweets percentage: {} %\".format(100*len(ptweets)/len(tweets))) \n",
    "    # picking negative tweets from tweets \n",
    "    ntweets = [tweet for tweet in tweets if tweet['sentiment'] == 'negative'] \n",
    "    # percentage of negative tweets \n",
    "    print(\"Negative tweets percentage: {} %\".format(100*len(ntweets)/len(tweets))) \n",
    "    # percentage of neutral tweets \n",
    "    print(\"Neutral tweets percentage: {} % \\ \n",
    "        \".format(100*len(tweets - ntweets - ptweets)/len(tweets))) \n",
    "  \n",
    "    # printing first 5 positive tweets \n",
    "    print(\"\\n\\nPositive tweets:\") \n",
    "    for tweet in ptweets[:10]: \n",
    "        print(tweet['text']) \n",
    "  \n",
    "    # printing first 5 negative tweets \n",
    "    print(\"\\n\\nNegative tweets:\") \n",
    "    for tweet in ntweets[:10]: \n",
    "        print(tweet['text'])"
   ]
  },
  {
   "cell_type": "code",
   "execution_count": 18,
   "metadata": {},
   "outputs": [
    {
     "data": {
      "text/plain": [
       "2     neutral\n",
       "3    positive\n",
       "4    positive\n",
       "5     neutral\n",
       "7     neutral\n",
       "Name: sentiment, dtype: object"
      ]
     },
     "execution_count": 18,
     "metadata": {},
     "output_type": "execute_result"
    }
   ],
   "source": [
    "only_en_tweet['sentiment'].head()"
   ]
  },
  {
   "cell_type": "code",
   "execution_count": 25,
   "metadata": {},
   "outputs": [],
   "source": [
    "Sentiment=pd.get_dummies(only_en_tweet['sentiment'],drop_first= True)"
   ]
  },
  {
   "cell_type": "code",
   "execution_count": 26,
   "metadata": {},
   "outputs": [
    {
     "data": {
      "text/html": [
       "<div>\n",
       "<style scoped>\n",
       "    .dataframe tbody tr th:only-of-type {\n",
       "        vertical-align: middle;\n",
       "    }\n",
       "\n",
       "    .dataframe tbody tr th {\n",
       "        vertical-align: top;\n",
       "    }\n",
       "\n",
       "    .dataframe thead th {\n",
       "        text-align: right;\n",
       "    }\n",
       "</style>\n",
       "<table border=\"1\" class=\"dataframe\">\n",
       "  <thead>\n",
       "    <tr style=\"text-align: right;\">\n",
       "      <th></th>\n",
       "      <th>neutral</th>\n",
       "      <th>positive</th>\n",
       "    </tr>\n",
       "  </thead>\n",
       "  <tbody>\n",
       "    <tr>\n",
       "      <th>2</th>\n",
       "      <td>1</td>\n",
       "      <td>0</td>\n",
       "    </tr>\n",
       "    <tr>\n",
       "      <th>3</th>\n",
       "      <td>0</td>\n",
       "      <td>1</td>\n",
       "    </tr>\n",
       "    <tr>\n",
       "      <th>4</th>\n",
       "      <td>0</td>\n",
       "      <td>1</td>\n",
       "    </tr>\n",
       "    <tr>\n",
       "      <th>5</th>\n",
       "      <td>1</td>\n",
       "      <td>0</td>\n",
       "    </tr>\n",
       "    <tr>\n",
       "      <th>7</th>\n",
       "      <td>1</td>\n",
       "      <td>0</td>\n",
       "    </tr>\n",
       "  </tbody>\n",
       "</table>\n",
       "</div>"
      ],
      "text/plain": [
       "   neutral  positive\n",
       "2        1         0\n",
       "3        0         1\n",
       "4        0         1\n",
       "5        1         0\n",
       "7        1         0"
      ]
     },
     "execution_count": 26,
     "metadata": {},
     "output_type": "execute_result"
    }
   ],
   "source": [
    "Sentiment.head()"
   ]
  },
  {
   "cell_type": "code",
   "execution_count": 28,
   "metadata": {},
   "outputs": [
    {
     "data": {
      "text/html": [
       "<div>\n",
       "<style scoped>\n",
       "    .dataframe tbody tr th:only-of-type {\n",
       "        vertical-align: middle;\n",
       "    }\n",
       "\n",
       "    .dataframe tbody tr th {\n",
       "        vertical-align: top;\n",
       "    }\n",
       "\n",
       "    .dataframe thead th {\n",
       "        text-align: right;\n",
       "    }\n",
       "</style>\n",
       "<table border=\"1\" class=\"dataframe\">\n",
       "  <thead>\n",
       "    <tr style=\"text-align: right;\">\n",
       "      <th></th>\n",
       "      <th>text</th>\n",
       "      <th>positive</th>\n",
       "    </tr>\n",
       "  </thead>\n",
       "  <tbody>\n",
       "    <tr>\n",
       "      <th>2</th>\n",
       "      <td>Enough said - Stan the man Lee https://t.co/zH...</td>\n",
       "      <td>0</td>\n",
       "    </tr>\n",
       "    <tr>\n",
       "      <th>3</th>\n",
       "      <td>\"RIP in Peace Stan Lee\" from @MiddleUrinalPod ...</td>\n",
       "      <td>1</td>\n",
       "    </tr>\n",
       "    <tr>\n",
       "      <th>4</th>\n",
       "      <td>RT @SoWizardPodcast: Check out episode 224 of ...</td>\n",
       "      <td>1</td>\n",
       "    </tr>\n",
       "    <tr>\n",
       "      <th>5</th>\n",
       "      <td>RT @comicsandpanels: Stan Lee and Steve Ditko ...</td>\n",
       "      <td>0</td>\n",
       "    </tr>\n",
       "    <tr>\n",
       "      <th>7</th>\n",
       "      <td>RT @STAY_mutuals: Gain STAY Mutuals!💕🌻\\n※ rt a...</td>\n",
       "      <td>0</td>\n",
       "    </tr>\n",
       "  </tbody>\n",
       "</table>\n",
       "</div>"
      ],
      "text/plain": [
       "                                                text  positive\n",
       "2  Enough said - Stan the man Lee https://t.co/zH...         0\n",
       "3  \"RIP in Peace Stan Lee\" from @MiddleUrinalPod ...         1\n",
       "4  RT @SoWizardPodcast: Check out episode 224 of ...         1\n",
       "5  RT @comicsandpanels: Stan Lee and Steve Ditko ...         0\n",
       "7  RT @STAY_mutuals: Gain STAY Mutuals!💕🌻\\n※ rt a...         0"
      ]
     },
     "execution_count": 28,
     "metadata": {},
     "output_type": "execute_result"
    }
   ],
   "source": [
    "final_study=pd.concat([only_en_tweet.drop(['sentiment'],axis=1),Sentiment['positive']],axis=1)\n",
    "final_study.head()"
   ]
  },
  {
   "cell_type": "code",
   "execution_count": 30,
   "metadata": {},
   "outputs": [],
   "source": [
    "def clean_text(text_train):# applies pre- processing on the given text \n",
    " \n",
    "    text_train = text_train.lower()# converts everything to lower case and splits\n",
    "    text_train=re.sub(r'[\\d,@\\'?\\.$%_()&*#!;:]',\"\", text_train) # replaces punctuation and numbers but keeps spaces, needed for tokens \n",
    "    text_train=re.sub(\"[^a-zA-Z]\", \" \", text_train) # keep only words\n",
    "    text_train=word_tokenize(text_train) # tokenizes - breaks sentenses into words\n",
    "    stopWords = set(stopwords.words('english')) # removes words that lack meaning  \n",
    "    for word in text_train: # removes stopwords\n",
    "        if word in stopWords:\n",
    "            text_train.remove(word)\n",
    "    return text_train"
   ]
  },
  {
   "cell_type": "code",
   "execution_count": 33,
   "metadata": {},
   "outputs": [
    {
     "name": "stdout",
     "output_type": "stream",
     "text": [
      "['enough', 'said', 'stan', 'man', 'lee', 'https', 'tco', 'zh', 'rip', 'peace', 'stan', 'lee', 'middleurinalpod', 'rt', 'sowizardpodcast', 'check', 'episode', 'rt', 'comicsandpanels', 'stan', 'lee', 'steve', 'ditko', 'rt', 'staymutuals', 'gain', 'stay', 'mutuals', 'n', 'rt', 'stanleeforever', 'remix', 'edm', 'stanlee', 'marvelco', 'stan', 'lee', 'inspired', 'us', 'celebrate', 'yea', 'something', 'breathtaking', 'new', 'episode', 'rt', 'bspodnetwork', 'something', 'breathtaki', 'rap']\n"
     ]
    }
   ],
   "source": [
    "cleaned_tweets = clean_text(final_study['text'].to_string())\n",
    "print(cleaned_tweets[:50])"
   ]
  },
  {
   "cell_type": "code",
   "execution_count": 34,
   "metadata": {},
   "outputs": [
    {
     "data": {
      "text/plain": [
       "rt             9441\n",
       "stan           6113\n",
       "lee            5864\n",
       "marvel         3932\n",
       "creator        3833\n",
       "dies           3793\n",
       "eentric        3706\n",
       "the            1443\n",
       "n               996\n",
       "jewishvoice     865\n",
       "dtype: int64"
      ]
     },
     "execution_count": 34,
     "metadata": {},
     "output_type": "execute_result"
    }
   ],
   "source": [
    "freq = pd.Series(' '.join(cleaned_tweets).split()).value_counts()[:10]\n",
    "freq"
   ]
  },
  {
   "cell_type": "code",
   "execution_count": 36,
   "metadata": {},
   "outputs": [],
   "source": [
    "#cleaned_tweets_df=pd.DataFrame(cleaned_tweets)"
   ]
  },
  {
   "cell_type": "code",
   "execution_count": 39,
   "metadata": {},
   "outputs": [],
   "source": [
    "#freq = list(freq.index)\n",
    "#cleaned_tweets_df=cleaned_tweets_df.apply(lambda x: \" \".join(x for x in x.split() if x not in freq))\n",
    "#cleaned_tweets_df.head()"
   ]
  },
  {
   "cell_type": "code",
   "execution_count": 43,
   "metadata": {},
   "outputs": [
    {
     "data": {
      "text/plain": [
       "(70528, 4704)"
      ]
     },
     "execution_count": 43,
     "metadata": {},
     "output_type": "execute_result"
    }
   ],
   "source": [
    "from sklearn.feature_extraction.text import CountVectorizer\n",
    "vect=CountVectorizer()\n",
    "bagofwords=vect.fit_transform(cleaned_tweets).toarray()\n",
    "bagofwords.shape"
   ]
  },
  {
   "cell_type": "code",
   "execution_count": 44,
   "metadata": {},
   "outputs": [
    {
     "data": {
      "text/plain": [
       "array([[0, 0, 0, ..., 0, 0, 0],\n",
       "       [0, 0, 0, ..., 0, 0, 0],\n",
       "       [0, 0, 0, ..., 0, 0, 0],\n",
       "       ...,\n",
       "       [0, 0, 0, ..., 0, 0, 0],\n",
       "       [0, 0, 0, ..., 0, 0, 0],\n",
       "       [0, 0, 0, ..., 0, 0, 0]], dtype=int64)"
      ]
     },
     "execution_count": 44,
     "metadata": {},
     "output_type": "execute_result"
    }
   ],
   "source": [
    "bagofwords"
   ]
  },
  {
   "cell_type": "code",
   "execution_count": 63,
   "metadata": {},
   "outputs": [
    {
     "data": {
      "text/plain": [
       "(11104, 4704)"
      ]
     },
     "execution_count": 63,
     "metadata": {},
     "output_type": "execute_result"
    }
   ],
   "source": [
    "X=pd.DataFrame(bagofwords,columns=vect.get_feature_names())\n",
    "X=X.iloc[:11104]\n",
    "X.shape"
   ]
  },
  {
   "cell_type": "code",
   "execution_count": 64,
   "metadata": {},
   "outputs": [
    {
     "data": {
      "text/html": [
       "<div>\n",
       "<style scoped>\n",
       "    .dataframe tbody tr th:only-of-type {\n",
       "        vertical-align: middle;\n",
       "    }\n",
       "\n",
       "    .dataframe tbody tr th {\n",
       "        vertical-align: top;\n",
       "    }\n",
       "\n",
       "    .dataframe thead th {\n",
       "        text-align: right;\n",
       "    }\n",
       "</style>\n",
       "<table border=\"1\" class=\"dataframe\">\n",
       "  <thead>\n",
       "    <tr style=\"text-align: right;\">\n",
       "      <th></th>\n",
       "      <th>positive</th>\n",
       "    </tr>\n",
       "  </thead>\n",
       "  <tbody>\n",
       "    <tr>\n",
       "      <th>2</th>\n",
       "      <td>0</td>\n",
       "    </tr>\n",
       "    <tr>\n",
       "      <th>3</th>\n",
       "      <td>1</td>\n",
       "    </tr>\n",
       "    <tr>\n",
       "      <th>4</th>\n",
       "      <td>1</td>\n",
       "    </tr>\n",
       "    <tr>\n",
       "      <th>5</th>\n",
       "      <td>0</td>\n",
       "    </tr>\n",
       "    <tr>\n",
       "      <th>7</th>\n",
       "      <td>0</td>\n",
       "    </tr>\n",
       "  </tbody>\n",
       "</table>\n",
       "</div>"
      ],
      "text/plain": [
       "   positive\n",
       "2         0\n",
       "3         1\n",
       "4         1\n",
       "5         0\n",
       "7         0"
      ]
     },
     "execution_count": 64,
     "metadata": {},
     "output_type": "execute_result"
    }
   ],
   "source": [
    "Y=pd.DataFrame(final_study['positive'])\n",
    "Y.head()"
   ]
  },
  {
   "cell_type": "code",
   "execution_count": 65,
   "metadata": {},
   "outputs": [
    {
     "data": {
      "text/plain": [
       "(11104, 1)"
      ]
     },
     "execution_count": 65,
     "metadata": {},
     "output_type": "execute_result"
    }
   ],
   "source": [
    "Y.shape"
   ]
  },
  {
   "cell_type": "code",
   "execution_count": 69,
   "metadata": {},
   "outputs": [],
   "source": [
    "from sklearn.model_selection import train_test_split  \n",
    "X_train, X_test, Y_train, Y_test = train_test_split(X, Y, test_size = 0.20)  "
   ]
  },
  {
   "cell_type": "code",
   "execution_count": 72,
   "metadata": {},
   "outputs": [],
   "source": [
    "from sklearn import metrics\n",
    "#the two naive bayes algorithms\n",
    "from sklearn.naive_bayes import GaussianNB \n",
    "from sklearn.naive_bayes import MultinomialNB"
   ]
  },
  {
   "cell_type": "code",
   "execution_count": 74,
   "metadata": {},
   "outputs": [],
   "source": [
    "algorithm_a=MultinomialNB()"
   ]
  },
  {
   "cell_type": "code",
   "execution_count": 75,
   "metadata": {},
   "outputs": [
    {
     "name": "stderr",
     "output_type": "stream",
     "text": [
      "/anaconda3/lib/python3.6/site-packages/sklearn/utils/validation.py:578: DataConversionWarning: A column-vector y was passed when a 1d array was expected. Please change the shape of y to (n_samples, ), for example using ravel().\n",
      "  y = column_or_1d(y, warn=True)\n"
     ]
    },
    {
     "data": {
      "text/plain": [
       "MultinomialNB(alpha=1.0, class_prior=None, fit_prior=True)"
      ]
     },
     "execution_count": 75,
     "metadata": {},
     "output_type": "execute_result"
    }
   ],
   "source": [
    "algorithm_a.fit(X_train,Y_train)"
   ]
  },
  {
   "cell_type": "code",
   "execution_count": 76,
   "metadata": {},
   "outputs": [],
   "source": [
    "output=algorithm_a.predict(X_test)"
   ]
  },
  {
   "cell_type": "code",
   "execution_count": 77,
   "metadata": {},
   "outputs": [
    {
     "data": {
      "text/plain": [
       "0.6357496623142729"
      ]
     },
     "execution_count": 77,
     "metadata": {},
     "output_type": "execute_result"
    }
   ],
   "source": [
    "metrics.accuracy_score(Y_test,output)"
   ]
  },
  {
   "cell_type": "code",
   "execution_count": 78,
   "metadata": {},
   "outputs": [
    {
     "data": {
      "text/plain": [
       "array([[1378,   53],\n",
       "       [ 756,   34]])"
      ]
     },
     "execution_count": 78,
     "metadata": {},
     "output_type": "execute_result"
    }
   ],
   "source": [
    "metrics.confusion_matrix(Y_test,output)"
   ]
  },
  {
   "cell_type": "code",
   "execution_count": 79,
   "metadata": {},
   "outputs": [],
   "source": [
    "algorithm_b=GaussianNB()"
   ]
  },
  {
   "cell_type": "code",
   "execution_count": 80,
   "metadata": {},
   "outputs": [
    {
     "name": "stderr",
     "output_type": "stream",
     "text": [
      "/anaconda3/lib/python3.6/site-packages/sklearn/utils/validation.py:578: DataConversionWarning: A column-vector y was passed when a 1d array was expected. Please change the shape of y to (n_samples, ), for example using ravel().\n",
      "  y = column_or_1d(y, warn=True)\n"
     ]
    },
    {
     "data": {
      "text/plain": [
       "GaussianNB(priors=None)"
      ]
     },
     "execution_count": 80,
     "metadata": {},
     "output_type": "execute_result"
    }
   ],
   "source": [
    "algorithm_b.fit(X_train,Y_train)"
   ]
  },
  {
   "cell_type": "code",
   "execution_count": 81,
   "metadata": {},
   "outputs": [],
   "source": [
    "output1=algorithm_b.predict(X_test)"
   ]
  },
  {
   "cell_type": "code",
   "execution_count": 82,
   "metadata": {},
   "outputs": [
    {
     "data": {
      "text/plain": [
       "0.36830256641152637"
      ]
     },
     "execution_count": 82,
     "metadata": {},
     "output_type": "execute_result"
    }
   ],
   "source": [
    "metrics.accuracy_score(Y_test,output1)"
   ]
  },
  {
   "cell_type": "code",
   "execution_count": 83,
   "metadata": {},
   "outputs": [
    {
     "data": {
      "text/plain": [
       "array([[  81, 1350],\n",
       "       [  53,  737]])"
      ]
     },
     "execution_count": 83,
     "metadata": {},
     "output_type": "execute_result"
    }
   ],
   "source": [
    "metrics.confusion_matrix(Y_test,output1)"
   ]
  },
  {
   "cell_type": "code",
   "execution_count": null,
   "metadata": {},
   "outputs": [],
   "source": []
  }
 ],
 "metadata": {
  "kernelspec": {
   "display_name": "Python 3",
   "language": "python",
   "name": "python3"
  },
  "language_info": {
   "codemirror_mode": {
    "name": "ipython",
    "version": 3
   },
   "file_extension": ".py",
   "mimetype": "text/x-python",
   "name": "python",
   "nbconvert_exporter": "python",
   "pygments_lexer": "ipython3",
   "version": "3.6.10"
  }
 },
 "nbformat": 4,
 "nbformat_minor": 4
}
