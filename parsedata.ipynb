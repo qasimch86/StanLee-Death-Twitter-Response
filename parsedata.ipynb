{
 "cells": [
  {
   "cell_type": "code",
   "execution_count": 32,
   "metadata": {},
   "outputs": [],
   "source": [
    "import json\n",
    "import pandas as pd\n",
    "import matplotlib.pyplot as plt\n",
    "import re"
   ]
  },
  {
   "cell_type": "code",
   "execution_count": 45,
   "metadata": {},
   "outputs": [],
   "source": [
    "tweets_data_path = 'stanlee.json'\n",
    "\n",
    "tweets_data = []\n",
    "tweets_file = open(tweets_data_path, \"r\")\n",
    "for line in tweets_file:\n",
    "    \n",
    "    try:\n",
    "        tweet = json.loads(line)\n",
    "        tweets_data.append(tweet)\n",
    "    except:\n",
    "        continue"
   ]
  },
  {
   "cell_type": "code",
   "execution_count": 34,
   "metadata": {},
   "outputs": [
    {
     "data": {
      "text/plain": [
       "list"
      ]
     },
     "execution_count": 34,
     "metadata": {},
     "output_type": "execute_result"
    }
   ],
   "source": [
    "type(tweets_data)"
   ]
  },
  {
   "cell_type": "code",
   "execution_count": 35,
   "metadata": {},
   "outputs": [
    {
     "name": "stdout",
     "output_type": "stream",
     "text": [
      "6134\n"
     ]
    }
   ],
   "source": [
    "print (len(tweets_data))"
   ]
  },
  {
   "cell_type": "code",
   "execution_count": 36,
   "metadata": {},
   "outputs": [],
   "source": [
    "def word_in_text(word,tweet):\n",
    "    count=0\n",
    "    for tweet in tweets_data:\n",
    "        #tweet['text'].lower()\n",
    "        match = re.search(word, tweet['text'])\n",
    "        if match:\n",
    "            count = count+1   \n",
    "            #print(tweet['text'])\n",
    "    return count"
   ]
  },
  {
   "cell_type": "code",
   "execution_count": 37,
   "metadata": {},
   "outputs": [
    {
     "data": {
      "text/plain": [
       "123"
      ]
     },
     "execution_count": 37,
     "metadata": {},
     "output_type": "execute_result"
    }
   ],
   "source": [
    "stanlee = word_in_text('stanlee', tweet)\n",
    "stanlee"
   ]
  },
  {
   "cell_type": "code",
   "execution_count": 38,
   "metadata": {},
   "outputs": [
    {
     "data": {
      "text/plain": [
       "816"
      ]
     },
     "execution_count": 38,
     "metadata": {},
     "output_type": "execute_result"
    }
   ],
   "source": [
    "hashtagstanlee = word_in_text('#StanLee', tweet)\n",
    "hashtagstanlee"
   ]
  },
  {
   "cell_type": "code",
   "execution_count": 39,
   "metadata": {},
   "outputs": [
    {
     "data": {
      "text/plain": [
       "3658"
      ]
     },
     "execution_count": 39,
     "metadata": {},
     "output_type": "execute_result"
    }
   ],
   "source": [
    "Stan_Lee = word_in_text('Stan Lee', tweet)\n",
    "Stan_Lee"
   ]
  },
  {
   "cell_type": "code",
   "execution_count": 40,
   "metadata": {},
   "outputs": [
    {
     "data": {
      "text/plain": [
       "2"
      ]
     },
     "execution_count": 40,
     "metadata": {},
     "output_type": "execute_result"
    }
   ],
   "source": [
    "STANLEE = word_in_text('STANLEE', tweet)\n",
    "STANLEE"
   ]
  },
  {
   "cell_type": "code",
   "execution_count": 41,
   "metadata": {},
   "outputs": [
    {
     "data": {
      "text/plain": [
       "169"
      ]
     },
     "execution_count": 41,
     "metadata": {},
     "output_type": "execute_result"
    }
   ],
   "source": [
    "STAN_LEE = word_in_text('STAN LEE', tweet)\n",
    "STAN_LEE"
   ]
  },
  {
   "cell_type": "code",
   "execution_count": 42,
   "metadata": {},
   "outputs": [
    {
     "data": {
      "text/plain": [
       "2"
      ]
     },
     "execution_count": 42,
     "metadata": {},
     "output_type": "execute_result"
    }
   ],
   "source": [
    "hashtagSTANLEE = word_in_text('STANLEE', tweet)\n",
    "hashtagSTANLEE"
   ]
  },
  {
   "cell_type": "code",
   "execution_count": 43,
   "metadata": {},
   "outputs": [
    {
     "data": {
      "image/png": "[encoded data removed]",
      "text/plain": [
       "<Figure size 432x288 with 1 Axes>"
      ]
     },
     "metadata": {},
     "output_type": "display_data"
    }
   ],
   "source": [
    "#prg_langs = ['python', 'javascript']\n",
    "prg_langs = ['stanlee', '#StanLee', 'Stan Lee', 'STANLEE', 'STAN LEE', '#STANLEE']\n",
    "tweets_by_prg_lang = [stanlee, hashtagstanlee, Stan_Lee, STANLEE, STAN_LEE, hashtagSTANLEE]\n",
    "#tweets_by_prg_lang = [python, javascriptcounter]\n",
    "\n",
    "x_pos = list(range(len(prg_langs)))\n",
    "width = 0.8\n",
    "fig, ax = plt.subplots()\n",
    "plt.bar(x_pos, tweets_by_prg_lang, width, alpha=1, color='g')\n",
    "\n",
    "# Setting axis labels and ticks\n",
    "ax.set_ylabel('Number of tweets', fontsize=15)\n",
    "ax.set_title('Ranking: python vs. javascript', fontsize=10, fontweight='bold')\n",
    "ax.set_xticks([p + 0.4 * width for p in x_pos])\n",
    "ax.set_xticklabels(prg_langs)\n",
    "plt.grid()"
   ]
  },
  {
   "cell_type": "code",
   "execution_count": 13,
   "metadata": {},
   "outputs": [],
   "source": [
    "tweets = pd.DataFrame()"
   ]
  },
  {
   "cell_type": "code",
   "execution_count": 24,
   "metadata": {},
   "outputs": [],
   "source": [
    "#tweets['text'] = map(lambda tweet: tweet['text'], tweets_data)\n",
    "#tweets['lang'] = map(lambda tweet: tweet['lang'], tweets_data)\n",
    "#tweets['country'] = map(lambda tweet: tweet['place']['country'] if tweet['place'] != None else None, tweets_data)\n",
    "\n",
    "tweets['text'] = [tweet.get('text','') for tweet in tweets_data]\n",
    "tweets['lang'] = [tweet.get('lang','') for tweet in tweets_data]"
   ]
  },
  {
   "cell_type": "code",
   "execution_count": 25,
   "metadata": {},
   "outputs": [
    {
     "name": "stdout",
     "output_type": "stream",
     "text": [
      "                                                   text lang  \\\n",
      "0     RT @IndirectaVip: Aún sigo pensando en ti Stan...   es   \n",
      "1     RT @AvatarTorna: * No soy profeta, pero creo q...   es   \n",
      "2     Enough said - Stan the man Lee https://t.co/zH...   en   \n",
      "3     \"RIP in Peace Stan Lee\" from @MiddleUrinalPod ...   en   \n",
      "4     RT @SoWizardPodcast: Check out episode 224 of ...   en   \n",
      "5     RT @comicsandpanels: Stan Lee and Steve Ditko ...   en   \n",
      "6     RT @mimundoalex: Adios Stan Lee, te inmortaliz...   es   \n",
      "7     RT @STAY_mutuals: Gain STAY Mutuals!💕🌻\\n※ rt a...   en   \n",
      "8     #StanLeeForever #Remix #EDM #StanLee #marvelco...   en   \n",
      "9     Stan Lee Inspired Us All: Celebrate His 95 Yea...   en   \n",
      "10    Stan Lee ganha mural pintado em sua homenagem ...   pt   \n",
      "11    7/8 Retomamos como homenaje a #StanLee los cas...   es   \n",
      "12    Now for something breathtaking: A new episode ...   en   \n",
      "13    RT @BSpodNetwork: Now for something breathtaki...   en   \n",
      "14    Rap De Stan Lee EN ESPAÑOL || Frikirap || CriC...   en   \n",
      "15    @ZoomTV @wreckitralph - Stan Lee #RalphWithZoo...   en   \n",
      "16    RT @fallenkiing: Spiderman fighting Jesus to g...   en   \n",
      "17    RT @ChrisEvans: There will never be another St...   en   \n",
      "18    RT @MistaPerez: #StanLeeForever #Remix #EDM #S...   en   \n",
      "19    RT @salcomicbookpro: #StanLee mural just poppe...   en   \n",
      "20    RT @aar7743: Stan Lee's cameo in #Avengers4 sh...   en   \n",
      "21    RT @Kellzallday: Yesterday I completed a farew...   en   \n",
      "22    RT @shawnwarner629: A Stan Lee memorial mural ...   en   \n",
      "23    my birthday wish list:\\ncarbon monoxide scente...   en   \n",
      "24    RT @asikoh009: スタン・リー先生、沢山の夢と希望とヒーローを有り難うございまし...   ja   \n",
      "25    RT @InfinityWarFans: RIP #StanLee, you'll neve...   en   \n",
      "26    RT @shawnwarner629: A Stan Lee memorial mural ...   en   \n",
      "27    Marvel Studios chief Kevin Feige wrote a tribu...   en   \n",
      "28    Kevin Smith Reacts to Bill Maher Taking a Shot...   en   \n",
      "29    Marvel Studios chief Kevin Feige recalled his ...   en   \n",
      "...                                                 ...  ...   \n",
      "4489  RT @soybienserio: - No me quiero ir señor star...   es   \n",
      "4490  RT @soybienserio: - No me quiero ir señor star...   es   \n",
      "4491  @DarthCass125 Theyve decided to sell autograph...   en   \n",
      "4492  RT @Thai_SuperHero: #RalphBreaksTheInternet เอ...   th   \n",
      "4493  RT @Marvel_TH: เมื่อ Stan Lee ถึงประตูสวรรค์ \\...   th   \n",
      "4494  Give us something, Marvel. Stan Lee commands you!   en   \n",
      "4495  RT @Marvel_TH: เมื่อ Stan Lee ถึงประตูสวรรค์ \\...   th   \n",
      "4496  @MarvelChampions After years of playing this g...   en   \n",
      "4497  RT @_xbrxxxs_: \"Stan Lee falleció\"\\n\\n\"Stan Le...   es   \n",
      "4498  RT @ThatAshleyErin: What do Monty Python, #Sta...   en   \n",
      "4499  Tribute: Remembering Marvel Comics' Stan Lee -...   en   \n",
      "4500  RT @STAY_mutuals: Gain STAY Mutuals!☁🌻\\n※ rt a...   en   \n",
      "4501  RT @AbRazaq: RIP Stan Lee. \\nYour unique brand...   en   \n",
      "4502  RT @TheRealStanLee: The next Stan Lee tribute ...   en   \n",
      "4503  RT @TheRealStanLee: The next Stan Lee tribute ...   en   \n",
      "4504  Stan Lee deserved his own commemorative issue ...   en   \n",
      "4505  RT @beat4people: #Spiderman : la historia y lo...   es   \n",
      "4506  \"when another cameo by Stan Lee\" T_T\\n#MarvelF...   en   \n",
      "4507  RT @RafaNietoLoaiza: ¿Marvel sin Stan Lee? Hul...   es   \n",
      "4508  @Plipster Bob is a rollercoaster. One day he m...   en   \n",
      "4509  #Breaking #in #memoriam Stan Lee #stanlee #mar...   en   \n",
      "4510  RT @STAY_mutuals: Gain STAY Mutuals!💕🌻\\n※ rt a...   en   \n",
      "4511  RT @ManaByte: No because that's too late for t...   en   \n",
      "4512  RT @PauliConU: Ay Stan Lee por qué te fuiste s...   es   \n",
      "4513  RT @PauliConU: Ay Stan Lee por qué te fuiste s...   es   \n",
      "4514  Cgi stan lee is the strongest character in the...   en   \n",
      "4515  The Top 5 BEST Marvel Movies | Was Stan Lee ah...   en   \n",
      "4516  RT @shawnwarner629: A Stan Lee memorial mural ...   en   \n",
      "4517  RT @mxdelalande: Second #DisneyXD #ident where...   en   \n",
      "4518  RT @Entrepreneur: What Entrepreneurs Can Learn...   en   \n",
      "\n",
      "                                 country  \n",
      "0     <map object at 0x000001A9E9275780>  \n",
      "1     <map object at 0x000001A9E9275780>  \n",
      "2     <map object at 0x000001A9E9275780>  \n",
      "3     <map object at 0x000001A9E9275780>  \n",
      "4     <map object at 0x000001A9E9275780>  \n",
      "5     <map object at 0x000001A9E9275780>  \n",
      "6     <map object at 0x000001A9E9275780>  \n",
      "7     <map object at 0x000001A9E9275780>  \n",
      "8     <map object at 0x000001A9E9275780>  \n",
      "9     <map object at 0x000001A9E9275780>  \n",
      "10    <map object at 0x000001A9E9275780>  \n",
      "11    <map object at 0x000001A9E9275780>  \n",
      "12    <map object at 0x000001A9E9275780>  \n",
      "13    <map object at 0x000001A9E9275780>  \n",
      "14    <map object at 0x000001A9E9275780>  \n",
      "15    <map object at 0x000001A9E9275780>  \n",
      "16    <map object at 0x000001A9E9275780>  \n",
      "17    <map object at 0x000001A9E9275780>  \n",
      "18    <map object at 0x000001A9E9275780>  \n",
      "19    <map object at 0x000001A9E9275780>  \n",
      "20    <map object at 0x000001A9E9275780>  \n",
      "21    <map object at 0x000001A9E9275780>  \n",
      "22    <map object at 0x000001A9E9275780>  \n",
      "23    <map object at 0x000001A9E9275780>  \n",
      "24    <map object at 0x000001A9E9275780>  \n",
      "25    <map object at 0x000001A9E9275780>  \n",
      "26    <map object at 0x000001A9E9275780>  \n",
      "27    <map object at 0x000001A9E9275780>  \n",
      "28    <map object at 0x000001A9E9275780>  \n",
      "29    <map object at 0x000001A9E9275780>  \n",
      "...                                  ...  \n",
      "4489  <map object at 0x000001A9E9275780>  \n",
      "4490  <map object at 0x000001A9E9275780>  \n",
      "4491  <map object at 0x000001A9E9275780>  \n",
      "4492  <map object at 0x000001A9E9275780>  \n",
      "4493  <map object at 0x000001A9E9275780>  \n",
      "4494  <map object at 0x000001A9E9275780>  \n",
      "4495  <map object at 0x000001A9E9275780>  \n",
      "4496  <map object at 0x000001A9E9275780>  \n",
      "4497  <map object at 0x000001A9E9275780>  \n",
      "4498  <map object at 0x000001A9E9275780>  \n",
      "4499  <map object at 0x000001A9E9275780>  \n",
      "4500  <map object at 0x000001A9E9275780>  \n",
      "4501  <map object at 0x000001A9E9275780>  \n",
      "4502  <map object at 0x000001A9E9275780>  \n",
      "4503  <map object at 0x000001A9E9275780>  \n",
      "4504  <map object at 0x000001A9E9275780>  \n",
      "4505  <map object at 0x000001A9E9275780>  \n",
      "4506  <map object at 0x000001A9E9275780>  \n",
      "4507  <map object at 0x000001A9E9275780>  \n",
      "4508  <map object at 0x000001A9E9275780>  \n",
      "4509  <map object at 0x000001A9E9275780>  \n",
      "4510  <map object at 0x000001A9E9275780>  \n",
      "4511  <map object at 0x000001A9E9275780>  \n",
      "4512  <map object at 0x000001A9E9275780>  \n",
      "4513  <map object at 0x000001A9E9275780>  \n",
      "4514  <map object at 0x000001A9E9275780>  \n",
      "4515  <map object at 0x000001A9E9275780>  \n",
      "4516  <map object at 0x000001A9E9275780>  \n",
      "4517  <map object at 0x000001A9E9275780>  \n",
      "4518  <map object at 0x000001A9E9275780>  \n",
      "\n",
      "[4519 rows x 3 columns]\n"
     ]
    }
   ],
   "source": [
    "print(tweets)"
   ]
  },
  {
   "cell_type": "code",
   "execution_count": 26,
   "metadata": {},
   "outputs": [
    {
     "name": "stdout",
     "output_type": "stream",
     "text": [
      "en     3443\n",
      "es      520\n",
      "pt      139\n",
      "und      87\n",
      "ar       77\n",
      "th       66\n",
      "fr       50\n",
      "in       23\n",
      "it       22\n",
      "ja       17\n",
      "tl       17\n",
      "ht       12\n",
      "tr       11\n",
      "nl        9\n",
      "cs        3\n",
      "hi        3\n",
      "da        2\n",
      "sl        2\n",
      "zh        2\n",
      "pl        2\n",
      "de        2\n",
      "sv        2\n",
      "ca        2\n",
      "ru        1\n",
      "ro        1\n",
      "fa        1\n",
      "hu        1\n",
      "et        1\n",
      "cy        1\n",
      "Name: lang, dtype: int64\n"
     ]
    }
   ],
   "source": [
    "tweets_by_lang = tweets['lang'].value_counts()\n",
    "\n",
    "print(tweets_by_lang)"
   ]
  },
  {
   "cell_type": "code",
   "execution_count": 27,
   "metadata": {},
   "outputs": [
    {
     "data": {
      "text/plain": [
       "<matplotlib.axes._subplots.AxesSubplot at 0x1a9ea33e048>"
      ]
     },
     "execution_count": 27,
     "metadata": {},
     "output_type": "execute_result"
    },
    {
     "data": {
      "image/png": "[encoded data removed]",
      "text/plain": [
       "<Figure size 432x288 with 1 Axes>"
      ]
     },
     "metadata": {},
     "output_type": "display_data"
    }
   ],
   "source": [
    "tweets_by_lang = tweets['lang'].value_counts()\n",
    "\n",
    "fig, ax = plt.subplots()\n",
    "ax.tick_params(axis='x', labelsize=15)\n",
    "ax.tick_params(axis='y', labelsize=10)\n",
    "ax.set_xlabel('Languages', fontsize=15)\n",
    "ax.set_ylabel('Number of tweets' , fontsize=15)\n",
    "ax.set_title('Top 5 languages', fontsize=15, fontweight='bold')\n",
    "#tweets_by_lang[:5].plot(ax=ax, kind='bar', color='red')\n",
    "tweets_by_lang.plot(ax=ax, kind='bar', color='red')"
   ]
  },
  {
   "cell_type": "code",
   "execution_count": null,
   "metadata": {},
   "outputs": [],
   "source": []
  }
 ],
 "metadata": {
  "kernelspec": {
   "display_name": "Python 3",
   "language": "python",
   "name": "python3"
  },
  "language_info": {
   "codemirror_mode": {
    "name": "ipython",
    "version": 3
   },
   "file_extension": ".py",
   "mimetype": "text/x-python",
   "name": "python",
   "nbconvert_exporter": "python",
   "pygments_lexer": "ipython3",
   "version": "3.5.5"
  }
 },
 "nbformat": 4,
 "nbformat_minor": 2
}
