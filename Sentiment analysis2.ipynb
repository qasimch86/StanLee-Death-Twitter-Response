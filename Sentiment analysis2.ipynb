{
 "cells": [
  {
   "cell_type": "code",
   "execution_count": 1,
   "metadata": {},
   "outputs": [
    {
     "name": "stdout",
     "output_type": "stream",
     "text": [
      "13028\n"
     ]
    }
   ],
   "source": [
    "import json\n",
    "import pandas as pd\n",
    "import matplotlib.pyplot as plt\n",
    "from nltk.tokenize import word_tokenize\n",
    "from nltk.corpus import stopwords\n",
    "\n",
    "tweets_data_path = 'stanlee.json'\n",
    "# tweets_data_path = 'stanlee.json'\n",
    "tweets_data = []\n",
    "tweets_file = open(tweets_data_path, \"r\")\n",
    "tweets= pd.DataFrame()\n",
    "#  json Python library to parse the data, and read the data into an array. \n",
    "for line in tweets_file:\n",
    "    try:\n",
    "        tweet = json.loads(line)\n",
    "        tweets_data.append(tweet)\n",
    "    except:\n",
    "        continue\n",
    "\n",
    "tweets['text'] = list(map(lambda tweet: tweet['text'], tweets_data))\n",
    "tweets['lang'] = list(map(lambda tweet: tweet['lang'], tweets_data))\n",
    "\n",
    "print(len(tweets))\n"
   ]
  },
  {
   "cell_type": "code",
   "execution_count": 2,
   "metadata": {},
   "outputs": [],
   "source": [
    "import re\n",
    "def word_in_text(word,tweet):\n",
    "    count=0\n",
    "    for tweet in tweets_data:\n",
    "        #tweet['text'].lower()\n",
    "        match = re.search(word, tweet['text'])\n",
    "        if match:\n",
    "            count = count+1   \n",
    "            #print(tweet['text'])\n",
    "    return count"
   ]
  },
  {
   "cell_type": "code",
   "execution_count": 3,
   "metadata": {},
   "outputs": [],
   "source": [
    "stanlee = word_in_text('stanlee', tweet)\n",
    "hashtagstanlee = word_in_text('#StanLee', tweet)\n",
    "Stan_Lee = word_in_text('Stan Lee', tweet)\n",
    "STANLEE = word_in_text('STANLEE', tweet)\n",
    "STAN_LEE = word_in_text('STAN LEE', tweet)\n",
    "hashtagSTANLEE = word_in_text('#STANLEE', tweet)\n"
   ]
  },
  {
   "cell_type": "code",
   "execution_count": 4,
   "metadata": {},
   "outputs": [],
   "source": [
    "df_text_lang = pd.DataFrame({'text': tweets['text'], 'lang': tweets['lang'], 'sentiment': None})\n",
    "only_en_tweet = df_text_lang[df_text_lang['lang'].str.contains(\"en\")]\n",
    "only_en_tweet = only_en_tweet.drop('lang',axis=1)\n",
    "#only_en_tweet\n"
   ]
  },
  {
   "cell_type": "code",
   "execution_count": 5,
   "metadata": {},
   "outputs": [],
   "source": [
    "from textblob import TextBlob "
   ]
  },
  {
   "cell_type": "code",
   "execution_count": 6,
   "metadata": {},
   "outputs": [],
   "source": [
    "def clean_tweet(tweet): \n",
    "        ''' \n",
    "        Utility function to clean tweet text by removing links, special characters \n",
    "        using simple regex statements. \n",
    "        '''\n",
    "        return ' '.join(re.sub(\"(@[A-Za-z0-9]+)|([^0-9A-Za-z \\t]) |(\\w+:\\/\\/\\S+)\", \" \", tweet).split())"
   ]
  },
  {
   "cell_type": "code",
   "execution_count": 7,
   "metadata": {},
   "outputs": [],
   "source": [
    "def get_tweet_sentiment(tweet): \n",
    "        ''' \n",
    "        Utility function to classify sentiment of passed tweet \n",
    "        using textblob's sentiment method \n",
    "        '''\n",
    "        # create TextBlob object of passed tweet text \n",
    "        analysis = TextBlob(clean_tweet(tweet)) \n",
    "        # set sentiment \n",
    "        if analysis.sentiment.polarity > 0: \n",
    "            return 'positive'\n",
    "        elif analysis.sentiment.polarity == 0: \n",
    "            return 'neutral'\n",
    "        else: \n",
    "            return 'negative'"
   ]
  },
  {
   "cell_type": "code",
   "execution_count": 8,
   "metadata": {},
   "outputs": [],
   "source": [
    "sentiments = []\n",
    "for text in only_en_tweet['text']:\n",
    "    sentiments.append(get_tweet_sentiment(text))\n",
    "\n",
    "numPositiveTweets = sentiments.count('positive')\n",
    "numNegativeTweets = sentiments.count('negative')\n",
    "numNeutralTweets = sentiments.count('neutral')"
   ]
  },
  {
   "cell_type": "code",
   "execution_count": 9,
   "metadata": {},
   "outputs": [
    {
     "name": "stdout",
     "output_type": "stream",
     "text": [
      "3896\n",
      "726\n",
      "6482\n"
     ]
    }
   ],
   "source": [
    "print(numPositiveTweets)\n",
    "print(numNegativeTweets)\n",
    "print(numNeutralTweets)"
   ]
  },
  {
   "cell_type": "code",
   "execution_count": 10,
   "metadata": {},
   "outputs": [
    {
     "data": {
      "text/html": [
       "<div>\n",
       "<style scoped>\n",
       "    .dataframe tbody tr th:only-of-type {\n",
       "        vertical-align: middle;\n",
       "    }\n",
       "\n",
       "    .dataframe tbody tr th {\n",
       "        vertical-align: top;\n",
       "    }\n",
       "\n",
       "    .dataframe thead th {\n",
       "        text-align: right;\n",
       "    }\n",
       "</style>\n",
       "<table border=\"1\" class=\"dataframe\">\n",
       "  <thead>\n",
       "    <tr style=\"text-align: right;\">\n",
       "      <th></th>\n",
       "      <th>sentiment</th>\n",
       "      <th>text</th>\n",
       "    </tr>\n",
       "  </thead>\n",
       "  <tbody>\n",
       "    <tr>\n",
       "      <th>2</th>\n",
       "      <td>neutral</td>\n",
       "      <td>Enough said - Stan the man Lee https://t.co/zH...</td>\n",
       "    </tr>\n",
       "    <tr>\n",
       "      <th>3</th>\n",
       "      <td>positive</td>\n",
       "      <td>\"RIP in Peace Stan Lee\" from @MiddleUrinalPod ...</td>\n",
       "    </tr>\n",
       "    <tr>\n",
       "      <th>4</th>\n",
       "      <td>positive</td>\n",
       "      <td>RT @SoWizardPodcast: Check out episode 224 of ...</td>\n",
       "    </tr>\n",
       "    <tr>\n",
       "      <th>5</th>\n",
       "      <td>neutral</td>\n",
       "      <td>RT @comicsandpanels: Stan Lee and Steve Ditko ...</td>\n",
       "    </tr>\n",
       "    <tr>\n",
       "      <th>7</th>\n",
       "      <td>neutral</td>\n",
       "      <td>RT @STAY_mutuals: Gain STAY Mutuals!💕🌻\\n※ rt a...</td>\n",
       "    </tr>\n",
       "  </tbody>\n",
       "</table>\n",
       "</div>"
      ],
      "text/plain": [
       "  sentiment                                               text\n",
       "2   neutral  Enough said - Stan the man Lee https://t.co/zH...\n",
       "3  positive  \"RIP in Peace Stan Lee\" from @MiddleUrinalPod ...\n",
       "4  positive  RT @SoWizardPodcast: Check out episode 224 of ...\n",
       "5   neutral  RT @comicsandpanels: Stan Lee and Steve Ditko ...\n",
       "7   neutral  RT @STAY_mutuals: Gain STAY Mutuals!💕🌻\\n※ rt a..."
      ]
     },
     "execution_count": 10,
     "metadata": {},
     "output_type": "execute_result"
    }
   ],
   "source": [
    "only_en_tweet['sentiment'] = sentiments\n",
    "\n",
    "only_en_tweet.head(5)"
   ]
  },
  {
   "cell_type": "code",
   "execution_count": 11,
   "metadata": {},
   "outputs": [
    {
     "data": {
      "text/plain": [
       "<matplotlib.axes._subplots.AxesSubplot at 0x1a23178320>"
      ]
     },
     "execution_count": 11,
     "metadata": {},
     "output_type": "execute_result"
    },
    {
     "data": {
      "image/png": "[encoded data removed]",
      "text/plain": [
       "<matplotlib.figure.Figure at 0x1a231871d0>"
      ]
     },
     "metadata": {},
     "output_type": "display_data"
    }
   ],
   "source": [
    "tweets_by_sentiment = only_en_tweet['sentiment'].value_counts()\n",
    "\n",
    "fig, ax = plt.subplots()\n",
    "ax.tick_params(axis='x', labelsize=15)\n",
    "ax.tick_params(axis='y', labelsize=10)\n",
    "ax.set_xlabel('Sentiment', fontsize=15)\n",
    "ax.set_ylabel('Number of tweets' , fontsize=15)\n",
    "ax.set_title('Sentiment by TextBlob', fontsize=15, fontweight='bold')\n",
    "tweets_by_sentiment[:5].plot(ax=ax, kind='bar', color='blue')"
   ]
  },
  {
   "cell_type": "code",
   "execution_count": 12,
   "metadata": {},
   "outputs": [],
   "source": [
    "def clean_text(text_train):# applies pre- processing on the given text \n",
    " \n",
    "    text_train = text_train.lower()# converts everything to lower case and splits\n",
    "    text_train = re.sub(r'[\\d,@\\'?\\.$%_()&*#!;:]',\"\", text_train) # replaces punctuation and numbers but keeps spaces, needed for tokens \n",
    "    text_train = re.sub(\"[^a-zA-Z]\", \"\", text_train) # keep only words\n",
    "    #text_train=word_tokenize(text_train) # tokenizes - breaks sentenses into words\n",
    "    stopWords = set(stopwords.words('english')) # removes words that lack meaning  \n",
    "    for word in text_train: # removes stopwords\n",
    "        if word in stopWords:\n",
    "            text_train.remove(word)\n",
    "    return text_train"
   ]
  },
  {
   "cell_type": "code",
   "execution_count": 13,
   "metadata": {},
   "outputs": [
    {
     "data": {
      "text/plain": [
       "'Enough said - Stan the man Lee https://t.co/zHTLFsJ2vw'"
      ]
     },
     "execution_count": 13,
     "metadata": {},
     "output_type": "execute_result"
    }
   ],
   "source": [
    "only_en_tweet['text'].iloc[0]"
   ]
  },
  {
   "cell_type": "code",
   "execution_count": 14,
   "metadata": {},
   "outputs": [
    {
     "data": {
      "text/html": [
       "<div>\n",
       "<style scoped>\n",
       "    .dataframe tbody tr th:only-of-type {\n",
       "        vertical-align: middle;\n",
       "    }\n",
       "\n",
       "    .dataframe tbody tr th {\n",
       "        vertical-align: top;\n",
       "    }\n",
       "\n",
       "    .dataframe thead th {\n",
       "        text-align: right;\n",
       "    }\n",
       "</style>\n",
       "<table border=\"1\" class=\"dataframe\">\n",
       "  <thead>\n",
       "    <tr style=\"text-align: right;\">\n",
       "      <th></th>\n",
       "      <th>sentiment</th>\n",
       "      <th>text</th>\n",
       "    </tr>\n",
       "  </thead>\n",
       "  <tbody>\n",
       "    <tr>\n",
       "      <th>2</th>\n",
       "      <td>neutral</td>\n",
       "      <td>enough said stan man lee httpstcozhtlfsjvw</td>\n",
       "    </tr>\n",
       "    <tr>\n",
       "      <th>3</th>\n",
       "      <td>positive</td>\n",
       "      <td>rip peace stan lee middleurinalpod sound amazi...</td>\n",
       "    </tr>\n",
       "    <tr>\n",
       "      <th>4</th>\n",
       "      <td>positive</td>\n",
       "      <td>rt sowizardpodcast check episode podcast gathe...</td>\n",
       "    </tr>\n",
       "    <tr>\n",
       "      <th>5</th>\n",
       "      <td>neutral</td>\n",
       "      <td>rt comicsandpanels stan lee steve ditko httpst...</td>\n",
       "    </tr>\n",
       "    <tr>\n",
       "      <th>7</th>\n",
       "      <td>neutral</td>\n",
       "      <td>rt stay_mutuals gain stay mutuals rt follow ev...</td>\n",
       "    </tr>\n",
       "  </tbody>\n",
       "</table>\n",
       "</div>"
      ],
      "text/plain": [
       "  sentiment                                               text\n",
       "2   neutral         enough said stan man lee httpstcozhtlfsjvw\n",
       "3  positive  rip peace stan lee middleurinalpod sound amazi...\n",
       "4  positive  rt sowizardpodcast check episode podcast gathe...\n",
       "5   neutral  rt comicsandpanels stan lee steve ditko httpst...\n",
       "7   neutral  rt stay_mutuals gain stay mutuals rt follow ev..."
      ]
     },
     "execution_count": 14,
     "metadata": {},
     "output_type": "execute_result"
    }
   ],
   "source": [
    "only_en_tweet['text'] = only_en_tweet['text'].apply(lambda x: \" \".join(x.lower() for x in x.split()))\n",
    "only_en_tweet['text'] = only_en_tweet['text'].str.replace('[^\\w\\s]','')\n",
    "only_en_tweet['text'] = only_en_tweet['text'].str.replace('[0-9]','')\n",
    "stop = stopwords.words('english')\n",
    "only_en_tweet['text'] = only_en_tweet['text'].apply(lambda x: \" \".join(x for x in x.split() if x not in stop))\n",
    "only_en_tweet.head(5)"
   ]
  },
  {
   "cell_type": "code",
   "execution_count": 15,
   "metadata": {},
   "outputs": [
    {
     "data": {
      "text/plain": [
       "rt               9646\n",
       "stan             9225\n",
       "lee              8653\n",
       "creator          7659\n",
       "dies             7530\n",
       "marvel           4561\n",
       "spongebob        3908\n",
       "weeks            3737\n",
       "later            3723\n",
       "eentric          3706\n",
       "httpstcopexlg    3706\n",
       "stephen          1296\n",
       "new              1153\n",
       "kid              1026\n",
       "comic             984\n",
       "book              964\n",
       "ever              898\n",
       "create            889\n",
       "genius            886\n",
       "wanted            885\n",
       "jewish            873\n",
       "recently          866\n",
       "jewishvoice       865\n",
       "york              864\n",
       "deceased          863\n",
       "superheroine      862\n",
       "stanlee           760\n",
       "hillenburg        716\n",
       "really            703\n",
       "th                669\n",
       "dtype: int64"
      ]
     },
     "execution_count": 15,
     "metadata": {},
     "output_type": "execute_result"
    }
   ],
   "source": [
    "freq = pd.Series(' '.join(only_en_tweet['text']).split()).value_counts()[:30]\n",
    "freq"
   ]
  },
  {
   "cell_type": "code",
   "execution_count": 16,
   "metadata": {},
   "outputs": [],
   "source": [
    "top10words = list(freq.index)\n",
    "only_en_tweet['text'] = only_en_tweet['text'].apply(lambda x: \" \".join(x for x in x.split() if x not in top10words))\n"
   ]
  },
  {
   "cell_type": "code",
   "execution_count": 17,
   "metadata": {},
   "outputs": [
    {
     "data": {
      "text/plain": [
       "alpobg                1\n",
       "httpstcogstvqrq       1\n",
       "httpstcoqemoofssg     1\n",
       "yip                   1\n",
       "boundingcomics        1\n",
       "httpstcoqcujcbwr      1\n",
       "zodia                 1\n",
       "themarysue            1\n",
       "httpstcoomzqvlsi      1\n",
       "httpstcoonfckdzymo    1\n",
       "dtype: int64"
      ]
     },
     "execution_count": 17,
     "metadata": {},
     "output_type": "execute_result"
    }
   ],
   "source": [
    "bottomWords = pd.Series(' '.join(only_en_tweet['text']).split()).value_counts()[-2000:]\n",
    "bottomWords[:10]"
   ]
  },
  {
   "cell_type": "code",
   "execution_count": 18,
   "metadata": {},
   "outputs": [],
   "source": [
    "only_en_tweet['text'] = only_en_tweet['text'].apply(lambda x: \" \".join(x for x in x.split() if x not in bottomWords))"
   ]
  },
  {
   "cell_type": "code",
   "execution_count": 19,
   "metadata": {},
   "outputs": [
    {
     "data": {
      "text/plain": [
       "2                    enough said man httpstcozhtlfsjvw\n",
       "3    rip peace middleurinalpod sound amazing doesn ...\n",
       "4    sowizardpodcast check episode podcast gather r...\n",
       "5          comicsandpanels steve disk httpstcorsrdkvtm\n",
       "7    stay_mutuals gain stay mutual follow everyone ...\n",
       "Name: text, dtype: object"
      ]
     },
     "execution_count": 19,
     "metadata": {},
     "output_type": "execute_result"
    }
   ],
   "source": [
    "only_en_tweet['text'][:5].apply(lambda x: str(TextBlob(x).correct()))"
   ]
  },
  {
   "cell_type": "code",
   "execution_count": 20,
   "metadata": {},
   "outputs": [
    {
     "data": {
      "text/plain": [
       "2                   [enough, said, man, httpstcozhtlfsjvw]\n",
       "3        [rip, peace, middleurinalpod, sound, amazing, ...\n",
       "4        [sowizardpodcast, check, episode, podcast, gat...\n",
       "5        [comicsandpanels, steve, ditko, httpstcorsrdkvtm]\n",
       "7        [stay_mutuals, gain, stay, mutuals, follow, ev...\n",
       "8        [stanleeforever, remix, edm, marvelcomics, dub...\n",
       "9        [inspired, us, celebrate, years, httpstcoavlkm...\n",
       "12       [something, breathtaking, episode, dinnerpodca...\n",
       "13       [bspodnetwork, something, breathtaking, episod...\n",
       "14                [rap, de, en, via, youtube, thanks, fun]\n",
       "15       [wreckitralph, ralphwithzoom, join, win, immac...\n",
       "16       [fallenkiing, spiderman, fighting, jesus, get,...\n",
       "17       [chrisevans, never, another, decades, provided...\n",
       "18       [mistaperez, stanleeforever, remix, edm, marve...\n",
       "19       [salcomicbookpro, mural, popped, street, andre...\n",
       "20       [aar, lees, cameo, avengers, reapearing, dust,...\n",
       "21       [kellzallday, yesterday, completed, farewell, ...\n",
       "22       [shawnwarner, memorial, mural, popped, south, ...\n",
       "23       [birthday, wish, list, carbon, monoxide, candl...\n",
       "25       [infinitywarfans, rip, youll, never, forgotten...\n",
       "26       [shawnwarner, memorial, mural, popped, south, ...\n",
       "27       [studios, chief, kevin, feige, wrote, tribute,...\n",
       "28       [kevin, smith, reacts, bill, maher, taking, shot]\n",
       "29       [studios, chief, kevin, feige, recalled, final...\n",
       "30       [comicsandpanels, heck, dick, ayers, assembled...\n",
       "31       [studios, chief, kevin, feige, wrote, tribute,...\n",
       "32       [shawnwarner, memorial, mural, popped, south, ...\n",
       "33       [surgeofpower, rip, little, superheroes, imagi...\n",
       "34       [shingokaired, love, cant, sympathise, maher, ...\n",
       "35       [shawnwarner, memorial, mural, popped, south, ...\n",
       "                               ...                        \n",
       "12998                                                   []\n",
       "12999                                                   []\n",
       "13000    [captainresists, possessed, qualities, endowed...\n",
       "13001                                                   []\n",
       "13002                                                   []\n",
       "13003                                                   []\n",
       "13004    [captainresists, dizzle, shuriresists, donnano...\n",
       "13005    [mrscottlads, dizzle, shuriresists, donnanoble...\n",
       "13006    [mrscottlads, dizzle, shuriresists, donnanoble...\n",
       "13007    [prometheus_, dizzle, dolphin_resist, donnanob...\n",
       "13008                                                   []\n",
       "13009                                                   []\n",
       "13010                                                   []\n",
       "13011    [dizzle, shuriresists, donnanobleth, dolphin_r...\n",
       "13012                                                   []\n",
       "13013    [prometheus_, dizzle, dolphin_resist, donnanob...\n",
       "13014    [chrishemsworth, rip, friend, thank, incredibl...\n",
       "13015    [prometheus_, dizzle, dolphin_resist, donnanob...\n",
       "13016    [leslieweegee, year, lost, hawking, stefan, ka...\n",
       "13017                                                   []\n",
       "13018    [dizzle, time, party, purpose, please, join, u...\n",
       "13019    [dizzle, prolific, time, many, us, grew, readi...\n",
       "13020    [rip, x, deserve, picture, hawkins, httpstcoga...\n",
       "13021    [casablancaric, captainresists, prometheus_, d...\n",
       "13022    [dizzle, prolific, time, many, us, grew, readi...\n",
       "13023    [prometheus_, dizzle, dolphin_resist, donnanob...\n",
       "13024                                                   []\n",
       "13025                                                   []\n",
       "13026                                                   []\n",
       "13027                                                   []\n",
       "Name: text, Length: 11104, dtype: object"
      ]
     },
     "execution_count": 20,
     "metadata": {},
     "output_type": "execute_result"
    }
   ],
   "source": [
    "only_en_tweet['text'].apply(word_tokenize)"
   ]
  },
  {
   "cell_type": "code",
   "execution_count": 41,
   "metadata": {},
   "outputs": [],
   "source": [
    "only_en_tweet = only_en_tweet[only_en_tweet.text.apply(len) > 0]"
   ]
  },
  {
   "cell_type": "code",
   "execution_count": 42,
   "metadata": {},
   "outputs": [
    {
     "data": {
      "text/plain": [
       "(6516, 6599)"
      ]
     },
     "execution_count": 42,
     "metadata": {},
     "output_type": "execute_result"
    }
   ],
   "source": [
    "from sklearn.feature_extraction.text import CountVectorizer\n",
    "vect=CountVectorizer()\n",
    "bagofwords=vect.fit_transform(only_en_tweet['text']).toarray()\n",
    "bagofwords.shape"
   ]
  },
  {
   "cell_type": "code",
   "execution_count": 43,
   "metadata": {},
   "outputs": [
    {
     "data": {
      "text/plain": [
       "array([[0, 0, 0, ..., 0, 0, 0],\n",
       "       [0, 0, 0, ..., 0, 0, 0],\n",
       "       [0, 0, 0, ..., 0, 0, 0],\n",
       "       ...,\n",
       "       [0, 0, 0, ..., 0, 0, 0],\n",
       "       [0, 0, 0, ..., 0, 0, 0],\n",
       "       [0, 0, 0, ..., 0, 0, 0]], dtype=int64)"
      ]
     },
     "execution_count": 43,
     "metadata": {},
     "output_type": "execute_result"
    }
   ],
   "source": [
    "bagofwords"
   ]
  },
  {
   "cell_type": "code",
   "execution_count": 44,
   "metadata": {},
   "outputs": [
    {
     "data": {
      "text/plain": [
       "(6516, 6599)"
      ]
     },
     "execution_count": 44,
     "metadata": {},
     "output_type": "execute_result"
    }
   ],
   "source": [
    "X=pd.DataFrame(bagofwords,columns=vect.get_feature_names())\n",
    "X.shape"
   ]
  },
  {
   "cell_type": "code",
   "execution_count": 45,
   "metadata": {},
   "outputs": [
    {
     "data": {
      "text/html": [
       "<div>\n",
       "<style scoped>\n",
       "    .dataframe tbody tr th:only-of-type {\n",
       "        vertical-align: middle;\n",
       "    }\n",
       "\n",
       "    .dataframe tbody tr th {\n",
       "        vertical-align: top;\n",
       "    }\n",
       "\n",
       "    .dataframe thead th {\n",
       "        text-align: right;\n",
       "    }\n",
       "</style>\n",
       "<table border=\"1\" class=\"dataframe\">\n",
       "  <thead>\n",
       "    <tr style=\"text-align: right;\">\n",
       "      <th></th>\n",
       "      <th>sentiment</th>\n",
       "    </tr>\n",
       "  </thead>\n",
       "  <tbody>\n",
       "    <tr>\n",
       "      <th>2</th>\n",
       "      <td>neutral</td>\n",
       "    </tr>\n",
       "    <tr>\n",
       "      <th>3</th>\n",
       "      <td>positive</td>\n",
       "    </tr>\n",
       "    <tr>\n",
       "      <th>4</th>\n",
       "      <td>positive</td>\n",
       "    </tr>\n",
       "    <tr>\n",
       "      <th>5</th>\n",
       "      <td>neutral</td>\n",
       "    </tr>\n",
       "    <tr>\n",
       "      <th>7</th>\n",
       "      <td>neutral</td>\n",
       "    </tr>\n",
       "  </tbody>\n",
       "</table>\n",
       "</div>"
      ],
      "text/plain": [
       "  sentiment\n",
       "2   neutral\n",
       "3  positive\n",
       "4  positive\n",
       "5   neutral\n",
       "7   neutral"
      ]
     },
     "execution_count": 45,
     "metadata": {},
     "output_type": "execute_result"
    }
   ],
   "source": [
    "Y=pd.DataFrame(only_en_tweet['sentiment'])\n",
    "Y.head()"
   ]
  },
  {
   "cell_type": "code",
   "execution_count": 46,
   "metadata": {},
   "outputs": [
    {
     "data": {
      "text/plain": [
       "(6516, 1)"
      ]
     },
     "execution_count": 46,
     "metadata": {},
     "output_type": "execute_result"
    }
   ],
   "source": [
    "Y.shape"
   ]
  },
  {
   "cell_type": "code",
   "execution_count": 47,
   "metadata": {},
   "outputs": [],
   "source": [
    "from sklearn.model_selection import train_test_split  \n",
    "X_train, X_test, Y_train, Y_test = train_test_split(X, Y, test_size = 0.20)  "
   ]
  },
  {
   "cell_type": "code",
   "execution_count": 48,
   "metadata": {},
   "outputs": [],
   "source": [
    "from sklearn import metrics\n",
    "#the two naive bayes algorithms\n",
    "from sklearn.naive_bayes import GaussianNB \n",
    "from sklearn.naive_bayes import MultinomialNB"
   ]
  },
  {
   "cell_type": "code",
   "execution_count": 49,
   "metadata": {},
   "outputs": [],
   "source": [
    "algorithm_a=MultinomialNB()"
   ]
  },
  {
   "cell_type": "code",
   "execution_count": 50,
   "metadata": {},
   "outputs": [
    {
     "name": "stderr",
     "output_type": "stream",
     "text": [
      "/anaconda3/lib/python3.6/site-packages/sklearn/utils/validation.py:578: DataConversionWarning: A column-vector y was passed when a 1d array was expected. Please change the shape of y to (n_samples, ), for example using ravel().\n",
      "  y = column_or_1d(y, warn=True)\n"
     ]
    },
    {
     "data": {
      "text/plain": [
       "MultinomialNB(alpha=1.0, class_prior=None, fit_prior=True)"
      ]
     },
     "execution_count": 50,
     "metadata": {},
     "output_type": "execute_result"
    }
   ],
   "source": [
    "algorithm_a.fit(X_train,Y_train)"
   ]
  },
  {
   "cell_type": "code",
   "execution_count": 51,
   "metadata": {},
   "outputs": [],
   "source": [
    "output=algorithm_a.predict(X_test)"
   ]
  },
  {
   "cell_type": "code",
   "execution_count": 54,
   "metadata": {},
   "outputs": [
    {
     "data": {
      "text/plain": [
       "0.8397239263803681"
      ]
     },
     "execution_count": 54,
     "metadata": {},
     "output_type": "execute_result"
    }
   ],
   "source": [
    "metrics.accuracy_score(Y_test,output)"
   ]
  },
  {
   "cell_type": "code",
   "execution_count": 55,
   "metadata": {},
   "outputs": [
    {
     "data": {
      "text/plain": [
       "array([[112,   9,  22],\n",
       "       [ 44, 442,  56],\n",
       "       [ 54,  24, 541]])"
      ]
     },
     "execution_count": 55,
     "metadata": {},
     "output_type": "execute_result"
    }
   ],
   "source": [
    "metrics.confusion_matrix(Y_test,output)"
   ]
  },
  {
   "cell_type": "code",
   "execution_count": 56,
   "metadata": {},
   "outputs": [],
   "source": [
    "algorithm_b=GaussianNB()"
   ]
  },
  {
   "cell_type": "code",
   "execution_count": 57,
   "metadata": {},
   "outputs": [
    {
     "name": "stderr",
     "output_type": "stream",
     "text": [
      "/anaconda3/lib/python3.6/site-packages/sklearn/utils/validation.py:578: DataConversionWarning: A column-vector y was passed when a 1d array was expected. Please change the shape of y to (n_samples, ), for example using ravel().\n",
      "  y = column_or_1d(y, warn=True)\n"
     ]
    },
    {
     "data": {
      "text/plain": [
       "GaussianNB(priors=None)"
      ]
     },
     "execution_count": 57,
     "metadata": {},
     "output_type": "execute_result"
    }
   ],
   "source": [
    "algorithm_b.fit(X_train,Y_train)"
   ]
  },
  {
   "cell_type": "code",
   "execution_count": 58,
   "metadata": {},
   "outputs": [],
   "source": [
    "output1=algorithm_b.predict(X_test)"
   ]
  },
  {
   "cell_type": "code",
   "execution_count": 59,
   "metadata": {},
   "outputs": [
    {
     "data": {
      "text/plain": [
       "0.8343558282208589"
      ]
     },
     "execution_count": 59,
     "metadata": {},
     "output_type": "execute_result"
    }
   ],
   "source": [
    "metrics.accuracy_score(Y_test,output1)"
   ]
  },
  {
   "cell_type": "code",
   "execution_count": 60,
   "metadata": {},
   "outputs": [
    {
     "data": {
      "text/plain": [
       "array([[110,  12,  21],\n",
       "       [ 75, 429,  38],\n",
       "       [ 43,  27, 549]])"
      ]
     },
     "execution_count": 60,
     "metadata": {},
     "output_type": "execute_result"
    }
   ],
   "source": [
    "metrics.confusion_matrix(Y_test,output1)"
   ]
  },
  {
   "cell_type": "code",
   "execution_count": null,
   "metadata": {},
   "outputs": [],
   "source": []
  }
 ],
 "metadata": {
  "kernelspec": {
   "display_name": "Python 3",
   "language": "python",
   "name": "python3"
  },
  "language_info": {
   "codemirror_mode": {
    "name": "ipython",
    "version": 3
   },
   "file_extension": ".py",
   "mimetype": "text/x-python",
   "name": "python",
   "nbconvert_exporter": "python",
   "pygments_lexer": "ipython3",
   "version": "3.5.5"
  }
 },
 "nbformat": 4,
 "nbformat_minor": 2
}
